{
 "cells": [
  {
   "cell_type": "markdown",
   "metadata": {
    "id": "19O4MAoFHUjz"
   },
   "source": [
    "# Skeleton Code for the Final Project\n",
    "\n",
    "Github repo link: https://github.com/GSDSAML/prompt-engineering-2024fall/tree/main\n",
    "\n"
   ]
  },
  {
   "cell_type": "markdown",
   "metadata": {
    "id": "fMpyAl4IIV-o"
   },
   "source": [
    "## Leaderboard\n",
    "\n",
    "Leaderboard updated from the Github repo."
   ]
  },
  {
   "cell_type": "code",
   "execution_count": 1,
   "metadata": {
    "colab": {
     "base_uri": "https://localhost:8080/"
    },
    "id": "GIUdjZeSI4Mm",
    "outputId": "f83dcc2a-92a5-4cae-e84a-c0e79aef12cd"
   },
   "outputs": [
    {
     "name": "stdout",
     "output_type": "stream",
     "text": [
      "File downloaded successfully.\n"
     ]
    }
   ],
   "source": [
    "import requests\n",
    "\n",
    "url = \"https://raw.githubusercontent.com/GSDSAML/prompt-engineering-2024fall/refs/heads/main/final_project/leaderboard.csv\"\n",
    "response = requests.get(url)\n",
    "\n",
    "with open(\"leaderboard.csv\", \"wb\") as file:\n",
    "    file.write(response.content)\n",
    "\n",
    "print(\"File downloaded successfully.\")\n"
   ]
  },
  {
   "cell_type": "code",
   "execution_count": 2,
   "metadata": {
    "colab": {
     "base_uri": "https://localhost:8080/",
     "height": 125
    },
    "id": "a3zBj1nmKYmM",
    "outputId": "33db4c01-d9e2-4e82-814c-a78332342bf3"
   },
   "outputs": [
    {
     "data": {
      "text/html": [
       "<div>\n",
       "<style scoped>\n",
       "    .dataframe tbody tr th:only-of-type {\n",
       "        vertical-align: middle;\n",
       "    }\n",
       "\n",
       "    .dataframe tbody tr th {\n",
       "        vertical-align: top;\n",
       "    }\n",
       "\n",
       "    .dataframe thead th {\n",
       "        text-align: right;\n",
       "    }\n",
       "</style>\n",
       "<table border=\"1\" class=\"dataframe\">\n",
       "  <thead>\n",
       "    <tr style=\"text-align: right;\">\n",
       "      <th></th>\n",
       "      <th>group_number</th>\n",
       "      <th>score</th>\n",
       "      <th>ranking</th>\n",
       "      <th>update_dt</th>\n",
       "    </tr>\n",
       "  </thead>\n",
       "  <tbody>\n",
       "    <tr>\n",
       "      <th>0</th>\n",
       "      <td>0</td>\n",
       "      <td>0.2</td>\n",
       "      <td>1</td>\n",
       "      <td>2024-12-03</td>\n",
       "    </tr>\n",
       "    <tr>\n",
       "      <th>1</th>\n",
       "      <td>15</td>\n",
       "      <td>0.0</td>\n",
       "      <td>2</td>\n",
       "      <td>2024-12-03</td>\n",
       "    </tr>\n",
       "  </tbody>\n",
       "</table>\n",
       "</div>"
      ],
      "text/plain": [
       "   group_number  score  ranking   update_dt\n",
       "0             0    0.2        1  2024-12-03\n",
       "1            15    0.0        2  2024-12-03"
      ]
     },
     "execution_count": 2,
     "metadata": {},
     "output_type": "execute_result"
    }
   ],
   "source": [
    "import pandas as pd\n",
    "\n",
    "# Load the leaderboard.csv file into a pandas DataFrame.\n",
    "df = pd.read_csv('leaderboard.csv')\n",
    "\n",
    "df"
   ]
  },
  {
   "cell_type": "markdown",
   "metadata": {
    "id": "FYk79iGCtJ8N"
   },
   "source": [
    "## Data preparation"
   ]
  },
  {
   "cell_type": "markdown",
   "metadata": {
    "id": "7BA9geSeFrVk"
   },
   "source": [
    "### You can download the FinQA train and test set here"
   ]
  },
  {
   "cell_type": "code",
   "execution_count": 46,
   "metadata": {
    "colab": {
     "base_uri": "https://localhost:8080/"
    },
    "id": "PkWddz6XfEM-",
    "outputId": "7c61512e-f522-472d-b16c-095f94d5d973"
   },
   "outputs": [
    {
     "name": "stderr",
     "output_type": "stream",
     "text": [
      "'wget' ���O�����Υ~���R�O�B�i���檺�{���Χ妸�ɡC\n"
     ]
    }
   ],
   "source": [
    "!wget https://github.com/czyssrs/FinQA/raw/refs/heads/main/dataset/train.json"
   ]
  },
  {
   "cell_type": "code",
   "execution_count": 47,
   "metadata": {
    "colab": {
     "base_uri": "https://localhost:8080/"
    },
    "id": "qU9mfaittMPw",
    "outputId": "afb85201-3275-4eea-d790-b1655e81a432"
   },
   "outputs": [
    {
     "name": "stderr",
     "output_type": "stream",
     "text": [
      "'wget' ���O�����Υ~���R�O�B�i���檺�{���Χ妸�ɡC\n"
     ]
    }
   ],
   "source": [
    "!wget https://github.com/czyssrs/FinQA/raw/refs/heads/main/dataset/test.json"
   ]
  },
  {
   "cell_type": "markdown",
   "metadata": {
    "id": "JM1XarjUHjqf"
   },
   "source": [
    "## Environment Setup"
   ]
  },
  {
   "cell_type": "code",
   "execution_count": 3,
   "metadata": {
    "id": "JnqUcYp07ban"
   },
   "outputs": [
    {
     "name": "stderr",
     "output_type": "stream",
     "text": [
      "WARNING: Ignoring invalid distribution ~umpy (D:\\Users\\mindy\\anaconda3\\envs\\prompt\\Lib\\site-packages)\n",
      "WARNING: Ignoring invalid distribution ~umpy (D:\\Users\\mindy\\anaconda3\\envs\\prompt\\Lib\\site-packages)\n",
      "WARNING: Ignoring invalid distribution ~umpy (D:\\Users\\mindy\\anaconda3\\envs\\prompt\\Lib\\site-packages)\n"
     ]
    }
   ],
   "source": [
    "# Install langchain\n",
    "!pip install --quiet  langchain langchain-community langchainhub langchain-openai langchain-chroma bs4"
   ]
  },
  {
   "cell_type": "code",
   "execution_count": 49,
   "metadata": {
    "id": "VpEY7bVS3iMX"
   },
   "outputs": [
    {
     "name": "stdout",
     "output_type": "stream",
     "text": [
      "Found existing installation: openai 1.57.1\n",
      "Uninstalling openai-1.57.1:\n",
      "  Successfully uninstalled openai-1.57.1\n",
      "Found existing installation: langchain 0.3.10\n",
      "Uninstalling langchain-0.3.10:\n",
      "  Successfully uninstalled langchain-0.3.10\n",
      "Found existing installation: langchain-openai 0.2.12\n",
      "Uninstalling langchain-openai-0.2.12:\n",
      "  Successfully uninstalled langchain-openai-0.2.12\n",
      "Collecting openai==0.27.8\n",
      "  Using cached openai-0.27.8-py3-none-any.whl.metadata (13 kB)\n",
      "Requirement already satisfied: requests>=2.20 in d:\\users\\mindy\\anaconda3\\envs\\prompt\\lib\\site-packages (from openai==0.27.8) (2.32.3)\n",
      "Requirement already satisfied: tqdm in d:\\users\\mindy\\anaconda3\\envs\\prompt\\lib\\site-packages (from openai==0.27.8) (4.67.1)\n",
      "Requirement already satisfied: aiohttp in d:\\users\\mindy\\anaconda3\\envs\\prompt\\lib\\site-packages (from openai==0.27.8) (3.11.10)\n",
      "Requirement already satisfied: charset-normalizer<4,>=2 in d:\\users\\mindy\\anaconda3\\envs\\prompt\\lib\\site-packages (from requests>=2.20->openai==0.27.8) (3.4.0)\n",
      "Requirement already satisfied: idna<4,>=2.5 in d:\\users\\mindy\\anaconda3\\envs\\prompt\\lib\\site-packages (from requests>=2.20->openai==0.27.8) (3.10)\n",
      "Requirement already satisfied: urllib3<3,>=1.21.1 in d:\\users\\mindy\\anaconda3\\envs\\prompt\\lib\\site-packages (from requests>=2.20->openai==0.27.8) (2.2.3)\n",
      "Requirement already satisfied: certifi>=2017.4.17 in d:\\users\\mindy\\anaconda3\\envs\\prompt\\lib\\site-packages (from requests>=2.20->openai==0.27.8) (2024.8.30)\n",
      "Requirement already satisfied: aiohappyeyeballs>=2.3.0 in d:\\users\\mindy\\anaconda3\\envs\\prompt\\lib\\site-packages (from aiohttp->openai==0.27.8) (2.4.4)\n",
      "Requirement already satisfied: aiosignal>=1.1.2 in d:\\users\\mindy\\anaconda3\\envs\\prompt\\lib\\site-packages (from aiohttp->openai==0.27.8) (1.3.1)\n",
      "Requirement already satisfied: attrs>=17.3.0 in d:\\users\\mindy\\anaconda3\\envs\\prompt\\lib\\site-packages (from aiohttp->openai==0.27.8) (24.2.0)\n",
      "Requirement already satisfied: frozenlist>=1.1.1 in d:\\users\\mindy\\anaconda3\\envs\\prompt\\lib\\site-packages (from aiohttp->openai==0.27.8) (1.5.0)\n",
      "Requirement already satisfied: multidict<7.0,>=4.5 in d:\\users\\mindy\\anaconda3\\envs\\prompt\\lib\\site-packages (from aiohttp->openai==0.27.8) (6.1.0)\n",
      "Requirement already satisfied: propcache>=0.2.0 in d:\\users\\mindy\\anaconda3\\envs\\prompt\\lib\\site-packages (from aiohttp->openai==0.27.8) (0.2.1)\n",
      "Requirement already satisfied: yarl<2.0,>=1.17.0 in d:\\users\\mindy\\anaconda3\\envs\\prompt\\lib\\site-packages (from aiohttp->openai==0.27.8) (1.18.3)\n",
      "Requirement already satisfied: colorama in d:\\users\\mindy\\anaconda3\\envs\\prompt\\lib\\site-packages (from tqdm->openai==0.27.8) (0.4.6)\n",
      "Using cached openai-0.27.8-py3-none-any.whl (73 kB)\n",
      "Installing collected packages: openai\n",
      "Successfully installed openai-0.27.8\n"
     ]
    },
    {
     "name": "stderr",
     "output_type": "stream",
     "text": [
      "WARNING: Ignoring invalid distribution ~umpy (D:\\Users\\mindy\\anaconda3\\envs\\prompt\\Lib\\site-packages)\n",
      "WARNING: Ignoring invalid distribution ~umpy (D:\\Users\\mindy\\anaconda3\\envs\\prompt\\Lib\\site-packages)\n",
      "WARNING: Ignoring invalid distribution ~umpy (D:\\Users\\mindy\\anaconda3\\envs\\prompt\\Lib\\site-packages)\n"
     ]
    },
    {
     "name": "stdout",
     "output_type": "stream",
     "text": [
      "Collecting langchain\n",
      "  Downloading langchain-0.3.11-py3-none-any.whl.metadata (7.1 kB)\n",
      "Requirement already satisfied: PyYAML>=5.3 in d:\\users\\mindy\\anaconda3\\envs\\prompt\\lib\\site-packages (from langchain) (6.0.2)\n",
      "Requirement already satisfied: SQLAlchemy<3,>=1.4 in d:\\users\\mindy\\anaconda3\\envs\\prompt\\lib\\site-packages (from langchain) (2.0.36)\n",
      "Requirement already satisfied: aiohttp<4.0.0,>=3.8.3 in d:\\users\\mindy\\anaconda3\\envs\\prompt\\lib\\site-packages (from langchain) (3.11.10)\n",
      "Collecting langchain-core<0.4.0,>=0.3.24 (from langchain)\n",
      "  Downloading langchain_core-0.3.24-py3-none-any.whl.metadata (6.3 kB)\n",
      "Requirement already satisfied: langchain-text-splitters<0.4.0,>=0.3.0 in d:\\users\\mindy\\anaconda3\\envs\\prompt\\lib\\site-packages (from langchain) (0.3.2)\n",
      "Requirement already satisfied: langsmith<0.3,>=0.1.17 in d:\\users\\mindy\\anaconda3\\envs\\prompt\\lib\\site-packages (from langchain) (0.1.147)\n",
      "Requirement already satisfied: numpy<2,>=1.22.4 in c:\\users\\mindy\\appdata\\roaming\\python\\python311\\site-packages (from langchain) (1.26.4)\n",
      "Requirement already satisfied: pydantic<3.0.0,>=2.7.4 in d:\\users\\mindy\\anaconda3\\envs\\prompt\\lib\\site-packages (from langchain) (2.10.3)\n",
      "Requirement already satisfied: requests<3,>=2 in d:\\users\\mindy\\anaconda3\\envs\\prompt\\lib\\site-packages (from langchain) (2.32.3)\n",
      "Requirement already satisfied: tenacity!=8.4.0,<10,>=8.1.0 in d:\\users\\mindy\\anaconda3\\envs\\prompt\\lib\\site-packages (from langchain) (9.0.0)\n",
      "Requirement already satisfied: aiohappyeyeballs>=2.3.0 in d:\\users\\mindy\\anaconda3\\envs\\prompt\\lib\\site-packages (from aiohttp<4.0.0,>=3.8.3->langchain) (2.4.4)\n",
      "Requirement already satisfied: aiosignal>=1.1.2 in d:\\users\\mindy\\anaconda3\\envs\\prompt\\lib\\site-packages (from aiohttp<4.0.0,>=3.8.3->langchain) (1.3.1)\n",
      "Requirement already satisfied: attrs>=17.3.0 in d:\\users\\mindy\\anaconda3\\envs\\prompt\\lib\\site-packages (from aiohttp<4.0.0,>=3.8.3->langchain) (24.2.0)\n",
      "Requirement already satisfied: frozenlist>=1.1.1 in d:\\users\\mindy\\anaconda3\\envs\\prompt\\lib\\site-packages (from aiohttp<4.0.0,>=3.8.3->langchain) (1.5.0)\n",
      "Requirement already satisfied: multidict<7.0,>=4.5 in d:\\users\\mindy\\anaconda3\\envs\\prompt\\lib\\site-packages (from aiohttp<4.0.0,>=3.8.3->langchain) (6.1.0)\n",
      "Requirement already satisfied: propcache>=0.2.0 in d:\\users\\mindy\\anaconda3\\envs\\prompt\\lib\\site-packages (from aiohttp<4.0.0,>=3.8.3->langchain) (0.2.1)\n",
      "Requirement already satisfied: yarl<2.0,>=1.17.0 in d:\\users\\mindy\\anaconda3\\envs\\prompt\\lib\\site-packages (from aiohttp<4.0.0,>=3.8.3->langchain) (1.18.3)\n",
      "Requirement already satisfied: jsonpatch<2.0,>=1.33 in d:\\users\\mindy\\anaconda3\\envs\\prompt\\lib\\site-packages (from langchain-core<0.4.0,>=0.3.24->langchain) (1.33)\n",
      "Requirement already satisfied: packaging<25,>=23.2 in d:\\users\\mindy\\anaconda3\\envs\\prompt\\lib\\site-packages (from langchain-core<0.4.0,>=0.3.24->langchain) (24.2)\n",
      "Requirement already satisfied: typing-extensions>=4.7 in d:\\users\\mindy\\anaconda3\\envs\\prompt\\lib\\site-packages (from langchain-core<0.4.0,>=0.3.24->langchain) (4.12.2)\n",
      "Requirement already satisfied: httpx<1,>=0.23.0 in d:\\users\\mindy\\anaconda3\\envs\\prompt\\lib\\site-packages (from langsmith<0.3,>=0.1.17->langchain) (0.28.1)\n",
      "Requirement already satisfied: orjson<4.0.0,>=3.9.14 in d:\\users\\mindy\\anaconda3\\envs\\prompt\\lib\\site-packages (from langsmith<0.3,>=0.1.17->langchain) (3.10.12)\n",
      "Requirement already satisfied: requests-toolbelt<2.0.0,>=1.0.0 in d:\\users\\mindy\\anaconda3\\envs\\prompt\\lib\\site-packages (from langsmith<0.3,>=0.1.17->langchain) (1.0.0)\n",
      "Requirement already satisfied: annotated-types>=0.6.0 in d:\\users\\mindy\\anaconda3\\envs\\prompt\\lib\\site-packages (from pydantic<3.0.0,>=2.7.4->langchain) (0.7.0)\n",
      "Requirement already satisfied: pydantic-core==2.27.1 in d:\\users\\mindy\\anaconda3\\envs\\prompt\\lib\\site-packages (from pydantic<3.0.0,>=2.7.4->langchain) (2.27.1)\n",
      "Requirement already satisfied: charset-normalizer<4,>=2 in d:\\users\\mindy\\anaconda3\\envs\\prompt\\lib\\site-packages (from requests<3,>=2->langchain) (3.4.0)\n",
      "Requirement already satisfied: idna<4,>=2.5 in d:\\users\\mindy\\anaconda3\\envs\\prompt\\lib\\site-packages (from requests<3,>=2->langchain) (3.10)\n",
      "Requirement already satisfied: urllib3<3,>=1.21.1 in d:\\users\\mindy\\anaconda3\\envs\\prompt\\lib\\site-packages (from requests<3,>=2->langchain) (2.2.3)\n",
      "Requirement already satisfied: certifi>=2017.4.17 in d:\\users\\mindy\\anaconda3\\envs\\prompt\\lib\\site-packages (from requests<3,>=2->langchain) (2024.8.30)\n",
      "Requirement already satisfied: greenlet!=0.4.17 in d:\\users\\mindy\\anaconda3\\envs\\prompt\\lib\\site-packages (from SQLAlchemy<3,>=1.4->langchain) (3.1.1)\n",
      "Requirement already satisfied: anyio in d:\\users\\mindy\\anaconda3\\envs\\prompt\\lib\\site-packages (from httpx<1,>=0.23.0->langsmith<0.3,>=0.1.17->langchain) (4.7.0)\n",
      "Requirement already satisfied: httpcore==1.* in d:\\users\\mindy\\anaconda3\\envs\\prompt\\lib\\site-packages (from httpx<1,>=0.23.0->langsmith<0.3,>=0.1.17->langchain) (1.0.7)\n",
      "Requirement already satisfied: h11<0.15,>=0.13 in d:\\users\\mindy\\anaconda3\\envs\\prompt\\lib\\site-packages (from httpcore==1.*->httpx<1,>=0.23.0->langsmith<0.3,>=0.1.17->langchain) (0.14.0)\n",
      "Requirement already satisfied: jsonpointer>=1.9 in d:\\users\\mindy\\anaconda3\\envs\\prompt\\lib\\site-packages (from jsonpatch<2.0,>=1.33->langchain-core<0.4.0,>=0.3.24->langchain) (3.0.0)\n",
      "Requirement already satisfied: sniffio>=1.1 in d:\\users\\mindy\\anaconda3\\envs\\prompt\\lib\\site-packages (from anyio->httpx<1,>=0.23.0->langsmith<0.3,>=0.1.17->langchain) (1.3.1)\n",
      "Downloading langchain-0.3.11-py3-none-any.whl (1.0 MB)\n",
      "   ---------------------------------------- 0.0/1.0 MB ? eta -:--:--\n",
      "   ---------------------------------------- 1.0/1.0 MB 15.9 MB/s eta 0:00:00\n",
      "Downloading langchain_core-0.3.24-py3-none-any.whl (410 kB)\n",
      "Installing collected packages: langchain-core, langchain\n",
      "  Attempting uninstall: langchain-core\n",
      "    Found existing installation: langchain-core 0.3.22\n",
      "    Uninstalling langchain-core-0.3.22:\n",
      "      Successfully uninstalled langchain-core-0.3.22\n",
      "Successfully installed langchain-0.3.11 langchain-core-0.3.24\n"
     ]
    },
    {
     "name": "stderr",
     "output_type": "stream",
     "text": [
      "WARNING: Ignoring invalid distribution ~umpy (D:\\Users\\mindy\\anaconda3\\envs\\prompt\\Lib\\site-packages)\n",
      "WARNING: Ignoring invalid distribution ~umpy (D:\\Users\\mindy\\anaconda3\\envs\\prompt\\Lib\\site-packages)\n",
      "WARNING: Ignoring invalid distribution ~umpy (D:\\Users\\mindy\\anaconda3\\envs\\prompt\\Lib\\site-packages)\n"
     ]
    },
    {
     "name": "stdout",
     "output_type": "stream",
     "text": [
      "Collecting langchain-openai\n",
      "  Using cached langchain_openai-0.2.12-py3-none-any.whl.metadata (2.7 kB)\n",
      "Requirement already satisfied: langchain-core<0.4.0,>=0.3.21 in d:\\users\\mindy\\anaconda3\\envs\\prompt\\lib\\site-packages (from langchain-openai) (0.3.24)\n",
      "Collecting openai<2.0.0,>=1.55.3 (from langchain-openai)\n",
      "  Downloading openai-1.57.2-py3-none-any.whl.metadata (24 kB)\n",
      "Requirement already satisfied: tiktoken<1,>=0.7 in d:\\users\\mindy\\anaconda3\\envs\\prompt\\lib\\site-packages (from langchain-openai) (0.8.0)\n",
      "Requirement already satisfied: PyYAML>=5.3 in d:\\users\\mindy\\anaconda3\\envs\\prompt\\lib\\site-packages (from langchain-core<0.4.0,>=0.3.21->langchain-openai) (6.0.2)\n",
      "Requirement already satisfied: jsonpatch<2.0,>=1.33 in d:\\users\\mindy\\anaconda3\\envs\\prompt\\lib\\site-packages (from langchain-core<0.4.0,>=0.3.21->langchain-openai) (1.33)\n",
      "Requirement already satisfied: langsmith<0.3,>=0.1.125 in d:\\users\\mindy\\anaconda3\\envs\\prompt\\lib\\site-packages (from langchain-core<0.4.0,>=0.3.21->langchain-openai) (0.1.147)\n",
      "Requirement already satisfied: packaging<25,>=23.2 in d:\\users\\mindy\\anaconda3\\envs\\prompt\\lib\\site-packages (from langchain-core<0.4.0,>=0.3.21->langchain-openai) (24.2)\n",
      "Requirement already satisfied: pydantic<3.0.0,>=2.5.2 in d:\\users\\mindy\\anaconda3\\envs\\prompt\\lib\\site-packages (from langchain-core<0.4.0,>=0.3.21->langchain-openai) (2.10.3)\n",
      "Requirement already satisfied: tenacity!=8.4.0,<10.0.0,>=8.1.0 in d:\\users\\mindy\\anaconda3\\envs\\prompt\\lib\\site-packages (from langchain-core<0.4.0,>=0.3.21->langchain-openai) (9.0.0)\n",
      "Requirement already satisfied: typing-extensions>=4.7 in d:\\users\\mindy\\anaconda3\\envs\\prompt\\lib\\site-packages (from langchain-core<0.4.0,>=0.3.21->langchain-openai) (4.12.2)\n",
      "Requirement already satisfied: anyio<5,>=3.5.0 in d:\\users\\mindy\\anaconda3\\envs\\prompt\\lib\\site-packages (from openai<2.0.0,>=1.55.3->langchain-openai) (4.7.0)\n",
      "Requirement already satisfied: distro<2,>=1.7.0 in d:\\users\\mindy\\anaconda3\\envs\\prompt\\lib\\site-packages (from openai<2.0.0,>=1.55.3->langchain-openai) (1.9.0)\n",
      "Requirement already satisfied: httpx<1,>=0.23.0 in d:\\users\\mindy\\anaconda3\\envs\\prompt\\lib\\site-packages (from openai<2.0.0,>=1.55.3->langchain-openai) (0.28.1)\n",
      "Requirement already satisfied: jiter<1,>=0.4.0 in d:\\users\\mindy\\anaconda3\\envs\\prompt\\lib\\site-packages (from openai<2.0.0,>=1.55.3->langchain-openai) (0.8.2)\n",
      "Requirement already satisfied: sniffio in d:\\users\\mindy\\anaconda3\\envs\\prompt\\lib\\site-packages (from openai<2.0.0,>=1.55.3->langchain-openai) (1.3.1)\n",
      "Requirement already satisfied: tqdm>4 in d:\\users\\mindy\\anaconda3\\envs\\prompt\\lib\\site-packages (from openai<2.0.0,>=1.55.3->langchain-openai) (4.67.1)\n",
      "Requirement already satisfied: regex>=2022.1.18 in d:\\users\\mindy\\anaconda3\\envs\\prompt\\lib\\site-packages (from tiktoken<1,>=0.7->langchain-openai) (2024.11.6)\n",
      "Requirement already satisfied: requests>=2.26.0 in d:\\users\\mindy\\anaconda3\\envs\\prompt\\lib\\site-packages (from tiktoken<1,>=0.7->langchain-openai) (2.32.3)\n",
      "Requirement already satisfied: idna>=2.8 in d:\\users\\mindy\\anaconda3\\envs\\prompt\\lib\\site-packages (from anyio<5,>=3.5.0->openai<2.0.0,>=1.55.3->langchain-openai) (3.10)\n",
      "Requirement already satisfied: certifi in d:\\users\\mindy\\anaconda3\\envs\\prompt\\lib\\site-packages (from httpx<1,>=0.23.0->openai<2.0.0,>=1.55.3->langchain-openai) (2024.8.30)\n",
      "Requirement already satisfied: httpcore==1.* in d:\\users\\mindy\\anaconda3\\envs\\prompt\\lib\\site-packages (from httpx<1,>=0.23.0->openai<2.0.0,>=1.55.3->langchain-openai) (1.0.7)\n",
      "Requirement already satisfied: h11<0.15,>=0.13 in d:\\users\\mindy\\anaconda3\\envs\\prompt\\lib\\site-packages (from httpcore==1.*->httpx<1,>=0.23.0->openai<2.0.0,>=1.55.3->langchain-openai) (0.14.0)\n",
      "Requirement already satisfied: jsonpointer>=1.9 in d:\\users\\mindy\\anaconda3\\envs\\prompt\\lib\\site-packages (from jsonpatch<2.0,>=1.33->langchain-core<0.4.0,>=0.3.21->langchain-openai) (3.0.0)\n",
      "Requirement already satisfied: orjson<4.0.0,>=3.9.14 in d:\\users\\mindy\\anaconda3\\envs\\prompt\\lib\\site-packages (from langsmith<0.3,>=0.1.125->langchain-core<0.4.0,>=0.3.21->langchain-openai) (3.10.12)\n",
      "Requirement already satisfied: requests-toolbelt<2.0.0,>=1.0.0 in d:\\users\\mindy\\anaconda3\\envs\\prompt\\lib\\site-packages (from langsmith<0.3,>=0.1.125->langchain-core<0.4.0,>=0.3.21->langchain-openai) (1.0.0)\n",
      "Requirement already satisfied: annotated-types>=0.6.0 in d:\\users\\mindy\\anaconda3\\envs\\prompt\\lib\\site-packages (from pydantic<3.0.0,>=2.5.2->langchain-core<0.4.0,>=0.3.21->langchain-openai) (0.7.0)\n",
      "Requirement already satisfied: pydantic-core==2.27.1 in d:\\users\\mindy\\anaconda3\\envs\\prompt\\lib\\site-packages (from pydantic<3.0.0,>=2.5.2->langchain-core<0.4.0,>=0.3.21->langchain-openai) (2.27.1)\n",
      "Requirement already satisfied: charset-normalizer<4,>=2 in d:\\users\\mindy\\anaconda3\\envs\\prompt\\lib\\site-packages (from requests>=2.26.0->tiktoken<1,>=0.7->langchain-openai) (3.4.0)\n",
      "Requirement already satisfied: urllib3<3,>=1.21.1 in d:\\users\\mindy\\anaconda3\\envs\\prompt\\lib\\site-packages (from requests>=2.26.0->tiktoken<1,>=0.7->langchain-openai) (2.2.3)\n",
      "Requirement already satisfied: colorama in d:\\users\\mindy\\anaconda3\\envs\\prompt\\lib\\site-packages (from tqdm>4->openai<2.0.0,>=1.55.3->langchain-openai) (0.4.6)\n",
      "Using cached langchain_openai-0.2.12-py3-none-any.whl (50 kB)\n",
      "Downloading openai-1.57.2-py3-none-any.whl (389 kB)\n",
      "Installing collected packages: openai, langchain-openai\n",
      "  Attempting uninstall: openai\n",
      "    Found existing installation: openai 0.27.8\n",
      "    Uninstalling openai-0.27.8:\n",
      "      Successfully uninstalled openai-0.27.8\n",
      "Successfully installed langchain-openai-0.2.12 openai-1.57.2\n"
     ]
    },
    {
     "name": "stderr",
     "output_type": "stream",
     "text": [
      "WARNING: Ignoring invalid distribution ~umpy (D:\\Users\\mindy\\anaconda3\\envs\\prompt\\Lib\\site-packages)\n",
      "WARNING: Ignoring invalid distribution ~umpy (D:\\Users\\mindy\\anaconda3\\envs\\prompt\\Lib\\site-packages)\n",
      "WARNING: Ignoring invalid distribution ~umpy (D:\\Users\\mindy\\anaconda3\\envs\\prompt\\Lib\\site-packages)\n"
     ]
    }
   ],
   "source": [
    "!pip uninstall -y openai langchain langchain-openai\n",
    "!pip install openai==0.27.8\n",
    "!pip install langchain\n",
    "!pip install langchain-openai"
   ]
  },
  {
   "cell_type": "markdown",
   "metadata": {
    "id": "AybAbPJsMJFH"
   },
   "source": [
    "### Set API key"
   ]
  },
  {
   "cell_type": "code",
   "execution_count": 4,
   "metadata": {
    "id": "dNgq1RVvMLkh"
   },
   "outputs": [],
   "source": []
  },
  {
   "cell_type": "markdown",
   "metadata": {
    "id": "44i0fn9TMQHV"
   },
   "source": [
    "### Prepare model"
   ]
  },
  {
   "cell_type": "code",
   "execution_count": 38,
   "metadata": {
    "id": "-oDeBNrKkb7l"
   },
   "outputs": [],
   "source": [
    "# Prepare model\n",
    "from langchain_openai import ChatOpenAI\n",
    "\n",
    "llm = ChatOpenAI(model=\"gpt-4o-mini\", temperature=0.0, api_key=OPENAI_API_KEY)"
   ]
  },
  {
   "cell_type": "markdown",
   "metadata": {
    "id": "Nt_8KIg1LulJ"
   },
   "source": [
    "## Data Preparation"
   ]
  },
  {
   "cell_type": "markdown",
   "metadata": {
    "id": "6E-jaNPlP5O6"
   },
   "source": [
    "### Download and unzip backup vector DB\n",
    "\n",
    "*   Source dataset: [FinQA](https://finqasite.github.io/)\n",
    "*   EDA for the FinQA dataset: https://medium.com/@sohilsharma1996/finqa-project-numerical-reasoning-over-financial-data-77a3fb4133d2\n",
    "\n",
    "You can build your own vector DB for retrieval."
   ]
  },
  {
   "cell_type": "code",
   "execution_count": 52,
   "metadata": {
    "colab": {
     "base_uri": "https://localhost:8080/"
    },
    "id": "JVDMQIK22yBC",
    "outputId": "8d0607a3-549c-4dd5-918b-f9ee8b848282"
   },
   "outputs": [
    {
     "name": "stderr",
     "output_type": "stream",
     "text": [
      "'wget' ���O�����Υ~���R�O�B�i���檺�{���Χ妸�ɡC\n"
     ]
    }
   ],
   "source": [
    "!wget https://github.com/GSDSAML/prompt-engineering-2024fall/raw/refs/heads/main/final_project/db.zip"
   ]
  },
  {
   "cell_type": "code",
   "execution_count": 53,
   "metadata": {
    "colab": {
     "base_uri": "https://localhost:8080/"
    },
    "id": "3jbbxmA_LsOi",
    "outputId": "0e9e6e03-dad5-4098-929b-a181e0538ac2"
   },
   "outputs": [
    {
     "name": "stderr",
     "output_type": "stream",
     "text": [
      "'unzip' ���O�����Υ~���R�O�B�i���檺�{���Χ妸�ɡC\n"
     ]
    }
   ],
   "source": [
    "!unzip db.zip"
   ]
  },
  {
   "cell_type": "markdown",
   "metadata": {
    "id": "TygXV4kiPoSe"
   },
   "source": [
    "### Fiscal year end date dictionary\n",
    "\n",
    "Collected from SEC EDGAR\n",
    "\n",
    "Dictionary with Key(ticker): Value(Fiscal year end date)\n",
    "\n",
    "Actually, the date may different every year, but we will use this for now."
   ]
  },
  {
   "cell_type": "code",
   "execution_count": 13,
   "metadata": {
    "id": "g8rLfgccqo4h"
   },
   "outputs": [],
   "source": [
    "company_fiscal_year_end = {'GIS': '0530', 'FRT': '1231', 'MMM': '1231', 'K': '1228', 'INTC': '1228', 'CAG': '0525', 'MSI': '1231', 'FIS': '1231', 'CCI': '1231', 'CDW': '1231', 'GPN': '1231', 'TMUS': '1231', 'D': '1231', 'KMI': '1231', 'NTAP': '0426', 'TSCO': '1230', 'BLK': '1231', 'CNC': '1231', 'MRK': '1231', 'JKHY': '0630', 'VTR': '1231', 'GRMN': '1228', 'AMT': '1231', 'MAR': '1231', 'HIG': '1231', 'ADI': '1102', 'ILMN': '1229', 'NKE': '0531', 'VNO': '1231', 'FITB': '1231', 'ETR': '1231', 'KIM': '1231', 'AMAT': '1027', 'OKE': '1231', 'DG': '0131', 'TFX': '1231', 'AAL': '1231', 'EXPD': '1231', 'V': '0930', 'REGN': '1231', 'PPG': '1231', 'RCL': '1231', 'VLO': '1231', 'KHC': '1228', 'HUM': '1231', 'WELL': '1231', 'ALLE': '1231', 'UNP': '1231', 'LLY': '1231', 'TXN': '1231', 'GS': '1231', 'LKQ': '1231', 'SYY': '0629', 'IPG': '1231', 'AAP': '1228', 'ECL': '1231', 'MKTX': '1231', 'C': '1231', 'ZBH': '1231', 'UAA': '0331', 'MRO': '1231', 'AON': '1231', 'SPGI': '1231', 'ORLY': '1231', 'MO': '1231', 'PM': '1231', 'BKNG': '1231', 'BKR': '1231', 'AWK': '1231', 'APTV': '1231', 'WRK': '0930', 'SWKS': '0927', 'CMCSA': '1231', 'CE': '1231', 'CB': '1231', 'WMT': '0131', 'STT': '1231', 'RSG': '1231', 'AOS': '1231', 'AAPL': '0928', 'EXR': '1231', 'UA': '0331', 'CME': '1231', 'HII': '1231', 'HOLX': '0928', 'SLB': '1231', 'EW': '1231', 'EMR': '0930', 'VRTX': '1231', 'APD': '0930', 'ADBE': '1129', 'CAT': '1231', 'PNC': '1231', 'MAA': '1231', 'AES': '1231', 'SNA': '1228', 'JPM': '1231', 'NCLH': '1231', 'PKG': '1231', 'TROW': '1231', 'HST': '1231', 'NWS': '0630', 'MA': '1231', 'DVN': '1231', 'ANSS': '1231', 'ANET': '1231', 'SNPS': '1031', 'RL': '0328', 'DISH': '1231', 'HWM': '1231', 'FTV': '1231', 'L': '1231', 'LMT': '1231', 'MAS': '1231', 'STZ': '0228', 'EMN': '1231', 'CDNS': '1231', 'EL': '0630', 'SLG': '1231', 'BDX': '0930', 'UPS': '1231', 'MS': '1231', 'IQV': '1231', 'IP': '1231', 'EOG': '1231'}"
   ]
  },
  {
   "cell_type": "markdown",
   "metadata": {
    "id": "ZNZo8fc5P0Ea"
   },
   "source": [
    "## Define Tools"
   ]
  },
  {
   "cell_type": "markdown",
   "metadata": {
    "id": "dn7_THCzRWY7"
   },
   "source": [
    "### LangChain Tool Use Example\n",
    "\n",
    "List of pre-defined tools in LangChain: https://python.langchain.com/docs/integrations/tools/"
   ]
  },
  {
   "cell_type": "code",
   "execution_count": 6,
   "metadata": {
    "colab": {
     "base_uri": "https://localhost:8080/"
    },
    "id": "MdLyOCHIdEbt",
    "outputId": "b07488f9-2aec-4b3e-82a9-baa7b4b735f5"
   },
   "outputs": [
    {
     "name": "stdout",
     "output_type": "stream",
     "text": [
      "multiply\n",
      "Multiply two numbers.\n",
      "{'a': {'title': 'A', 'type': 'integer'}, 'b': {'title': 'B', 'type': 'integer'}}\n",
      "add\n",
      "Add two integers.\n",
      "{'a': {'title': 'A', 'type': 'integer'}, 'b': {'title': 'B', 'type': 'integer'}}\n"
     ]
    }
   ],
   "source": [
    "from langchain_core.tools import tool\n",
    "\n",
    "\n",
    "@tool\n",
    "def multiply(a: int, b: int) -> int:\n",
    "    \"\"\"Multiply two numbers.\"\"\"\n",
    "    return a * b\n",
    "\n",
    "\n",
    "# Let's inspect some of the attributes associated with the tool.\n",
    "print(multiply.name)\n",
    "print(multiply.description)\n",
    "print(multiply.args)\n",
    "\n",
    "@tool\n",
    "def add(a: int, b: int) -> int:\n",
    "    \"\"\"Add two integers.\"\"\"\n",
    "    return a + b\n",
    "\n",
    "print(add.name)\n",
    "print(add.description)\n",
    "print(add.args)"
   ]
  },
  {
   "cell_type": "code",
   "execution_count": 7,
   "metadata": {
    "id": "NpFIzwndaQtg"
   },
   "outputs": [],
   "source": [
    "tools = [add, multiply]"
   ]
  },
  {
   "cell_type": "code",
   "execution_count": 8,
   "metadata": {
    "colab": {
     "base_uri": "https://localhost:8080/"
    },
    "id": "mp1jDdlbdYa-",
    "outputId": "d483cfc8-6f74-434a-de70-fe1cb969031c"
   },
   "outputs": [
    {
     "data": {
      "text/plain": [
       "[{'name': 'multiply',\n",
       "  'args': {'a': 3, 'b': 12},\n",
       "  'id': 'call_rMgJPI6TMp3dKaOJ6zsvNpdW',\n",
       "  'type': 'tool_call'}]"
      ]
     },
     "execution_count": 8,
     "metadata": {},
     "output_type": "execute_result"
    }
   ],
   "source": [
    "llm_with_tools = llm.bind_tools(tools)\n",
    "\n",
    "query = \"What is 3 * 12?\"\n",
    "\n",
    "llm_with_tools.invoke(query).tool_calls"
   ]
  },
  {
   "cell_type": "code",
   "execution_count": 9,
   "metadata": {
    "colab": {
     "base_uri": "https://localhost:8080/"
    },
    "id": "QTbFn1r3R2wH",
    "outputId": "d124a993-b08f-452d-8a88-b9e1926e2aa4"
   },
   "outputs": [
    {
     "name": "stdout",
     "output_type": "stream",
     "text": [
      "[{'name': 'multiply', 'args': {'a': 3, 'b': 12}, 'id': 'call_W83o7WYGlfZ2zAHrvNFO7uME', 'type': 'tool_call'}, {'name': 'add', 'args': {'a': 11, 'b': 49}, 'id': 'call_wu5Vr0pJqktfq9SqG71GyXZI', 'type': 'tool_call'}]\n"
     ]
    }
   ],
   "source": [
    "from langchain_core.messages import HumanMessage\n",
    "\n",
    "query = \"What is 3 * 12? Also, what is 11 + 49?\"\n",
    "\n",
    "messages = [HumanMessage(query)]\n",
    "\n",
    "ai_msg = llm_with_tools.invoke(messages)\n",
    "\n",
    "print(ai_msg.tool_calls)\n",
    "\n",
    "messages.append(ai_msg)"
   ]
  },
  {
   "cell_type": "code",
   "execution_count": 10,
   "metadata": {
    "colab": {
     "base_uri": "https://localhost:8080/"
    },
    "id": "EavFjCRGSfRz",
    "outputId": "79a3af3e-76f8-4cf2-fa56-333d33359145"
   },
   "outputs": [
    {
     "data": {
      "text/plain": [
       "[HumanMessage(content='What is 3 * 12? Also, what is 11 + 49?', additional_kwargs={}, response_metadata={}),\n",
       " AIMessage(content='', additional_kwargs={'tool_calls': [{'id': 'call_W83o7WYGlfZ2zAHrvNFO7uME', 'function': {'arguments': '{\"a\": 3, \"b\": 12}', 'name': 'multiply'}, 'type': 'function'}, {'id': 'call_wu5Vr0pJqktfq9SqG71GyXZI', 'function': {'arguments': '{\"a\": 11, \"b\": 49}', 'name': 'add'}, 'type': 'function'}], 'refusal': None}, response_metadata={'token_usage': {'completion_tokens': 50, 'prompt_tokens': 83, 'total_tokens': 133, 'completion_tokens_details': {'accepted_prediction_tokens': 0, 'audio_tokens': 0, 'reasoning_tokens': 0, 'rejected_prediction_tokens': 0}, 'prompt_tokens_details': {'audio_tokens': 0, 'cached_tokens': 0}}, 'model_name': 'gpt-4o-mini-2024-07-18', 'system_fingerprint': 'fp_6fc10e10eb', 'finish_reason': 'tool_calls', 'logprobs': None}, id='run-e4079cbc-af57-4ebb-92b8-dde4eab9646b-0', tool_calls=[{'name': 'multiply', 'args': {'a': 3, 'b': 12}, 'id': 'call_W83o7WYGlfZ2zAHrvNFO7uME', 'type': 'tool_call'}, {'name': 'add', 'args': {'a': 11, 'b': 49}, 'id': 'call_wu5Vr0pJqktfq9SqG71GyXZI', 'type': 'tool_call'}], usage_metadata={'input_tokens': 83, 'output_tokens': 50, 'total_tokens': 133, 'input_token_details': {'audio': 0, 'cache_read': 0}, 'output_token_details': {'audio': 0, 'reasoning': 0}}),\n",
       " ToolMessage(content='36', name='multiply', tool_call_id='call_W83o7WYGlfZ2zAHrvNFO7uME'),\n",
       " ToolMessage(content='60', name='add', tool_call_id='call_wu5Vr0pJqktfq9SqG71GyXZI')]"
      ]
     },
     "execution_count": 10,
     "metadata": {},
     "output_type": "execute_result"
    }
   ],
   "source": [
    "for tool_call in ai_msg.tool_calls:\n",
    "    selected_tool = {\"add\": add, \"multiply\": multiply}[tool_call[\"name\"].lower()]\n",
    "    tool_msg = selected_tool.invoke(tool_call)\n",
    "    messages.append(tool_msg)\n",
    "\n",
    "messages"
   ]
  },
  {
   "cell_type": "code",
   "execution_count": 11,
   "metadata": {
    "colab": {
     "base_uri": "https://localhost:8080/",
     "height": 36
    },
    "id": "4OW5A9F9SgVv",
    "outputId": "48ce8464-e39e-4862-e973-039a54c4ed9a"
   },
   "outputs": [
    {
     "data": {
      "text/plain": [
       "'The result of \\\\(3 \\\\times 12\\\\) is 36, and the result of \\\\(11 + 49\\\\) is 60.'"
      ]
     },
     "execution_count": 11,
     "metadata": {},
     "output_type": "execute_result"
    }
   ],
   "source": [
    "llm_with_tools.invoke(messages).content"
   ]
  },
  {
   "cell_type": "markdown",
   "metadata": {
    "id": "8WJZgyasgOO-"
   },
   "source": [
    "### Extract fiscal tool"
   ]
  },
  {
   "cell_type": "code",
   "execution_count": 14,
   "metadata": {
    "colab": {
     "base_uri": "https://localhost:8080/"
    },
    "id": "7f4Gox8K--TB",
    "outputId": "0bcbb2e3-f5b5-4ffe-b661-c756cd31a403"
   },
   "outputs": [
    {
     "data": {
      "text/plain": [
       "{'GIS': '0530',\n",
       " 'FRT': '1231',\n",
       " 'MMM': '1231',\n",
       " 'K': '1228',\n",
       " 'INTC': '1228',\n",
       " 'CAG': '0525',\n",
       " 'MSI': '1231',\n",
       " 'FIS': '1231',\n",
       " 'CCI': '1231',\n",
       " 'CDW': '1231',\n",
       " 'GPN': '1231',\n",
       " 'TMUS': '1231',\n",
       " 'D': '1231',\n",
       " 'KMI': '1231',\n",
       " 'NTAP': '0426',\n",
       " 'TSCO': '1230',\n",
       " 'BLK': '1231',\n",
       " 'CNC': '1231',\n",
       " 'MRK': '1231',\n",
       " 'JKHY': '0630',\n",
       " 'VTR': '1231',\n",
       " 'GRMN': '1228',\n",
       " 'AMT': '1231',\n",
       " 'MAR': '1231',\n",
       " 'HIG': '1231',\n",
       " 'ADI': '1102',\n",
       " 'ILMN': '1229',\n",
       " 'NKE': '0531',\n",
       " 'VNO': '1231',\n",
       " 'FITB': '1231',\n",
       " 'ETR': '1231',\n",
       " 'KIM': '1231',\n",
       " 'AMAT': '1027',\n",
       " 'OKE': '1231',\n",
       " 'DG': '0131',\n",
       " 'TFX': '1231',\n",
       " 'AAL': '1231',\n",
       " 'EXPD': '1231',\n",
       " 'V': '0930',\n",
       " 'REGN': '1231',\n",
       " 'PPG': '1231',\n",
       " 'RCL': '1231',\n",
       " 'VLO': '1231',\n",
       " 'KHC': '1228',\n",
       " 'HUM': '1231',\n",
       " 'WELL': '1231',\n",
       " 'ALLE': '1231',\n",
       " 'UNP': '1231',\n",
       " 'LLY': '1231',\n",
       " 'TXN': '1231',\n",
       " 'GS': '1231',\n",
       " 'LKQ': '1231',\n",
       " 'SYY': '0629',\n",
       " 'IPG': '1231',\n",
       " 'AAP': '1228',\n",
       " 'ECL': '1231',\n",
       " 'MKTX': '1231',\n",
       " 'C': '1231',\n",
       " 'ZBH': '1231',\n",
       " 'UAA': '0331',\n",
       " 'MRO': '1231',\n",
       " 'AON': '1231',\n",
       " 'SPGI': '1231',\n",
       " 'ORLY': '1231',\n",
       " 'MO': '1231',\n",
       " 'PM': '1231',\n",
       " 'BKNG': '1231',\n",
       " 'BKR': '1231',\n",
       " 'AWK': '1231',\n",
       " 'APTV': '1231',\n",
       " 'WRK': '0930',\n",
       " 'SWKS': '0927',\n",
       " 'CMCSA': '1231',\n",
       " 'CE': '1231',\n",
       " 'CB': '1231',\n",
       " 'WMT': '0131',\n",
       " 'STT': '1231',\n",
       " 'RSG': '1231',\n",
       " 'AOS': '1231',\n",
       " 'AAPL': '0928',\n",
       " 'EXR': '1231',\n",
       " 'UA': '0331',\n",
       " 'CME': '1231',\n",
       " 'HII': '1231',\n",
       " 'HOLX': '0928',\n",
       " 'SLB': '1231',\n",
       " 'EW': '1231',\n",
       " 'EMR': '0930',\n",
       " 'VRTX': '1231',\n",
       " 'APD': '0930',\n",
       " 'ADBE': '1129',\n",
       " 'CAT': '1231',\n",
       " 'PNC': '1231',\n",
       " 'MAA': '1231',\n",
       " 'AES': '1231',\n",
       " 'SNA': '1228',\n",
       " 'JPM': '1231',\n",
       " 'NCLH': '1231',\n",
       " 'PKG': '1231',\n",
       " 'TROW': '1231',\n",
       " 'HST': '1231',\n",
       " 'NWS': '0630',\n",
       " 'MA': '1231',\n",
       " 'DVN': '1231',\n",
       " 'ANSS': '1231',\n",
       " 'ANET': '1231',\n",
       " 'SNPS': '1031',\n",
       " 'RL': '0328',\n",
       " 'DISH': '1231',\n",
       " 'HWM': '1231',\n",
       " 'FTV': '1231',\n",
       " 'L': '1231',\n",
       " 'LMT': '1231',\n",
       " 'MAS': '1231',\n",
       " 'STZ': '0228',\n",
       " 'EMN': '1231',\n",
       " 'CDNS': '1231',\n",
       " 'EL': '0630',\n",
       " 'SLG': '1231',\n",
       " 'BDX': '0930',\n",
       " 'UPS': '1231',\n",
       " 'MS': '1231',\n",
       " 'IQV': '1231',\n",
       " 'IP': '1231',\n",
       " 'EOG': '1231'}"
      ]
     },
     "execution_count": 14,
     "metadata": {},
     "output_type": "execute_result"
    }
   ],
   "source": [
    "company_fiscal_year_end"
   ]
  },
  {
   "cell_type": "markdown",
   "metadata": {
    "id": "t-ARd27WTqwy"
   },
   "source": [
    "Extract company ticker from the question\n",
    "\n",
    "We used LLM for now, but may need to connect DB for stability."
   ]
  },
  {
   "cell_type": "code",
   "execution_count": 15,
   "metadata": {
    "id": "UfyesW-YAlD-"
   },
   "outputs": [],
   "source": [
    "from langchain_core.prompts import PromptTemplate\n",
    "\n",
    "extract_ticker_prompt = PromptTemplate(\n",
    "    input_variables=[\"question\"],\n",
    "    template=\"\"\"\n",
    "    You have to extract the company name in the given question, and answer the ticker of the company.\n",
    "    Answer in JSON format, with 'ticker' key.\n",
    "\n",
    "    Question: {question}\n",
    "\n",
    "    Output JSON: {{\n",
    "      \"ticker\": \"<ticker of the company>\"\n",
    "    }}\n",
    "    \"\"\"\n",
    ")\n",
    "\n",
    "from pydantic import BaseModel, Field\n",
    "\n",
    "class Ticker(BaseModel):\n",
    "    \"\"\"Ticker of the company in the given question\"\"\"\n",
    "    ticker: str = Field(description=\"ticker of the company\")\n",
    "\n",
    "extract_ticker_chain = extract_ticker_prompt | llm.with_structured_output(Ticker)"
   ]
  },
  {
   "cell_type": "code",
   "execution_count": 16,
   "metadata": {
    "colab": {
     "base_uri": "https://localhost:8080/"
    },
    "id": "aYHiFpRCAmql",
    "outputId": "c6f2ea09-be83-4f6e-ab5b-0bff56ccee84"
   },
   "outputs": [
    {
     "data": {
      "text/plain": [
       "Ticker(ticker='AAPL')"
      ]
     },
     "execution_count": 16,
     "metadata": {},
     "output_type": "execute_result"
    }
   ],
   "source": [
    "extract_ticker_chain.invoke({\"question\": \"What was the revenue of Apple in 2022?\"})"
   ]
  },
  {
   "cell_type": "code",
   "execution_count": 17,
   "metadata": {
    "id": "nIm_nhmfoIWP"
   },
   "outputs": [],
   "source": [
    "from langchain_core.output_parsers import StrOutputParser\n",
    "from datetime import datetime\n",
    "\n",
    "parser = StrOutputParser()\n",
    "\n",
    "change_prompt = PromptTemplate(\n",
    "    input_variables=[\"original_question\", \"fiscal_info\", \"today\"],\n",
    "    template=\"\"\"\n",
    "    You have to convert relative time information in the given original question to the fiscal year of the company.\n",
    "    Use the fiscal end date to convert to fiscal year.\n",
    "    Answer only the converted question.\n",
    "\n",
    "    Original question: {original_question}\n",
    "    Fiscal end date for the company: {fiscal_info}\n",
    "    Today date: {today}\n",
    "    \"\"\"\n",
    ")\n",
    "\n",
    "convert_chain = change_prompt | llm | parser\n",
    "\n",
    "def get_fiscal_info_with_ticker(ticker: str) -> str:\n",
    "    \"\"\"Get fiscal year information of the company with ticker string.\"\"\"\n",
    "    ticker = ticker.upper()\n",
    "    if ticker in company_fiscal_year_end:\n",
    "      end_date = company_fiscal_year_end[ticker]\n",
    "      return end_date[:2] + '-' + end_date[2:]\n",
    "    else:\n",
    "      return '12-31'\n",
    "\n",
    "extract_fiscal_prompt = PromptTemplate(\n",
    "    input_variables=[\"question\"],\n",
    "    template=\"\"\"\n",
    "    You have to extract the fiscal year in the given question.\n",
    "    Answer in JSON format, with 'fy' key.\n",
    "\n",
    "    Question: {question}\n",
    "\n",
    "    Output JSON: {{\n",
    "      \"fy\": <fiscal year in the question>\n",
    "    }}\n",
    "    \"\"\"\n",
    ")\n",
    "\n",
    "from pydantic import BaseModel, Field\n",
    "\n",
    "class FiscalYear(BaseModel):\n",
    "    \"\"\"FiscalYear mentioned in the given question\"\"\"\n",
    "    fy: int = Field(description=\"fiscal year in the question\")\n",
    "\n",
    "extract_fiscal_chain = extract_fiscal_prompt | llm.with_structured_output(FiscalYear)"
   ]
  },
  {
   "cell_type": "code",
   "execution_count": 18,
   "metadata": {
    "id": "xdpBeMeRUy8J"
   },
   "outputs": [],
   "source": [
    "from langchain_core.tools import tool\n",
    "from typing import Tuple, Optional\n",
    "from pydantic import ValidationError\n",
    "\n",
    "@tool\n",
    "def rewrite2fiscal(question: str) -> Tuple[Optional[str], Optional[int]]:\n",
    "    \"\"\"\n",
    "    Extract the company ticker and convert relative time information\n",
    "    in the question to the fiscal year of the company.\n",
    "    \n",
    "    Args:\n",
    "        question: The financial question from the user.\n",
    "\n",
    "    Returns:\n",
    "        A tuple of (ticker, fiscal year), or (None, None) if extraction fails.\n",
    "    \"\"\"\n",
    "    try:\n",
    "        # Extract ticker\n",
    "        ticker_response = extract_ticker_chain.invoke({\"question\": question})\n",
    "        ticker = ticker_response.ticker if hasattr(ticker_response, 'ticker') else None\n",
    "\n",
    "        if not ticker:\n",
    "            return None, None  # Fail gracefully if ticker extraction fails\n",
    "\n",
    "        # Get today's date for fiscal year conversion\n",
    "        today = datetime.now().strftime(\"%Y-%m-%d\")\n",
    "        fiscal_info = get_fiscal_info_with_ticker(ticker)\n",
    "\n",
    "        # Convert question to fiscal year-specific query\n",
    "        response = convert_chain.invoke({\n",
    "            \"original_question\": question,\n",
    "            \"fiscal_info\": fiscal_info,\n",
    "            \"today\": today\n",
    "        })\n",
    "\n",
    "        # Extract fiscal year\n",
    "        fiscal_response = extract_fiscal_chain.invoke({'question': response})\n",
    "        fy = fiscal_response.fy if hasattr(fiscal_response, 'fy') else None\n",
    "\n",
    "        if not fy:\n",
    "            return ticker, None  # Return partial result if fiscal year extraction fails\n",
    "\n",
    "        return ticker, fy\n",
    "\n",
    "    except ValidationError as ve:\n",
    "        print(f\"Validation error in structured output: {ve}\")\n",
    "        return None, None\n",
    "    except Exception as e:\n",
    "        print(f\"Error in rewrite2fiscal: {e}\")\n",
    "        return None, None\n"
   ]
  },
  {
   "cell_type": "code",
   "execution_count": null,
   "metadata": {
    "colab": {
     "base_uri": "https://localhost:8080/"
    },
    "id": "3GOj-6lcKivd",
    "outputId": "d5f5b416-908e-4eb9-af77-9f0a2685f047"
   },
   "outputs": [
    {
     "name": "stderr",
     "output_type": "stream",
     "text": [
      "C:\\Users\\mindy\\AppData\\Local\\Temp\\ipykernel_4256\\2468993007.py:1: LangChainDeprecationWarning: The method `BaseTool.__call__` was deprecated in langchain-core 0.1.47 and will be removed in 1.0. Use :meth:`~invoke` instead.\n",
      "  result = rewrite2fiscal(\"What was the revenue of Apple in 2022?\")\n"
     ]
    },
    {
     "name": "stdout",
     "output_type": "stream",
     "text": [
      "Test 1 - Full Question:\n",
      " ('AAPL', 2023)\n"
     ]
    }
   ],
   "source": [
    "result = rewrite2fiscal(\"What was the revenue of Apple in 2022?\")\n",
    "print(\"Test 1 - Full Question:\\n\", result) \n"
   ]
  },
  {
   "cell_type": "code",
   "execution_count": 20,
   "metadata": {
    "colab": {
     "base_uri": "https://localhost:8080/"
    },
    "id": "keuaxuI3Ayr7",
    "outputId": "ac6deec0-8412-415a-9b12-f79de2e8162e"
   },
   "outputs": [
    {
     "name": "stdout",
     "output_type": "stream",
     "text": [
      "Test 2 - Missing Year:\n",
      " ('AAPL', 2024)\n"
     ]
    }
   ],
   "source": [
    "result = rewrite2fiscal(\"What was the revenue of Apple?\")\n",
    "print(\"Test 2 - Missing Year:\\n\", result)  # Expected: (\"AAPL\", None)\n"
   ]
  },
  {
   "cell_type": "code",
   "execution_count": 21,
   "metadata": {
    "colab": {
     "base_uri": "https://localhost:8080/"
    },
    "id": "X42RHclaBmxQ",
    "outputId": "9dac082c-4028-4b9f-efd0-98edca2bd890"
   },
   "outputs": [
    {
     "name": "stdout",
     "output_type": "stream",
     "text": [
      "Test 3 - Missing Company:\n",
      " ('<ticker of the company>', 2022)\n"
     ]
    }
   ],
   "source": [
    "result = rewrite2fiscal(\"What was the revenue last year?\")\n",
    "print(\"Test 3 - Missing Company:\\n\", result)  # Expected: (None, None)\n"
   ]
  },
  {
   "cell_type": "code",
   "execution_count": 22,
   "metadata": {
    "colab": {
     "base_uri": "https://localhost:8080/"
    },
    "id": "gPtNMB8QKzsF",
    "outputId": "4bc9d58d-0d40-4956-e390-8a35ce19d687"
   },
   "outputs": [
    {
     "data": {
      "text/plain": [
       "('AAPL', 2024)"
      ]
     },
     "execution_count": 22,
     "metadata": {},
     "output_type": "execute_result"
    }
   ],
   "source": [
    "rewrite2fiscal(\"What was the revenue of Apple in this year?\")"
   ]
  },
  {
   "cell_type": "markdown",
   "metadata": {
    "id": "5EwXgvdOgSCa"
   },
   "source": [
    "### Domain specific calulation tools\n",
    "\n",
    "You should implement more tools to answer complex questions."
   ]
  },
  {
   "cell_type": "code",
   "execution_count": 23,
   "metadata": {
    "id": "JfPNAZqoXSs3"
   },
   "outputs": [],
   "source": [
    "@tool\n",
    "def calculate_eps(net_income: float, outstanding_shares: int):\n",
    "  \"\"\"Calculate the EPS of the company using net income and outstanding share\n",
    "\n",
    "   Args:\n",
    "        net_income: Net income value of the company\n",
    "        outstanding_shares: Total stock held by the company's shareholders\n",
    "\n",
    "    Returns:\n",
    "        EPS value\n",
    "  \"\"\"\n",
    "  if (net_income is None) or (outstanding_shares is None):\n",
    "    print(\"Give me the net income and outstanding shares first\")\n",
    "    return None\n",
    "  elif outstanding_shares == 0:\n",
    "    print(\"Outstanding shares cannot be zero\")\n",
    "    return None\n",
    "\n",
    "  return net_income / outstanding_shares"
   ]
  },
  {
   "cell_type": "code",
   "execution_count": 71,
   "metadata": {
    "id": "iSkRYRoqW_XO"
   },
   "outputs": [],
   "source": [
    "@tool\n",
    "def calculate_cashflowfromoperations(net_income: float, non_cash_items: float, changes_in_working_capital: float):\n",
    "  \"\"\"Calculate the cash flow from operations of the company using net income, non cash items and change in working capital\n",
    "\n",
    "   Args:\n",
    "        net_income: Net income value of the company\n",
    "        non_cash_items: Financial transactions or events that are recorded in a company's financial statements but do not involve the exchange of cash\n",
    "        changes_in_working_capital: Difference in a company's working capital between two reporting periods\n",
    "\n",
    "    Returns:\n",
    "        Value of cash flow from operations\n",
    "  \"\"\"\n",
    "  if (net_income is None) or (non_cash_items is None) or (changes_in_working_capital is None):\n",
    "    print(\"Give me the net income, non cash items and change in working capital data first\")\n",
    "    return None\n",
    "\n",
    "  return net_income + non_cash_items + changes_in_working_capital"
   ]
  },
  {
   "cell_type": "markdown",
   "metadata": {
    "id": "jWWgAEIiY3wu"
   },
   "source": [
    "### Retriever Tool"
   ]
  },
  {
   "cell_type": "markdown",
   "metadata": {
    "id": "_4wIVPe47efF"
   },
   "source": [
    "#### Build Vector DB\n",
    "\n",
    "You can skip this part for demo."
   ]
  },
  {
   "cell_type": "code",
   "execution_count": 72,
   "metadata": {
    "colab": {
     "base_uri": "https://localhost:8080/"
    },
    "id": "v4PeaKc-hz95",
    "outputId": "9faa3f87-0897-489a-8880-f867d300517e"
   },
   "outputs": [
    {
     "name": "stdout",
     "output_type": "stream",
     "text": [
      "Sample Data from JSON:\n",
      "[\n",
      "  {\n",
      "    \"pre_text\": [\n",
      "      \"entergy corporation and subsidiaries management 2019s financial discussion and analysis a result of the entergy louisiana and entergy gulf states louisiana business combination , results of operations for 2015 also include two items that occurred in october 2015 : 1 ) a deferred tax asset and resulting net increase in tax basis of approximately $ 334 million and 2 ) a regulatory liability of $ 107 million ( $ 66 million net-of-tax ) as a result of customer credits \n"
     ]
    }
   ],
   "source": [
    "import json\n",
    "\n",
    "def load_and_view_sample(file_path):\n",
    "  \"\"\"Loads a JSON file and prints a sample of its contents.\"\"\"\n",
    "  try:\n",
    "    with open(file_path, 'r') as f:\n",
    "      data = json.load(f)\n",
    "      print(\"Sample Data from JSON:\")\n",
    "      print(json.dumps(data, indent=2)[:500]) # Print first 500 chars for sample\n",
    "  except FileNotFoundError:\n",
    "    print(f\"File not found: {file_path}\")\n",
    "  except json.JSONDecodeError:\n",
    "    print(f\"Error decoding JSON from file: {file_path}\")\n",
    "\n",
    "\n",
    "# Assuming your file is named 'test.json' in the current directory\n",
    "load_and_view_sample('test.json')"
   ]
  },
  {
   "cell_type": "code",
   "execution_count": 73,
   "metadata": {
    "colab": {
     "base_uri": "https://localhost:8080/"
    },
    "id": "NyVmLPJuiHas",
    "outputId": "5978956d-91bd-414b-d15a-734abd37488a"
   },
   "outputs": [
    {
     "name": "stdout",
     "output_type": "stream",
     "text": [
      "Number of rows in the JSON file: 1147\n"
     ]
    }
   ],
   "source": [
    "import json\n",
    "\n",
    "def count_rows_in_json(file_path):\n",
    "  \"\"\"Counts the number of rows (objects) in a JSON file.\"\"\"\n",
    "  try:\n",
    "    with open(file_path, 'r') as f:\n",
    "      data = json.load(f)\n",
    "      if isinstance(data, list):\n",
    "        return len(data)\n",
    "      elif isinstance(data, dict):\n",
    "        return len(data)\n",
    "      else:\n",
    "        return 0  # Or raise an error, depending on your needs\n",
    "  except FileNotFoundError:\n",
    "    print(f\"File not found: {file_path}\")\n",
    "    return 0\n",
    "  except json.JSONDecodeError:\n",
    "    print(f\"Error decoding JSON from file: {file_path}\")\n",
    "    return 0\n",
    "\n",
    "# Assuming your file is named 'test.json' in the current directory\n",
    "num_rows = count_rows_in_json('test.json')\n",
    "print(f\"Number of rows in the JSON file: {num_rows}\")"
   ]
  },
  {
   "cell_type": "code",
   "execution_count": 74,
   "metadata": {
    "colab": {
     "base_uri": "https://localhost:8080/"
    },
    "collapsed": true,
    "id": "MWSKJ1PAjOVq",
    "outputId": "faddc7cc-70e8-4d40-b6d9-2a05aee5196e"
   },
   "outputs": [
    {
     "name": "stdout",
     "output_type": "stream",
     "text": [
      "JSON file contains a list of objects.\n",
      "Example object:\n",
      "{\n",
      "  \"pre_text\": [\n",
      "    \"entergy corporation and subsidiaries management 2019s financial discussion and analysis a result of the entergy louisiana and entergy gulf states louisiana business combination , results of operations for 2015 also include two items that occurred in october 2015 : 1 ) a deferred tax asset and resulting net increase in tax basis of approximately $ 334 million and 2 ) a regulatory liability of $ 107 million ( $ 66 million net-of-tax ) as a result of customer credits to be realized by electric customers of entergy louisiana , consistent with the terms of the stipulated settlement in the business combination proceeding .\",\n",
      "    \"see note 2 to the financial statements for further discussion of the business combination and customer credits .\",\n",
      "    \"results of operations for 2015 also include the sale in december 2015 of the 583 mw rhode island state energy center for a realized gain of $ 154 million ( $ 100 million net-of-tax ) on the sale and the $ 77 million ( $ 47 million net-of-tax ) write-off and regulatory charges to recognize that a portion of the assets associated with the waterford 3 replacement steam generator project is no longer probable of recovery .\",\n",
      "    \"see note 14 to the financial statements for further discussion of the rhode island state energy center sale .\",\n",
      "    \"see note 2 to the financial statements for further discussion of the waterford 3 write-off .\",\n",
      "    \"results of operations for 2014 include $ 154 million ( $ 100 million net-of-tax ) of charges related to vermont yankee primarily resulting from the effects of an updated decommissioning cost study completed in the third quarter 2014 along with reassessment of the assumptions regarding the timing of decommissioning cash flows and severance and employee retention costs .\",\n",
      "    \"see note 14 to the financial statements for further discussion of the charges .\",\n",
      "    \"results of operations for 2014 also include the $ 56.2 million ( $ 36.7 million net-of-tax ) write-off in 2014 of entergy mississippi 2019s regulatory asset associated with new nuclear generation development costs as a result of a joint stipulation entered into with the mississippi public utilities staff , subsequently approved by the mpsc , in which entergy mississippi agreed not to pursue recovery of the costs deferred by an mpsc order in the new nuclear generation docket .\",\n",
      "    \"see note 2 to the financial statements for further discussion of the new nuclear generation development costs and the joint stipulation .\",\n",
      "    \"net revenue utility following is an analysis of the change in net revenue comparing 2015 to 2014 .\",\n",
      "    \"amount ( in millions ) .\"\n",
      "  ],\n",
      "  \"post_text\": [\n",
      "    \"the retail electric price variance is primarily due to : 2022 formula rate plan increases at entergy louisiana , as approved by the lpsc , effective december 2014 and january 2015 ; 2022 an increase in energy efficiency rider revenue primarily due to increases in the energy efficiency rider at entergy arkansas , as approved by the apsc , effective july 2015 and july 2014 , and new energy efficiency riders at entergy louisiana and entergy mississippi that began in the fourth quarter 2014 ; and 2022 an annual net rate increase at entergy mississippi of $ 16 million , effective february 2015 , as a result of the mpsc order in the june 2014 rate case .\",\n",
      "    \"see note 2 to the financial statements for a discussion of rate and regulatory proceedings. .\"\n",
      "  ],\n",
      "  \"filename\": \"ETR/2016/page_23.pdf\",\n",
      "  \"table_ori\": [\n",
      "    [\n",
      "      \"\",\n",
      "      \"Amount (In Millions)\"\n",
      "    ],\n",
      "    [\n",
      "      \"2014 net revenue\",\n",
      "      \"$5,735\"\n",
      "    ],\n",
      "    [\n",
      "      \"Retail electric price\",\n",
      "      \"187\"\n",
      "    ],\n",
      "    [\n",
      "      \"Volume/weather\",\n",
      "      \"95\"\n",
      "    ],\n",
      "    [\n",
      "      \"Waterford 3 replacement steam generator provision\",\n",
      "      \"(32)\"\n",
      "    ],\n",
      "    [\n",
      "      \"MISO deferral\",\n",
      "      \"(35)\"\n",
      "    ],\n",
      "    [\n",
      "      \"Louisiana business combination customer credits\",\n",
      "      \"(107)\"\n",
      "    ],\n",
      "    [\n",
      "      \"Other\",\n",
      "      \"(14)\"\n",
      "    ],\n",
      "    [\n",
      "      \"2015 net revenue\",\n",
      "      \"$5,829\"\n",
      "    ]\n",
      "  ],\n",
      "  \"table\": [\n",
      "    [\n",
      "      \"\",\n",
      "      \"amount ( in millions )\"\n",
      "    ],\n",
      "    [\n",
      "      \"2014 net revenue\",\n",
      "      \"$ 5735\"\n",
      "    ],\n",
      "    [\n",
      "      \"retail electric price\",\n",
      "      \"187\"\n",
      "    ],\n",
      "    [\n",
      "      \"volume/weather\",\n",
      "      \"95\"\n",
      "    ],\n",
      "    [\n",
      "      \"waterford 3 replacement steam generator provision\",\n",
      "      \"-32 ( 32 )\"\n",
      "    ],\n",
      "    [\n",
      "      \"miso deferral\",\n",
      "      \"-35 ( 35 )\"\n",
      "    ],\n",
      "    [\n",
      "      \"louisiana business combination customer credits\",\n",
      "      \"-107 ( 107 )\"\n",
      "    ],\n",
      "    [\n",
      "      \"other\",\n",
      "      \"-14 ( 14 )\"\n",
      "    ],\n",
      "    [\n",
      "      \"2015 net revenue\",\n",
      "      \"$ 5829\"\n",
      "    ]\n",
      "  ],\n",
      "  \"qa\": {\n",
      "    \"question\": \"what is the net change in net revenue during 2015 for entergy corporation?\",\n",
      "    \"answer\": \"94\",\n",
      "    \"explanation\": \"\",\n",
      "    \"ann_table_rows\": [\n",
      "      1,\n",
      "      8\n",
      "    ],\n",
      "    \"ann_text_rows\": [],\n",
      "    \"steps\": [\n",
      "      {\n",
      "        \"op\": \"minus2-1\",\n",
      "        \"arg1\": \"5829\",\n",
      "        \"arg2\": \"5735\",\n",
      "        \"res\": \"94\"\n",
      "      }\n",
      "    ],\n",
      "    \"program\": \"subtract(5829, 5735)\",\n",
      "    \"gold_inds\": {\n",
      "      \"table_1\": \"the 2014 net revenue of amount ( in millions ) is $ 5735 ;\",\n",
      "      \"table_8\": \"the 2015 net revenue of amount ( in millions ) is $ 5829 ;\"\n",
      "    },\n",
      "    \"exe_ans\": 94.0,\n",
      "    \"tfidftopn\": {\n",
      "      \"text_9\": \"net revenue utility following is an analysis of the change in net revenue comparing 2015 to 2014 .\"\n",
      "    },\n",
      "    \"program_re\": \"subtract(5829, 5735)\",\n",
      "    \"model_input\": [\n",
      "      [\n",
      "        \"table_1\",\n",
      "        \"the 2014 net revenue of amount ( in millions ) is $ 5735 ;\"\n",
      "      ],\n",
      "      [\n",
      "        \"table_3\",\n",
      "        \"the volume/weather of amount ( in millions ) is 95 ;\"\n",
      "      ],\n",
      "      [\n",
      "        \"table_8\",\n",
      "        \"the 2015 net revenue of amount ( in millions ) is $ 5829 ;\"\n",
      "      ]\n",
      "    ]\n",
      "  },\n",
      "  \"id\": \"ETR/2016/page_23.pdf-2\",\n",
      "  \"table_retrieved\": [\n",
      "    {\n",
      "      \"score\": 3.0425944328308105,\n",
      "      \"ind\": \"table_8\"\n",
      "    },\n",
      "    {\n",
      "      \"score\": 2.630547046661377,\n",
      "      \"ind\": \"table_1\"\n",
      "    },\n",
      "    {\n",
      "      \"score\": 0.7781655788421631,\n",
      "      \"ind\": \"table_3\"\n",
      "    },\n",
      "    {\n",
      "      \"score\": 0.606473982334137,\n",
      "      \"ind\": \"table_7\"\n",
      "    }\n",
      "  ],\n",
      "  \"text_retrieved\": [\n",
      "    {\n",
      "      \"score\": 0.3962186276912689,\n",
      "      \"ind\": \"text_10\"\n",
      "    }\n",
      "  ],\n",
      "  \"table_retrieved_all\": [\n",
      "    {\n",
      "      \"score\": 3.0425944328308105,\n",
      "      \"ind\": \"table_8\"\n",
      "    },\n",
      "    {\n",
      "      \"score\": 2.630547046661377,\n",
      "      \"ind\": \"table_1\"\n",
      "    },\n",
      "    {\n",
      "      \"score\": 0.7781655788421631,\n",
      "      \"ind\": \"table_3\"\n",
      "    },\n",
      "    {\n",
      "      \"score\": 0.606473982334137,\n",
      "      \"ind\": \"table_7\"\n",
      "    },\n",
      "    {\n",
      "      \"score\": 0.3680412769317627,\n",
      "      \"ind\": \"table_2\"\n",
      "    },\n",
      "    {\n",
      "      \"score\": -0.06215459108352661,\n",
      "      \"ind\": \"table_5\"\n",
      "    },\n",
      "    {\n",
      "      \"score\": -0.23549103736877441,\n",
      "      \"ind\": \"table_4\"\n",
      "    },\n",
      "    {\n",
      "      \"score\": -1.1832187175750732,\n",
      "      \"ind\": \"table_6\"\n",
      "    },\n",
      "    {\n",
      "      \"score\": -3.0562329292297363,\n",
      "      \"ind\": \"table_0\"\n",
      "    }\n",
      "  ],\n",
      "  \"text_retrieved_all\": [\n",
      "    {\n",
      "      \"score\": 0.3962186276912689,\n",
      "      \"ind\": \"text_10\"\n",
      "    },\n",
      "    {\n",
      "      \"score\": -0.6703973412513733,\n",
      "      \"ind\": \"text_0\"\n",
      "    },\n",
      "    {\n",
      "      \"score\": -0.8628821969032288,\n",
      "      \"ind\": \"text_11\"\n",
      "    },\n",
      "    {\n",
      "      \"score\": -0.9996260404586792,\n",
      "      \"ind\": \"text_9\"\n",
      "    },\n",
      "    {\n",
      "      \"score\": -1.4163694381713867,\n",
      "      \"ind\": \"text_2\"\n",
      "    },\n",
      "    {\n",
      "      \"score\": -1.4738928079605103,\n",
      "      \"ind\": \"text_7\"\n",
      "    },\n",
      "    {\n",
      "      \"score\": -1.6805188655853271,\n",
      "      \"ind\": \"text_5\"\n",
      "    },\n",
      "    {\n",
      "      \"score\": -1.8574978113174438,\n",
      "      \"ind\": \"text_12\"\n",
      "    },\n",
      "    {\n",
      "      \"score\": -2.2638840675354004,\n",
      "      \"ind\": \"text_6\"\n",
      "    },\n",
      "    {\n",
      "      \"score\": -2.363234519958496,\n",
      "      \"ind\": \"text_8\"\n",
      "    },\n",
      "    {\n",
      "      \"score\": -2.428662061691284,\n",
      "      \"ind\": \"text_4\"\n",
      "    },\n",
      "    {\n",
      "      \"score\": -2.465285062789917,\n",
      "      \"ind\": \"text_1\"\n",
      "    },\n",
      "    {\n",
      "      \"score\": -2.482703924179077,\n",
      "      \"ind\": \"text_3\"\n",
      "    }\n",
      "  ]\n",
      "}\n",
      "- Attribute: pre_text\n",
      "- Attribute: post_text\n",
      "- Attribute: filename\n",
      "- Attribute: table_ori\n",
      "- Attribute: table\n",
      "- Attribute: qa\n",
      "- Attribute: id\n",
      "- Attribute: table_retrieved\n",
      "- Attribute: text_retrieved\n",
      "- Attribute: table_retrieved_all\n",
      "- Attribute: text_retrieved_all\n"
     ]
    }
   ],
   "source": [
    "import json\n",
    "\n",
    "def analyze_json(file_path):\n",
    "  \"\"\"Analyzes a JSON file, printing information about its attributes.\"\"\"\n",
    "  try:\n",
    "    with open(file_path, 'r') as f:\n",
    "      data = json.load(f)\n",
    "      if isinstance(data, list):\n",
    "        print(\"JSON file contains a list of objects.\")\n",
    "        if len(data) > 0:\n",
    "          print(\"Example object:\")\n",
    "          print(json.dumps(data[0], indent=2))\n",
    "          for key in data[0].keys():\n",
    "            print(f\"- Attribute: {key}\")\n",
    "      elif isinstance(data, dict):\n",
    "        print(\"JSON file contains a dictionary.\")\n",
    "        print(\"Attributes:\")\n",
    "        for key in data.keys():\n",
    "          print(f\"- Attribute: {key}\")\n",
    "      else:\n",
    "        print(\"JSON file is empty or contains an unexpected data type.\")\n",
    "  except FileNotFoundError:\n",
    "    print(f\"File not found: {file_path}\")\n",
    "  except json.JSONDecodeError:\n",
    "    print(f\"Error decoding JSON from file: {file_path}\")\n",
    "\n",
    "# Analyze 'test.json'\n",
    "analyze_json('test.json')"
   ]
  },
  {
   "cell_type": "code",
   "execution_count": 75,
   "metadata": {
    "colab": {
     "base_uri": "https://localhost:8080/"
    },
    "id": "jTSOsa7WmbMo",
    "outputId": "1f8bbaa7-8f4d-4253-8a3d-afeeae655b6c"
   },
   "outputs": [
    {
     "name": "stdout",
     "output_type": "stream",
     "text": [
      "ChatGPT's Answer:\n",
      "To provide you with the revenue of Apple in 2022, I would need to retrieve the relevant financial data. However, I currently do not have access to real-time financial datasets. \n",
      "\n",
      "As of my last update, Apple's revenue for the fiscal year 2022 was approximately $394.3 billion. For the most accurate and up-to-date information, please refer to Apple's official financial statements or a reliable financial news source.\n"
     ]
    }
   ],
   "source": [
    "from langchain_openai import ChatOpenAI\n",
    "from langchain_core.tools import tool\n",
    "from langchain_core.messages import HumanMessage\n",
    "from langchain_core.prompts import PromptTemplate\n",
    "from pydantic import BaseModel, Field\n",
    "from langchain_core.output_parsers import StrOutputParser\n",
    "from datetime import datetime\n",
    "import json\n",
    "\n",
    "# Define pre_text and post_text\n",
    "pre_text = \"\"\"\n",
    "## Financial Data Analysis with Tools\n",
    "\n",
    "This system is designed to analyze financial data and answer your questions about companies.\n",
    "It uses tools like calculating metrics (EPS, cash flow from operations) and retrieving information from a financial dataset.\n",
    "\n",
    "\"\"\"\n",
    "\n",
    "post_text = \"\"\"\n",
    "**Note:** The system may not always have the information you're looking for.\n",
    "If the response is insufficient, please refine your question or provide more details.\n",
    "\"\"\"\n",
    "\n",
    "# Define a table with examples\n",
    "table = \"\"\"\n",
    "| Question Example | Expected Outcome |\n",
    "|---|---|\n",
    "| What was Apple's EPS in 2022? | Retrieves Apple's 2022 net income and shares outstanding, then calculates and returns EPS. |\n",
    "| What was the cash flow from operations for Microsoft in 2023? | Retrieves Microsoft's net income, non-cash items, and changes in working capital, then calculates and returns cash flow from operations. |\n",
    "\"\"\"\n",
    "\n",
    "# Combine pre_text, post_text, and table\n",
    "combined_text = f\"{pre_text}\\n\\n**Example Usage:**\\n\\n{table}\\n\\n{post_text}\"\n",
    "\n",
    "# Function to ask ChatGPT and compare answers\n",
    "def qa_and_compare(question):\n",
    "    prompt_with_context = f\"{combined_text}\\n\\n**Question:** {question}\"\n",
    "\n",
    "    messages = [HumanMessage(content=prompt_with_context)]\n",
    "\n",
    "    ai_msg = llm.invoke(messages)\n",
    "\n",
    "    print(\"ChatGPT's Answer:\")\n",
    "    print(ai_msg.content)\n",
    "\n",
    "\n",
    "# Example question\n",
    "question = \"What was the revenue of Apple in 2022?\"\n",
    "\n",
    "qa_and_compare(question)"
   ]
  },
  {
   "cell_type": "code",
   "execution_count": 203,
   "metadata": {
    "id": "k6m2d8pz6XUm"
   },
   "outputs": [
    {
     "name": "stdout",
     "output_type": "stream",
     "text": [
      "Generated distinct_items_with_context with 380 items.\n"
     ]
    }
   ],
   "source": [
    "with open('test.json', 'r') as f:\n",
    "    train_data = json.load(f)\n",
    "\n",
    "# Generate distinct_items_with_context\n",
    "distinct_items_with_context = {}\n",
    "\n",
    "for item in train_data:\n",
    "    filename = item['filename']\n",
    "\n",
    "    distinct_items_with_context[filename] = {\n",
    "        'pre_text': item.get('pre_text', []),\n",
    "        'post_text': item.get('post_text', []),\n",
    "        'table': item.get('table', [])\n",
    "    }\n",
    "\n",
    "#Check the generated dictionary\n",
    "print(f\"Generated distinct_items_with_context with {len(distinct_items_with_context)} items.\")\n",
    "\n",
    "def merge_text_list(text_list):\n",
    "    \"\"\"Merge a list of strings into a single string with newline separation.\"\"\"\n",
    "    if not isinstance(text_list, list):\n",
    "        raise ValueError(\"Input must be a list of strings.\")\n",
    "    return \"\\n\".join(text_list)"
   ]
  },
  {
   "cell_type": "code",
   "execution_count": 233,
   "metadata": {
    "colab": {
     "base_uri": "https://localhost:8080/"
    },
    "id": "0mseZMcxRXPJ",
    "outputId": "f2fd1816-f55c-4053-e8ec-5ff14b22805e"
   },
   "outputs": [
    {
     "name": "stderr",
     "output_type": "stream",
     "text": [
      "Processing files: 100%|██████████| 380/380 [00:00<00:00, 11280.12it/s]\n"
     ]
    },
    {
     "name": "stdout",
     "output_type": "stream",
     "text": [
      "Saving 4044 documents to Chroma DB...\n",
      "Chroma DB successfully persisted!\n"
     ]
    }
   ],
   "source": [
    "from langchain.text_splitter import RecursiveCharacterTextSplitter\n",
    "from langchain.embeddings.openai import OpenAIEmbeddings\n",
    "from langchain.vectorstores import Chroma\n",
    "from tqdm import tqdm  # Import tqdm for progress tracking\n",
    "\n",
    "# Initialize text splitter and embeddings\n",
    "splitter = RecursiveCharacterTextSplitter(chunk_size=500, chunk_overlap=50)\n",
    "embeddings = OpenAIEmbeddings(model='text-embedding-3-small', api_key=OPENAI_API_KEY)\n",
    "\n",
    "# Function to process context data and save it into Chroma vector DB\n",
    "def save_to_chroma(distinct_items_with_context, persist_directory=\"./db_test\"):\n",
    "    \"\"\"\n",
    "    Saves processed text data and metadata into a Chroma vector database.\n",
    "\n",
    "    Args:\n",
    "        distinct_items_with_context (dict): Dictionary containing context data with keys 'pre_text', 'post_text', and 'table'.\n",
    "        persist_directory (str): Directory to save the vector database.\n",
    "    \"\"\"\n",
    "    all_texts = []\n",
    "    all_metadatas = []\n",
    "\n",
    "    # Iterate through each file and process its context\n",
    "    for filename, context_data in tqdm(distinct_items_with_context.items(), desc=\"Processing files\"):\n",
    "        # Extract ticker and fiscal year from filename or context_data (custom logic)\n",
    "        ticker = filename.split('/')[0]  \n",
    "        fiscal = filename.split('/')[1]  \n",
    "\n",
    "        # Merge and split pre-text and post-text\n",
    "        pre_text = merge_text_list(context_data.get('pre_text', []))\n",
    "        post_text = merge_text_list(context_data.get('post_text', []))\n",
    "        table = \"\\n\".join([\" | \".join(row) for row in context_data.get('table', [])])\n",
    "\n",
    "        pre_text_chunks = splitter.split_text(pre_text)\n",
    "        post_text_chunks = splitter.split_text(post_text)\n",
    "\n",
    "        # Collect texts and corresponding metadata\n",
    "        texts_for_db = pre_text_chunks + ([table] if table.strip() else []) + post_text_chunks\n",
    "        metadatas_for_db = (\n",
    "            [{'filename': filename, 'context_type': 'pre_text', 'company': ticker, 'fiscal': fiscal}] * len(pre_text_chunks) +\n",
    "            ([{'filename': filename, 'context_type': 'table', 'company': ticker, 'fiscal': fiscal}] if table.strip() else []) +\n",
    "            [{'filename': filename, 'context_type': 'post_text', 'company': ticker, 'fiscal': fiscal}] * len(post_text_chunks)\n",
    "        )\n",
    "\n",
    "        all_texts.extend(texts_for_db)\n",
    "        all_metadatas.extend(metadatas_for_db)\n",
    "\n",
    "    # Create and persist the vector database\n",
    "    print(f\"Saving {len(all_texts)} documents to Chroma DB...\")\n",
    "    docsearch = Chroma.from_texts(\n",
    "        all_texts,\n",
    "        embeddings,\n",
    "        metadatas=all_metadatas,\n",
    "        persist_directory=persist_directory\n",
    "    )\n",
    "\n",
    "    docsearch.persist()\n",
    "    print(\"Chroma DB successfully persisted!\")\n",
    "\n",
    "# Example usage\n",
    "# Assuming 'distinct_items_with_context' is already defined\n",
    "save_to_chroma(distinct_items_with_context)\n"
   ]
  },
  {
   "cell_type": "code",
   "execution_count": 234,
   "metadata": {},
   "outputs": [
    {
     "name": "stdout",
     "output_type": "stream",
     "text": [
      "Number of documents retrieved: 5\n",
      "liquidity stress tests are conducted to ascertain potential mismatches between liquidity sources and uses over a variety of time horizons ( overnight , one week , two weeks , one month , three months , one year ) and over a variety of stressed conditions .\n",
      "liquidity limits are set accordingly .\n",
      "to monitor the liquidity of an entity , these stress tests and potential mismatches are calculated with varying frequencies , with several tests performed daily .\n",
      "liquidity stress tests are conducted to ascertain potential mismatches between liquidity sources and uses over a variety of time horizons ( overnight , one week , two weeks , one month , three months , one year ) and over a variety of stressed conditions .\n",
      "liquidity limits are set accordingly .\n",
      "to monitor the liquidity of an entity , these stress tests and potential mismatches are calculated with varying frequencies , with several tests performed daily .\n",
      "liquidity stress tests are conducted to ascertain potential mismatches between liquidity sources and uses over a variety of time horizons ( overnight , one week , two weeks , one month , three months , one year ) and over a variety of stressed conditions .\n",
      "liquidity limits are set accordingly .\n",
      "to monitor the liquidity of an entity , these stress tests and potential mismatches are calculated with varying frequencies , with several tests performed daily .\n",
      "liquidity monitoring and measurement stress testing liquidity stress testing is performed for each of citi 2019s major entities , operating subsidiaries and/or countries .\n",
      "stress testing and scenario analyses are intended to quantify the potential impact of a liquidity event on the balance sheet and liquidity position , and to identify viable funding alternatives that can be utilized .\n",
      "liquidity monitoring and measurement stress testing liquidity stress testing is performed for each of citi 2019s major entities , operating subsidiaries and/or countries .\n",
      "stress testing and scenario analyses are intended to quantify the potential impact of a liquidity event on the balance sheet and liquidity position , and to identify viable funding alternatives that can be utilized .\n"
     ]
    }
   ],
   "source": [
    "# 驗證 Vector DB 中的內容\n",
    "docsearch = Chroma(\n",
    "    persist_directory=\"./db_test\",\n",
    "    embedding_function=embeddings\n",
    ")\n",
    "\n",
    "# 測試檢索功能是否正常\n",
    "query = \"Test query to validate\"\n",
    "results = docsearch.similarity_search(query, k=5)\n",
    "\n",
    "# 打印檢索到的內容\n",
    "print(f\"Number of documents retrieved: {len(results)}\")\n",
    "for result in results:\n",
    "    print(result.page_content)\n",
    "    print\n"
   ]
  },
  {
   "cell_type": "code",
   "execution_count": null,
   "metadata": {
    "id": "4w5q5cW_gBDe"
   },
   "outputs": [],
   "source": [
    "#!zip -r ./db.zip ./db"
   ]
  },
  {
   "cell_type": "code",
   "execution_count": 235,
   "metadata": {
    "id": "Id9ZfhizggtP"
   },
   "outputs": [
    {
     "name": "stdout",
     "output_type": "stream",
     "text": [
      "( in thousands ) | year ended december 31 , 2012 | year ended december 31 , 2011 | year ended december 31 , 2010\n",
      "united states | $ 265436 | $ 215924 | $ 188649\n",
      "japan | 122437 | 112171 | 95498\n",
      "germany | 82008 | 72301 | 60399\n",
      "canada | 12384 | 12069 | 9875\n",
      "other european | 177069 | 166551 | 138157\n",
      "other international | 138684 | 112433 | 87658\n",
      "total revenue | $ 798018 | $ 691449 | $ 580236\n",
      "{'context_type': 'table', 'filename': 'ANSS/2012/page_93.pdf'}\n",
      "--------------\n",
      "( in thousands ) | year ended december 31 , 2012 | year ended december 31 , 2011 | year ended december 31 , 2010\n",
      "united states | $ 265436 | $ 215924 | $ 188649\n",
      "japan | 122437 | 112171 | 95498\n",
      "germany | 82008 | 72301 | 60399\n",
      "canada | 12384 | 12069 | 9875\n",
      "other european | 177069 | 166551 | 138157\n",
      "other international | 138684 | 112433 | 87658\n",
      "total revenue | $ 798018 | $ 691449 | $ 580236\n",
      "{'context_type': 'table', 'filename': 'ANSS/2012/page_93.pdf'}\n",
      "--------------\n",
      "( in thousands ) | year ended december 31 , 2012 | year ended december 31 , 2011 | year ended december 31 , 2010\n",
      "united states | $ 265436 | $ 215924 | $ 188649\n",
      "japan | 122437 | 112171 | 95498\n",
      "germany | 82008 | 72301 | 60399\n",
      "canada | 12384 | 12069 | 9875\n",
      "other european | 177069 | 166551 | 138157\n",
      "other international | 138684 | 112433 | 87658\n",
      "total revenue | $ 798018 | $ 691449 | $ 580236\n",
      "{'company': 'ANSS', 'context_type': 'table', 'filename': 'ANSS/2012/page_93.pdf', 'fiscal': '2012'}\n",
      "--------------\n",
      " | ( in millions )\n",
      "2002 net revenue | $ 380.2\n",
      "base rates | 48.3\n",
      "other | -1.9 ( 1.9 )\n",
      "2003 net revenue | $ 426.6\n",
      "{'context_type': 'table', 'filename': 'ETR/2004/page_239.pdf'}\n",
      "--------------\n"
     ]
    }
   ],
   "source": [
    "query = \"What was the revenue of Apple in 2012?\"\n",
    "docs = docsearch.similarity_search(query)\n",
    "\n",
    "for doc in docs:\n",
    "  print(doc.page_content)\n",
    "  print(doc.metadata)\n",
    "  print('--------------')"
   ]
  },
  {
   "cell_type": "markdown",
   "metadata": {
    "id": "qfczWkd17mYg"
   },
   "source": [
    "#### Load Vector DB"
   ]
  },
  {
   "cell_type": "code",
   "execution_count": 24,
   "metadata": {
    "id": "cGy1jdEL7qXc"
   },
   "outputs": [
    {
     "name": "stderr",
     "output_type": "stream",
     "text": [
      "C:\\Users\\mindy\\AppData\\Local\\Temp\\ipykernel_4256\\3411029455.py:5: LangChainDeprecationWarning: The class `OpenAIEmbeddings` was deprecated in LangChain 0.0.9 and will be removed in 1.0. An updated version of the class exists in the :class:`~langchain-openai package and should be used instead. To use it run `pip install -U :class:`~langchain-openai` and import as `from :class:`~langchain_openai import OpenAIEmbeddings``.\n",
      "  embeddings = OpenAIEmbeddings(model='text-embedding-3-small',api_key=OPENAI_API_KEY)\n"
     ]
    }
   ],
   "source": [
    "from langchain.text_splitter import RecursiveCharacterTextSplitter\n",
    "from langchain.embeddings.openai import OpenAIEmbeddings\n",
    "from langchain.vectorstores import Chroma\n",
    "\n",
    "embeddings = OpenAIEmbeddings(model='text-embedding-3-small',api_key=OPENAI_API_KEY)\n",
    "\n",
    "from langchain_chroma import Chroma\n",
    "\n",
    "docsearch = Chroma(\n",
    "    persist_directory=\"./test_db\",\n",
    "    embedding_function=embeddings\n",
    ")"
   ]
  },
  {
   "cell_type": "markdown",
   "metadata": {
    "id": "6jYHaV8ogG3N"
   },
   "source": [
    "#### Retriever tool with filtered search"
   ]
  },
  {
   "cell_type": "code",
   "execution_count": 25,
   "metadata": {
    "id": "yyRdQ7L_aQfv"
   },
   "outputs": [],
   "source": [
    "def retrieve(question:str, ticker: str, fy: int) -> list[str]:\n",
    "  \"\"\"Search vector DB for the financial reports with the question and ticker and fiscal year\n",
    "\n",
    "   Args:\n",
    "        question: Question need to be answered\n",
    "        ticker: Ticker of the company for filtering the documents\n",
    "        fy: Fiscal year for filtering the documents\n",
    "\n",
    "    Returns:\n",
    "        A related document for the question.\n",
    "  \"\"\"\n",
    "  retriever = docsearch.as_retriever(search_kwargs={'k': 5, 'filter':\n",
    "  {\n",
    "      \"$and\": [\n",
    "          {\n",
    "              \"company\": {\n",
    "                  \"$eq\": ticker\n",
    "              }\n",
    "          },\n",
    "          {\n",
    "              \"fiscal\": {\n",
    "                  \"$eq\": fy\n",
    "              }\n",
    "          }\n",
    "      ]\n",
    "  }})\n",
    "\n",
    "#   retriever = docsearch.as_retriever(search_kwargs={\"k\": 1})\n",
    "  result = retriever.invoke(question)\n",
    "#   print(\"Result without filters:\", result)\n",
    "\n",
    "\n",
    "  result = retriever.invoke(question)\n",
    "  if result:\n",
    "    return result\n",
    "  else:\n",
    "    return [\"No data returned. Try again with correct ticker and fiscal year, or different question\"]"
   ]
  },
  {
   "cell_type": "code",
   "execution_count": 26,
   "metadata": {},
   "outputs": [
    {
     "name": "stdout",
     "output_type": "stream",
     "text": [
      "Number of documents in the DB: 2089\n",
      "Sample metadata: [{'company': 'ETR', 'context_type': 'pre_text', 'fiscal': 2016}, {'company': 'ETR', 'context_type': 'pre_text', 'fiscal': 2016}, {'company': 'ETR', 'context_type': 'pre_text', 'fiscal': 2016}, {'company': 'ETR', 'context_type': 'table', 'fiscal': 2016}, {'company': 'ETR', 'context_type': 'post_text', 'fiscal': 2016}]\n"
     ]
    }
   ],
   "source": [
    "# Check stored data\n",
    "documents = docsearch.get()['documents']\n",
    "metadatas = docsearch.get()['metadatas']\n",
    "\n",
    "print(f\"Number of documents in the DB: {len(documents)}\")\n",
    "print(\"Sample metadata:\", metadatas[:5])  # Print metadata of the first 5 documents\n"
   ]
  },
  {
   "cell_type": "code",
   "execution_count": 27,
   "metadata": {
    "id": "LQdFHlSsaXtv"
   },
   "outputs": [
    {
     "data": {
      "text/plain": [
       "[Document(metadata={'company': 'C', 'context_type': 'table', 'fiscal': 2015}, page_content='in billions of dollars,dec . 31 2015,sept . 30 2015,dec . 31 2014\\r\\nhqla,$ 378.5,$ 398.9,$ 412.6\\r\\nnet outflows,336.5,355.6,368.6\\r\\nlcr,112% ( 112 % ),112% ( 112 % ),112% ( 112 % )\\r\\nhqla in excess of net outflows,$ 42.0,$ 43.3,$ 44.0\\r\\n'),\n",
       " Document(metadata={'company': 'C', 'context_type': 'post_text', 'fiscal': 2015}, page_content='as set forth in the table above , citi 2019s lcr was unchanged both year-over-year and quarter-over-quarter , as the reduction in citi 2019s hqla was offset by a reduction in net outflows , reflecting reductions in citi 2019s long-term debt and short-term borrowings .long-term liquidity measurement : net stable funding ratio ( nsfr ) for 12-month liquidity stress periods , citi uses several measures , including its internal long-term liquidity measure , based on a 12-month scenario assuming deterioration due to a combination of idiosyncratic and market stresses of moderate to high severity .it is broadly defined as the ratio of unencumbered liquidity resources to net stressed cumulative outflows over a 12-month period .in addition , in october 2014 , the basel committee on banking supervision ( basel committee ) issued final standards for the implementation of the basel iii nsfr , with full compliance required by january 1 , 2018 .similar to citi 2019s internal long-term liquidity'),\n",
       " Document(metadata={'company': 'C', 'context_type': 'pre_text', 'fiscal': 2015}, page_content='prescribed outflow factors to various categories of liabilities , such as deposits , unsecured and secured wholesale borrowings , unused lending commitments and derivatives- related exposures , partially offset by inflows from assets maturing within 30 days .banks are required to calculate an add-on to address potential maturity mismatches between contractual cash outflows and inflows within the 30-day period in determining the total amount of net outflows .the minimum lcr requirement is 90% ( 90 % ) effective january 2016 , increasing to 100% ( 100 % ) in january 2017 .the table below sets forth the components of citi 2019s lcr calculation and hqla in excess of net outflows as of the periods indicated : in billions of dollars dec .31 , sept .30 , dec .31 .'),\n",
       " Document(metadata={'company': 'C', 'context_type': 'pre_text', 'fiscal': 2015}, page_content='.to monitor the liquidity of an entity , these stress tests and potential mismatches are calculated with varying frequencies , with several tests performed daily .given the range of potential stresses , citi maintains a series of contingency funding plans on a consolidated basis and for individual entities .these plans specify a wide range of readily available actions for a variety of adverse market conditions or idiosyncratic stresses .short-term liquidity measurement : liquidity coverage ratio ( lcr ) in addition to internal measures that citi has developed for a 30-day stress scenario , citi also monitors its liquidity by reference to the lcr , as calculated pursuant to the u.s .lcr rules .generally , the lcr is designed to ensure that banks maintain an adequate level of hqla to meet liquidity needs under an acute 30-day stress scenario .the lcr is calculated by dividing hqla by estimated net outflows over a stressed 30-day period , with the net outflows determined by applying'),\n",
       " Document(metadata={'company': 'C', 'context_type': 'pre_text', 'fiscal': 2015}, page_content='liquidity monitoring and measurement stress testing liquidity stress testing is performed for each of citi 2019s major entities , operating subsidiaries and/or countries .stress testing and scenario analyses are intended to quantify the potential impact of a liquidity event on the balance sheet and liquidity position , and to identify viable funding alternatives that can be utilized .these scenarios include assumptions about significant changes in key funding sources , market triggers ( such as credit ratings ) , potential uses of funding and political and economic conditions in certain countries .these conditions include expected and stressed market conditions as well as company- specific events .liquidity stress tests are conducted to ascertain potential mismatches between liquidity sources and uses over a variety of time horizons ( overnight , one week , two weeks , one month , three months , one year ) and over a variety of stressed conditions .liquidity limits are set accordingly')]"
      ]
     },
     "execution_count": 27,
     "metadata": {},
     "output_type": "execute_result"
    }
   ],
   "source": [
    "retrieve(\"what was the hqla in the q4 of Citigroup in 2015?\",\"C\", 2015)"
   ]
  },
  {
   "cell_type": "code",
   "execution_count": 32,
   "metadata": {
    "id": "wCAtGqUDQ4QT"
   },
   "outputs": [],
   "source": [
    "from typing import Optional, List\n",
    "\n",
    "@tool\n",
    "def retrieve_factual_data(question: str, ticker: str, fy: int) -> str:\n",
    "    \"\"\"\n",
    "    Search vector DB for financial reports with the question, ticker, and fiscal year.\n",
    "    \n",
    "    Args:\n",
    "        question: User's financial question.\n",
    "        ticker: Company ticker for filtering.\n",
    "        fy: Fiscal year for filtering.\n",
    "    \n",
    "    Returns:\n",
    "        Relevant document content or an informative message.\n",
    "    \"\"\"\n",
    "    try:\n",
    "        # Check if inputs are valid\n",
    "        if not ticker or not fy or not question:\n",
    "            return \"Error: Missing necessary inputs (question, ticker, or fiscal year).\"\n",
    "\n",
    "        # Define retriever with filtering\n",
    "        retriever = docsearch.as_retriever(search_kwargs={\n",
    "            'k': 1,\n",
    "            'filter': {\n",
    "                \"$and\": [\n",
    "                    {\"company\": {\"$eq\": ticker}},\n",
    "                    {\"fiscal\": {\"$eq\": fy}}\n",
    "                ]\n",
    "            }\n",
    "        })\n",
    "        \n",
    "        # Perform search\n",
    "        result = retriever.invoke(question)\n",
    "        \n",
    "        if not result or len(result) == 0:\n",
    "            return (\n",
    "                f\"No data returned for ticker '{ticker}' and fiscal year '{fy}'. \"\n",
    "                \"Please refine your query or verify inputs.\"\n",
    "            )\n",
    "\n",
    "        # Extract document content\n",
    "        content = result[0].page_content\n",
    "        \n",
    "        # Check if content is relevant\n",
    "        key_terms = extract_key_terms(question)\n",
    "        if any(term.lower() in content.lower() for term in key_terms):\n",
    "            return content\n",
    "        else:\n",
    "            return (\n",
    "                \"No relevant data found for the given question. \"\n",
    "                \"Please refine your query or check the inputs (ticker and fiscal year).\"\n",
    "            )\n",
    "\n",
    "    except Exception as e:\n",
    "        return f\"Error during retrieval: {str(e)}\"\n",
    "\n",
    "def extract_key_terms(question: str) -> List[str]:\n",
    "    \"\"\"\n",
    "    Extract key terms from the question to validate relevance.\n",
    "    \n",
    "    Args:\n",
    "        question: The user's question.\n",
    "    \n",
    "    Returns:\n",
    "        A list of key terms from the question.\n",
    "    \"\"\"\n",
    "    terms = [word.strip(\".,?\") for word in question.split()]\n",
    "    return [term for term in terms if len(term) > 2]  # Filter out short or non-informative terms\n"
   ]
  },
  {
   "cell_type": "code",
   "execution_count": 33,
   "metadata": {},
   "outputs": [
    {
     "data": {
      "text/plain": [
       "'in billions of dollars,dec . 31 2015,sept . 30 2015,dec . 31 2014\\r\\nhqla,$ 378.5,$ 398.9,$ 412.6\\r\\nnet outflows,336.5,355.6,368.6\\r\\nlcr,112% ( 112 % ),112% ( 112 % ),112% ( 112 % )\\r\\nhqla in excess of net outflows,$ 42.0,$ 43.3,$ 44.0\\r\\n'"
      ]
     },
     "execution_count": 33,
     "metadata": {},
     "output_type": "execute_result"
    }
   ],
   "source": [
    "result = retrieve_factual_data.invoke({\n",
    "    \"question\": \"what was the hqla in the q4 of Citigroup in 2015?\",\n",
    "    \"ticker\": \"C\",\n",
    "    \"fy\": 2015\n",
    "})\n",
    "result"
   ]
  },
  {
   "cell_type": "code",
   "execution_count": 34,
   "metadata": {},
   "outputs": [],
   "source": [
    "@tool\n",
    "def retrieve_financial_data_tool(query: str) -> str:\n",
    "    \"\"\"\n",
    "    Retrieve financial data for a given query, integrating tools for fiscal year and ticker extraction.\n",
    "\n",
    "    Args:\n",
    "        query: User's financial question.\n",
    "\n",
    "    Returns:\n",
    "        Relevant financial data or an informative message.\n",
    "    \"\"\"\n",
    "    try:\n",
    "        # Extract ticker and fiscal year\n",
    "        ticker, fiscal_year = rewrite2fiscal(query)\n",
    "\n",
    "        if not ticker or not fiscal_year:\n",
    "            return \"Error: Unable to determine company or fiscal year from the query.\"\n",
    "\n",
    "        # Retrieve relevant financial data\n",
    "        result = retrieve_factual_data.invoke({\n",
    "            \"question\": query,\n",
    "            \"ticker\": ticker,\n",
    "            \"fy\": fiscal_year\n",
    "        })\n",
    "\n",
    "        if \"Error\" in result or \"No data\" in result:\n",
    "            return (\n",
    "                f\"Could not find relevant data for {ticker} in fiscal year {fiscal_year}. \"\n",
    "                \"Please refine your query or check the company name and fiscal year.\"\n",
    "            )\n",
    "\n",
    "        # Format result for better readability\n",
    "        formatted_result = (\n",
    "            # f\"**Query:** {query}\\n\"\n",
    "            # f\"**Company (Ticker):** {ticker}\\n\"\n",
    "            # f\"**Fiscal Year:** {fiscal_year}\\n\"\n",
    "            f\"**Retrieved Data:**\\n{result.strip()}\"\n",
    "        )\n",
    "\n",
    "        return formatted_result\n",
    "\n",
    "    except Exception as e:\n",
    "        return f\"Error during retrieval: {str(e)}\"\n"
   ]
  },
  {
   "cell_type": "code",
   "execution_count": 35,
   "metadata": {},
   "outputs": [],
   "source": [
    "from langchain.tools import Tool\n",
    "from langchain_core.messages import HumanMessage, SystemMessage\n",
    "\n",
    "def calculate_financial_ratio_tool(company: str, year: str, ratio_type: str) -> str:  \n",
    "    try:  \n",
    "        if ratio_type == \"current_ratio\":  \n",
    "            current_assets = retrieve_financial_data_tool(f\"current assets {company} {year}\")  \n",
    "            current_liabilities = retrieve_financial_data_tool(f\"current liabilities {company} {year}\")  \n",
    "            return float(current_assets) / float(current_liabilities)  \n",
    "        elif ratio_type == \"operating_margin\":  \n",
    "            operating_income = retrieve_financial_data_tool(f\"operating income {company} {year}\")  \n",
    "            revenue = retrieve_financial_data_tool(f\"revenue {company} {year}\")  \n",
    "            return (float(operating_income) / float(revenue)) * 100  \n",
    "    except Exception as e:  \n",
    "        return f\"Error calculating ratio: {str(e)}\"  \n",
    "\n",
    "def perform_math_operations_tool(operation: str, values: list) -> str:  \n",
    "    try:  \n",
    "        values = [float(v) for v in values]  \n",
    "        if operation == \"difference\":  \n",
    "            return values[0] - values[1]  \n",
    "        elif operation == \"average\":  \n",
    "            return sum(values) / len(values)  \n",
    "        elif operation == \"sum\":  \n",
    "            return sum(values)  \n",
    "        elif operation == \"multiply\":  \n",
    "            result = 1  \n",
    "            for v in values:  \n",
    "                result *= v  \n",
    "            return result  \n",
    "    except Exception as e:  \n",
    "        return f\"Error in calculation: {str(e)}\"  \n",
    "\n",
    "tools = [  \n",
    "    Tool(\n",
    "        name=\"retrieve_financial_data\",\n",
    "        func=retrieve_financial_data_tool,\n",
    "        description=\"Retrieve basic financial data for a company.\"\n",
    "    ),  \n",
    "    Tool(  \n",
    "        name=\"calculate_financial_ratio\",  \n",
    "        func=calculate_financial_ratio_tool,  \n",
    "        description=\"Calculate financial ratios like current ratio or operating margin\"  \n",
    "    ),  \n",
    "    Tool(  \n",
    "        name=\"perform_math_operations\",  \n",
    "        func=perform_math_operations_tool,  \n",
    "        description=\"Perform mathematical operations on financial data\"  \n",
    "    )  \n",
    "]  "
   ]
  },
  {
   "cell_type": "code",
   "execution_count": 44,
   "metadata": {},
   "outputs": [],
   "source": [
    "from langchain_core.prompts import PromptTemplate\n",
    "from langchain_openai import ChatOpenAI\n",
    "\n",
    "# Prompt Template for Fixed Format Response\n",
    "response_prompt = PromptTemplate(\n",
    "    input_variables=[\"query\", \"data\"],\n",
    "    template=\"\"\"\n",
    "    You are a financial analysis expert. Your goal is to provide structured answers to financial questions.\n",
    "\n",
    "    Question: {query}\n",
    "    Relevant Data: {data}\n",
    "\n",
    "    Response:\n",
    "    Answer: [Provide a specific numerical value or a clear statement derived from the data.]\n",
    "    Reasoning: [Provide a concise explanation or reasoning for the answer.]\n",
    "    \"\"\"\n",
    ")\n",
    "\n",
    "# Function to generate a response\n",
    "def generate_response(query: str, data: str) -> str:\n",
    "    \"\"\"\n",
    "    Generates a structured response to a financial query using LLM.\n",
    "\n",
    "    Args:\n",
    "        query (str): The financial question.\n",
    "        data (str): Relevant data for answering the query.\n",
    "\n",
    "    Returns:\n",
    "        str: A structured response including an answer and reasoning.\n",
    "    \"\"\"\n",
    "    # Format the prompt\n",
    "    prompt = response_prompt.format(query=query, data=data)\n",
    "\n",
    "    # Invoke the LLM directly\n",
    "    response = llm(prompt)\n",
    "\n",
    "    return response\n"
   ]
  },
  {
   "cell_type": "markdown",
   "metadata": {
    "id": "uyGfbMuCgagT"
   },
   "source": [
    "## Agent with tools"
   ]
  },
  {
   "cell_type": "code",
   "execution_count": 45,
   "metadata": {},
   "outputs": [],
   "source": [
    "# Enhanced Agentic RAG\n",
    "def agentic_rag(query: str) -> str:\n",
    "    \"\"\"\n",
    "    Enhanced agent that retrieves data and generates structured responses.\n",
    "    \"\"\"\n",
    "    system_prompt = \"\"\"You are a financial analysis expert. Your goal is to provide structured answers to financial questions.\n",
    "\n",
    "    Steps:\n",
    "    1. Use `retrieve_financial_data_tool` to retrieve relevant financial data and generate a fixed JSON response.\n",
    "    2. Return the structured response including:\n",
    "       - A specific numerical answer with proper units.\n",
    "       - A concise explanation or reasoning.\n",
    "    \"\"\"\n",
    "\n",
    "    # Retrieve financial data using your existing tool\n",
    "    tool_response = retrieve_financial_data_tool(query)\n",
    "\n",
    "    # Generate structured output using the response_prompt\n",
    "    structured_response = generate_response(query, tool_response)\n",
    "\n",
    "    return structured_response"
   ]
  },
  {
   "cell_type": "code",
   "execution_count": 46,
   "metadata": {
    "id": "WH0Xe4_KbLVN"
   },
   "outputs": [],
   "source": [
    "response = agentic_rag(\"what was the hqla in the q4 of Citigroup in 2015\")"
   ]
  },
  {
   "cell_type": "code",
   "execution_count": 47,
   "metadata": {
    "id": "-dbIL73rbSaD"
   },
   "outputs": [
    {
     "data": {
      "text/plain": [
       "AIMessage(content=\"Answer: The relevant data does not provide a specific numerical value for Citigroup's High-Quality Liquid Assets (HQLA) in Q4 of 2015.\\n\\nReasoning: The retrieved data discusses Citigroup's liquidity measures and changes in HQLA in 2019, but it does not include any specific figures or details regarding HQLA for Q4 of 2015. To obtain that information, one would need to refer to Citigroup's financial statements or regulatory filings from that period.\", additional_kwargs={'refusal': None}, response_metadata={'token_usage': {'completion_tokens': 102, 'prompt_tokens': 313, 'total_tokens': 415, 'completion_tokens_details': {'accepted_prediction_tokens': 0, 'audio_tokens': 0, 'reasoning_tokens': 0, 'rejected_prediction_tokens': 0}, 'prompt_tokens_details': {'audio_tokens': 0, 'cached_tokens': 0}}, 'model_name': 'gpt-4o-mini-2024-07-18', 'system_fingerprint': 'fp_6fc10e10eb', 'finish_reason': 'stop', 'logprobs': None}, id='run-1f69dfa2-6ced-41c3-8a2b-77f97200059c-0', usage_metadata={'input_tokens': 313, 'output_tokens': 102, 'total_tokens': 415, 'input_token_details': {'audio': 0, 'cache_read': 0}, 'output_token_details': {'audio': 0, 'reasoning': 0}})"
      ]
     },
     "execution_count": 47,
     "metadata": {},
     "output_type": "execute_result"
    }
   ],
   "source": [
    "response"
   ]
  },
  {
   "cell_type": "markdown",
   "metadata": {
    "id": "cZNNeYupG0BJ"
   },
   "source": [
    "## Scoring section\n",
    "\n",
    "Use this Q&A dictionary to test your project code.\n",
    "\n",
    "You should not change the scoring prompt.\n",
    "\n",
    "You can submit your accuracy result with the screenshot to TA email, then I will post the score to the leaderboard."
   ]
  },
  {
   "cell_type": "code",
   "execution_count": 48,
   "metadata": {
    "id": "DhGfYElBZruy"
   },
   "outputs": [],
   "source": [
    "qa_dict = [{'Question': '\"what was the hqla in the q4 of Citigroup in 2015\"',\n",
    "  'Answer': '\"378.5 billion dollars\"'},\n",
    " {'Question': '\"as a result of the sales of certain non-core towers and other assets what was the recorded net losses of American Tower in 2008\"',\n",
    "  'Answer': '\"10.5 million dollars\"'},\n",
    " {'Question': '\"what was the port call costsin of Royal Caribbean Cruises in 2012\"',\n",
    "  'Answer': '\"459.8 million dollars\"'},\n",
    " {'Question': '\"what is the aggregate rent expense of American Tower Corp in 2014?\"',\n",
    "  'Answer': '\"655.0 million dollars\"'},\n",
    " {'Question': '\"what is the long-term component of BlackRock at 12/31/2011?\"',\n",
    "  'Answer': '\"593356 million dollars\"'},\n",
    " {'Question': '\"at december 31 , 2012 of The PNC Financial Services, what was the potential maximum exposure under the loss share arrangements?\"',\n",
    "  'Answer': '\"3.9 billion dollars\"'},\n",
    " {'Question': '\"what is the total financial liabilities at fair value of Goldman Sachs in 2012?\"',\n",
    "  'Answer': '\"377677 million dollars\"'},\n",
    " {'Question': '\"what was brazilian paper sales of International Paper Company in 2006?\"',\n",
    "  'Answer': '\"6930 million dollars\"'},\n",
    " {'Question': '\"what was brazilian paper sales of International Paper Company in 2005?\"',\n",
    "  'Answer': '\"7170 million dollars\"'},\n",
    " {'Question': '\"what is the cashflow of Kellogg in 2006?\"',\n",
    "  'Answer': '\"957.4 million dollars\"'},\n",
    " {'Question': '\"From the perspective of 5 years ago, what percentage of total minimum lease payments of Dish Network are due in 2015?\"',\n",
    "  'Answer': '\"10%\"'},\n",
    " {'Question': '\"in 2011 what was the SL Green Realty Corp\\'s percent of the change in the account balance at end of year\"',\n",
    "  'Answer': '\"93.7%\"'},\n",
    " {'Question': '\"what was the value in thousands of unvested restricted stock and performance awards at the weighted-averagegrant-datefair value as of december 31 , 2018 of Global Payments?\"',\n",
    "  'Answer': '\"117624.84\"'},\n",
    " {'Question': '\"based on the cash dividends paid of the year, how many common stock shares were outstanding in 2007 Snap-on?\"',\n",
    "  'Answer': '\"58909091\"'},\n",
    " {'Question': '\"what is the Entergy Corp\\'s 2008 total value , in millions of dollars , of issuable long-term securities?\"',\n",
    "  'Answer': '\"1450\"'},\n",
    " {'Question': '\"for the capital framework of Goldman Sachs Group 7 years ago, what percent of the minimum supplementary leverage ratio consisted of a buffer?\"',\n",
    "  'Answer': '\"40%\"'},\n",
    " {'Question': '\"in 2007 what was the 3M\\'s ratio of the interest expense to the interest income\"',\n",
    "  'Answer': '\"1.59\"'},\n",
    " {'Question': '\"what is the AON\\'s decrease observed in the additions for tax positions of prior years as of 2018, in millions?\"',\n",
    "  'Answer': '\"2\"'},\n",
    " {'Question': '\"In 2014 Global Payments, what is the total value of securities approved by security holders but net yer issued , ( in millions ) ?\"',\n",
    "  'Answer': '\"365.4\"'},\n",
    " {'Question': '\"what is the percent of our network route miles that is owned rather than operated on pursuant to trackage rights or leases in 2016 Union Pacific Corp\"',\n",
    "  'Answer': '\"81.2%\"'},\n",
    " {'Question': '\"What is the American Tower Corp\\'s current ratio in 12 years ago?\"',\n",
    "  'Answer': 1.7923},\n",
    " {'Question': '\"What is the DISH Network Corporation\\'s current ratio in 13 years ago?\"',\n",
    "  'Answer': 1.7804},\n",
    " {'Question': '\"What is the American Tower Corp\\'s current ratio in 2012?\"',\n",
    "  'Answer': 1.7923},\n",
    " {'Question': '\"What is the DISH Network Corporation\\'s current ratio in 2011?\"',\n",
    "  'Answer': 1.7804},\n",
    " {'Question': '\"What is the International Paper Company\\'s Operating Profit Margin in 2006?\"',\n",
    "  'Answer': 9.769119769},\n",
    " {'Question': '\"What is the International Paper Company\\'s Operating Profit Margin in 2005?\"',\n",
    "  'Answer': 6.59693166},\n",
    " {'Question': '\"What is the International Paper Company\\'s Operating Profit Margin in 2004?\"',\n",
    "  'Answer': 7.119831815},\n",
    " {'Question': '\"What is the Air Products and Chemicals\\'s Operating Profit Margin in 2016?\"',\n",
    "  'Answer': 26.7735375},\n",
    " {'Question': '\"What is the Air Products and Chemicals\\'s Operating Profit Margin in 2015?\"',\n",
    "  'Answer': 21.88472888},\n",
    " {'Question': '\"What is the Air Products and Chemicals\\'s Operating Profit Margin in 2014?\"',\n",
    "  'Answer': 18.69805075},\n",
    " {'Question': '\"What is the difference of Operating Profit Margin between Air Products and Chemicals in 2016 and International Paper Company in 2006?\"',\n",
    "  'Answer': '17.00441774'},\n",
    " {'Question': '\"What is the average of Operating Profit Margin between Air Products and Chemicals in 2016 and International Paper Company in 2005?\"',\n",
    "  'Answer': '16.68523458'},\n",
    " {'Question': '\"What is the sum of Operating Profit Margin between Air Products and Chemicals in 2016 and International Paper Company in 2004?\"',\n",
    "  'Answer': '33.89336932'},\n",
    " {'Question': '\"Which one\\'s Operating Profit Margin is bigger between Air Products and Chemicals in 2014 and International Paper Company in 2006?\"',\n",
    "  'Answer': 'Air Products and Chemicals'},\n",
    " {'Question': '\"What is the difference of Operating Profit Margin between Air Products and Chemicals in 2015 and International Paper Company in 2006?\"',\n",
    "  'Answer': '12.11560911'},\n",
    " {'Question': '\"What is the average of Operating Profit Margin between Air Products and Chemicals in 2015 and International Paper Company in 2005?\"',\n",
    "  'Answer': '14.24083027'},\n",
    " {'Question': '\"What is the sum of Operating Profit Margin between Air Products and Chemicals in 2015 and International Paper Company in 2004?\"',\n",
    "  'Answer': '29.00456069'},\n",
    " {'Question': '\"Which one\\'s current ratio is bigger between American Tower Corp in 2012 and DISH Network Corporation in 2011?\"',\n",
    "  'Answer': 'American Tower Corp'},\n",
    " {'Question': '\"What is the average of current ratio between American Tower Corp in 2012 and DISH Network Corporation in 2011?\"',\n",
    "  'Answer': '1.786341177'},\n",
    " {'Question': '\"What is the difference of current ratio between American Tower Corp in 2012 and DISH Network Corporation in a year before that?\"',\n",
    "  'Answer': '0.01185521735'},\n",
    " {'Question': '\"What is the Goldman Sachs Group\\'s Total Assets change from 2014 to 2016 multiplied by the average of current ratio between American Tower Corp in 2012 and DISH Network Corporation in 2011?\"',\n",
    "  'Answer': '48722.45 million'},\n",
    " {'Question': '\"What is the Goldman Sachs Group\\'s Total Assets change from 2013 to 2017 multiplied by the average of current ratio between American Tower Corp in 2012 and DISH Network Corporation in 2011?\"',\n",
    "  'Answer': '46296.6 million'},\n",
    " {'Question': '\"What is the sum of Goldman Sachs Group\\'s Total Assets from 2011 to 2014 divided by the average of Operating Profit Margin between Air Products and Chemicals in 2016 and International Paper Company in 2005?',\n",
    "  'Answer': '217529.28 million'},\n",
    " {'Question': '\"What is the sum of Goldman Sachs Group\\'s Total Assets from 2011 to 2014 multiplied by the average of Operating Profit Margin between Air Products and Chemicals in 2015 and International Paper Company in 2005?\"',\n",
    "  'Answer': '51687477.96 million'},\n",
    " {'Question': '\"What is the Goldman Sachs Group\\'s Total Assets change from 2014 to 2016 divided the difference of Operating Profit Margin between Air Products and Chemicals in 2016 and International Paper Company in 2006?\"',\n",
    "  'Answer': '1604 million'},\n",
    " {'Question': '\"What is the Goldman Sachs Group\\'s Total Assets change from 2013 to 2017 dividied the sum of Operating Profit Margin between Air Products and Chemicals in 2016 and International Paper Company in 2004?\"',\n",
    "  'Answer': '764.6 million'},\n",
    " {'Question': '\"What is the difference of Union Pacific Corp\\'s revenue from 2013 to 2016 divided the sum of Operating Profit Margin between Air Products and Chemicals in 2015 and International Paper Company in 2004?\"',\n",
    "  'Answer': '-69.7 million'},\n",
    " {'Question': '\"What is the average of Union Pacific Corp\\'s revenue from 2013 to 2016 divided by the sum of Operating Profit Margin between Air Products and Chemicals in 2015 and International Paper Company in 2004?\"',\n",
    "  'Answer': '755.95 million'},\n",
    " {'Question': '\"What is the difference of Union Pacific Corp\\'s revenue from 2013 to 2016 multiplied by the average of current ratio between American Tower Corp in 2012 and DISH Network Corporation in 2011?\"',\n",
    "  'Answer': '-3611.98 million'},\n",
    " {'Question': '\"What is the average of Union Pacific Corp\\'s revenue from 2013 to 2016 divided by the average of Operating Profit Margin between Air Products and Chemicals in 2015 and International Paper Company in 2005?\"',\n",
    "  'Answer': '1539.67 million'}]"
   ]
  },
  {
   "cell_type": "code",
   "execution_count": 50,
   "metadata": {
    "id": "sKBmgzDACWn6"
   },
   "outputs": [],
   "source": [
    "score_answer_prompt = PromptTemplate(\n",
    "    input_variables=[\"question\", \"answer\", \"response\"],\n",
    "    template=\"\"\"\n",
    "    You have to score the response by comparing with the answer.\n",
    "    You should score 0 or 1 as JSON with \"score\" key.\n",
    "    You can ignore minor difference with the unit or numerical value.\n",
    "    Question: {question}\n",
    "    Answer: {answer}\n",
    "    Response: {response}\n",
    "    Score:\n",
    "\n",
    "    Output JSON: {{\n",
    "      \"score\": 1 if the answer response is meaningfully the same as the answer, 0 if the response is different from the answer>\n",
    "    }}\n",
    "    \"\"\"\n",
    ")\n",
    "\n",
    "from pydantic import BaseModel, Field\n",
    "\n",
    "class Score(BaseModel):\n",
    "    \"\"\"Score of the response\"\"\"\n",
    "    score: int = Field(description=\"score of the response\")\n",
    "\n",
    "score_answer_chain = score_answer_prompt | llm.with_structured_output(Score)"
   ]
  },
  {
   "cell_type": "code",
   "execution_count": 51,
   "metadata": {
    "id": "DRHc-NcgDyga"
   },
   "outputs": [
    {
     "data": {
      "text/plain": [
       "1"
      ]
     },
     "execution_count": 51,
     "metadata": {},
     "output_type": "execute_result"
    }
   ],
   "source": [
    "score_answer_chain.invoke({'question': qa_dict[0]['Question'], 'answer': qa_dict[0]['Answer'], 'response': 'it is 375 B'}).score"
   ]
  },
  {
   "cell_type": "markdown",
   "metadata": {
    "id": "XYG2NV2oHgdA"
   },
   "source": [
    "### Accuracy score"
   ]
  },
  {
   "cell_type": "code",
   "execution_count": 53,
   "metadata": {
    "id": "OS7oSulvaC6f"
   },
   "outputs": [
    {
     "name": "stdout",
     "output_type": "stream",
     "text": [
      "content=\"Answer: The High-Quality Liquid Assets (HQLA) for Citigroup in Q4 of 2015 was $378.5 billion.\\n\\nReasoning: The relevant data indicates that as of December 31, 2015, Citigroup's HQLA was reported at $378.5 billion. This figure is directly taken from the retrieved data for that specific date.\" additional_kwargs={'refusal': None} response_metadata={'token_usage': {'completion_tokens': 77, 'prompt_tokens': 206, 'total_tokens': 283, 'completion_tokens_details': {'accepted_prediction_tokens': 0, 'audio_tokens': 0, 'reasoning_tokens': 0, 'rejected_prediction_tokens': 0}, 'prompt_tokens_details': {'audio_tokens': 0, 'cached_tokens': 0}}, 'model_name': 'gpt-4o-mini-2024-07-18', 'system_fingerprint': 'fp_bba3c8e70b', 'finish_reason': 'stop', 'logprobs': None} id='run-47b4e94d-9466-4c14-b73d-69c27bc8327f-0' usage_metadata={'input_tokens': 206, 'output_tokens': 77, 'total_tokens': 283, 'input_token_details': {'audio': 0, 'cache_read': 0}, 'output_token_details': {'audio': 0, 'reasoning': 0}}\n",
      "0 1\n",
      "content='Answer: The recorded net losses of American Tower in 2008 were $11.2 million.\\n\\nReasoning: The relevant data indicates that during the year ended December 31, 2008, American Tower recorded impairments and net losses on the sale of long-lived assets amounting to $11.2 million. This figure reflects the losses associated with the sales of certain non-core towers and other assets, as well as impairment charges.' additional_kwargs={'refusal': None} response_metadata={'token_usage': {'completion_tokens': 88, 'prompt_tokens': 311, 'total_tokens': 399, 'completion_tokens_details': {'accepted_prediction_tokens': 0, 'audio_tokens': 0, 'reasoning_tokens': 0, 'rejected_prediction_tokens': 0}, 'prompt_tokens_details': {'audio_tokens': 0, 'cached_tokens': 0}}, 'model_name': 'gpt-4o-mini-2024-07-18', 'system_fingerprint': 'fp_6fc10e10eb', 'finish_reason': 'stop', 'logprobs': None} id='run-fbdfea54-771a-4465-9ba6-4f43b8ae5d60-0' usage_metadata={'input_tokens': 311, 'output_tokens': 88, 'total_tokens': 399, 'input_token_details': {'audio': 0, 'cache_read': 0}, 'output_token_details': {'audio': 0, 'reasoning': 0}}\n",
      "1 1\n",
      "content='Answer: The port call costs for Royal Caribbean Cruises in 2012 were $459.8 million.\\n\\nReasoning: The retrieved data indicates that the amounts of port costs included in passenger ticket revenues for the year 2012 were specifically stated as $459.8 million. This figure represents the direct costs associated with port calls that vary with guest head counts, as outlined in the financial statements.' additional_kwargs={'refusal': None} response_metadata={'token_usage': {'completion_tokens': 79, 'prompt_tokens': 302, 'total_tokens': 381, 'completion_tokens_details': {'accepted_prediction_tokens': 0, 'audio_tokens': 0, 'reasoning_tokens': 0, 'rejected_prediction_tokens': 0}, 'prompt_tokens_details': {'audio_tokens': 0, 'cached_tokens': 0}}, 'model_name': 'gpt-4o-mini-2024-07-18', 'system_fingerprint': 'fp_39a40c96a0', 'finish_reason': 'stop', 'logprobs': None} id='run-88da40f1-8760-4ef9-bb17-99b7e653bdc3-0' usage_metadata={'input_tokens': 302, 'output_tokens': 79, 'total_tokens': 381, 'input_token_details': {'audio': 0, 'cache_read': 0}, 'output_token_details': {'audio': 0, 'reasoning': 0}}\n",
      "2 2\n",
      "content='Answer: The aggregate rent expense of American Tower Corp in 2014 was approximately $655.0 million.\\n\\nReasoning: The relevant data indicates that the aggregate rent expense under operating leases for the year ended December 31, 2014, was reported as $655.0 million. This figure includes the effect of straight-line rent expense, which is a common accounting practice for lease expenses.' additional_kwargs={'refusal': None} response_metadata={'token_usage': {'completion_tokens': 79, 'prompt_tokens': 153, 'total_tokens': 232, 'completion_tokens_details': {'accepted_prediction_tokens': 0, 'audio_tokens': 0, 'reasoning_tokens': 0, 'rejected_prediction_tokens': 0}, 'prompt_tokens_details': {'audio_tokens': 0, 'cached_tokens': 0}}, 'model_name': 'gpt-4o-mini-2024-07-18', 'system_fingerprint': 'fp_6fc10e10eb', 'finish_reason': 'stop', 'logprobs': None} id='run-233ab0b9-5c46-4188-9e19-41470de8368b-0' usage_metadata={'input_tokens': 153, 'output_tokens': 79, 'total_tokens': 232, 'input_token_details': {'audio': 0, 'cache_read': 0}, 'output_token_details': {'audio': 0, 'reasoning': 0}}\n",
      "3 3\n",
      "content=\"Answer: Unfortunately, I cannot provide a specific numerical value for the long-term component of BlackRock (BLK) as of 12/31/2011 due to the unavailability of relevant financial data for that fiscal year.\\n\\nReasoning: The long-term component typically refers to long-term liabilities or long-term assets reported on the balance sheet. Without access to the specific financial statements or data for BlackRock in 2011, I am unable to extract or confirm the exact figures. It is advisable to consult BlackRock's annual report for 2011 or financial databases that archive historical financial data for accurate information.\" additional_kwargs={'refusal': None} response_metadata={'token_usage': {'completion_tokens': 123, 'prompt_tokens': 118, 'total_tokens': 241, 'completion_tokens_details': {'accepted_prediction_tokens': 0, 'audio_tokens': 0, 'reasoning_tokens': 0, 'rejected_prediction_tokens': 0}, 'prompt_tokens_details': {'audio_tokens': 0, 'cached_tokens': 0}}, 'model_name': 'gpt-4o-mini-2024-07-18', 'system_fingerprint': 'fp_6fc10e10eb', 'finish_reason': 'stop', 'logprobs': None} id='run-e4acacb7-3a6e-4019-89db-de13d04471dc-0' usage_metadata={'input_tokens': 118, 'output_tokens': 123, 'total_tokens': 241, 'input_token_details': {'audio': 0, 'cache_read': 0}, 'output_token_details': {'audio': 0, 'reasoning': 0}}\n",
      "4 3\n",
      "content='Answer: The potential maximum exposure under the loss share arrangements for The PNC Financial Services as of December 31, 2012, is not explicitly stated in the retrieved data.\\n\\nReasoning: The provided data focuses on the balance of commercial mortgage loans held for sale and their changes over the years, but it does not include specific figures or details regarding the potential maximum exposure under loss share arrangements. To determine that value, additional information from the financial statements or disclosures related to loss share agreements would be necessary.' additional_kwargs={'refusal': None} response_metadata={'token_usage': {'completion_tokens': 101, 'prompt_tokens': 224, 'total_tokens': 325, 'completion_tokens_details': {'accepted_prediction_tokens': 0, 'audio_tokens': 0, 'reasoning_tokens': 0, 'rejected_prediction_tokens': 0}, 'prompt_tokens_details': {'audio_tokens': 0, 'cached_tokens': 0}}, 'model_name': 'gpt-4o-mini-2024-07-18', 'system_fingerprint': 'fp_39a40c96a0', 'finish_reason': 'stop', 'logprobs': None} id='run-7759d46e-6b8f-484b-b348-ff37407a3bdd-0' usage_metadata={'input_tokens': 224, 'output_tokens': 101, 'total_tokens': 325, 'input_token_details': {'audio': 0, 'cache_read': 0}, 'output_token_details': {'audio': 0, 'reasoning': 0}}\n",
      "5 3\n",
      "content='Answer: The total financial liabilities at fair value of Goldman Sachs in 2012 were $XXX billion. \\n\\nReasoning: This figure is derived from the 2012 annual report of Goldman Sachs, which details the financial liabilities accounted for at fair value under the fair value option. The report includes information on significant unrealized gains and losses, as well as transfers in and out of level 3, which are critical for understanding the valuation of these liabilities. For the exact numerical value, please refer to the specific financial statements or notes in the annual report.' additional_kwargs={'refusal': None} response_metadata={'token_usage': {'completion_tokens': 111, 'prompt_tokens': 150, 'total_tokens': 261, 'completion_tokens_details': {'accepted_prediction_tokens': 0, 'audio_tokens': 0, 'reasoning_tokens': 0, 'rejected_prediction_tokens': 0}, 'prompt_tokens_details': {'audio_tokens': 0, 'cached_tokens': 0}}, 'model_name': 'gpt-4o-mini-2024-07-18', 'system_fingerprint': 'fp_6fc10e10eb', 'finish_reason': 'stop', 'logprobs': None} id='run-a75801ee-8af8-4d37-b263-6752f7629ac4-0' usage_metadata={'input_tokens': 150, 'output_tokens': 111, 'total_tokens': 261, 'input_token_details': {'audio': 0, 'cache_read': 0}, 'output_token_details': {'audio': 0, 'reasoning': 0}}\n",
      "6 3\n",
      "content='Answer: The specific numerical value for Brazilian paper sales of International Paper Company in 2006 is not provided in the retrieved data.\\n\\nReasoning: The retrieved data indicates that there were earnings declines in Brazilian papers in 2006, but it does not specify the actual sales figures or net sales amount for Brazilian paper sales. The information focuses on overall trends in sales and profits without detailing specific revenue figures for Brazil.' additional_kwargs={'refusal': None} response_metadata={'token_usage': {'completion_tokens': 82, 'prompt_tokens': 338, 'total_tokens': 420, 'completion_tokens_details': {'accepted_prediction_tokens': 0, 'audio_tokens': 0, 'reasoning_tokens': 0, 'rejected_prediction_tokens': 0}, 'prompt_tokens_details': {'audio_tokens': 0, 'cached_tokens': 0}}, 'model_name': 'gpt-4o-mini-2024-07-18', 'system_fingerprint': 'fp_6fc10e10eb', 'finish_reason': 'stop', 'logprobs': None} id='run-1c922b6a-cfc7-413a-a470-8a6b9e8dc311-0' usage_metadata={'input_tokens': 338, 'output_tokens': 82, 'total_tokens': 420, 'input_token_details': {'audio': 0, 'cache_read': 0}, 'output_token_details': {'audio': 0, 'reasoning': 0}}\n",
      "7 3\n",
      "content=\"Answer: Unfortunately, I could not find specific numerical data regarding Brazilian paper sales of International Paper Company in 2005.\\n\\nReasoning: The absence of relevant data may be due to limited public disclosures or reporting practices for that specific year. It is advisable to check the company's annual reports or financial statements from that period, or to refine the query to include other years or specific product lines for more accurate information.\" additional_kwargs={'refusal': None} response_metadata={'token_usage': {'completion_tokens': 81, 'prompt_tokens': 114, 'total_tokens': 195, 'completion_tokens_details': {'accepted_prediction_tokens': 0, 'audio_tokens': 0, 'reasoning_tokens': 0, 'rejected_prediction_tokens': 0}, 'prompt_tokens_details': {'audio_tokens': 0, 'cached_tokens': 0}}, 'model_name': 'gpt-4o-mini-2024-07-18', 'system_fingerprint': 'fp_6fc10e10eb', 'finish_reason': 'stop', 'logprobs': None} id='run-0cf21038-957f-4ac4-b8b3-ba4a2c7fb4a1-0' usage_metadata={'input_tokens': 114, 'output_tokens': 81, 'total_tokens': 195, 'input_token_details': {'audio': 0, 'cache_read': 0}, 'output_token_details': {'audio': 0, 'reasoning': 0}}\n",
      "8 3\n",
      "content=\"Answer: Unfortunately, I do not have access to specific cash flow data for Kellogg in 2006.\\n\\nReasoning: The cash flow information for a specific company in a particular year can typically be found in the company's annual report or financial statements. Since no relevant data was retrieved for Kellogg's cash flow in 2006, I recommend checking financial databases, the company's investor relations website, or financial news archives for the required information.\" additional_kwargs={'refusal': None} response_metadata={'token_usage': {'completion_tokens': 88, 'prompt_tokens': 113, 'total_tokens': 201, 'completion_tokens_details': {'accepted_prediction_tokens': 0, 'audio_tokens': 0, 'reasoning_tokens': 0, 'rejected_prediction_tokens': 0}, 'prompt_tokens_details': {'audio_tokens': 0, 'cached_tokens': 0}}, 'model_name': 'gpt-4o-mini-2024-07-18', 'system_fingerprint': 'fp_6fc10e10eb', 'finish_reason': 'stop', 'logprobs': None} id='run-9b7c2de2-1a17-4bd2-9c33-bb0932eb73a8-0' usage_metadata={'input_tokens': 113, 'output_tokens': 88, 'total_tokens': 201, 'input_token_details': {'audio': 0, 'cache_read': 0}, 'output_token_details': {'audio': 0, 'reasoning': 0}}\n",
      "9 3\n",
      "content=\"Answer: Unfortunately, I cannot provide a specific numerical value for the percentage of total minimum lease payments of Dish Network due in 2015, as the relevant data for DISH in fiscal year 2019 is not available.\\n\\nReasoning: To determine the percentage of total minimum lease payments due in 2015 from a historical perspective, one would typically need access to Dish Network's financial statements from that time, specifically the notes related to lease obligations. Without this data, it is impossible to calculate the requested percentage accurately. If you can provide the relevant financial data or clarify the fiscal year, I would be happy to assist further.\" additional_kwargs={'refusal': None} response_metadata={'token_usage': {'completion_tokens': 126, 'prompt_tokens': 126, 'total_tokens': 252, 'completion_tokens_details': {'accepted_prediction_tokens': 0, 'audio_tokens': 0, 'reasoning_tokens': 0, 'rejected_prediction_tokens': 0}, 'prompt_tokens_details': {'audio_tokens': 0, 'cached_tokens': 0}}, 'model_name': 'gpt-4o-mini-2024-07-18', 'system_fingerprint': 'fp_6fc10e10eb', 'finish_reason': 'stop', 'logprobs': None} id='run-17cc590d-5c60-4001-b832-16e727f982fe-0' usage_metadata={'input_tokens': 126, 'output_tokens': 126, 'total_tokens': 252, 'input_token_details': {'audio': 0, 'cache_read': 0}, 'output_token_details': {'audio': 0, 'reasoning': 0}}\n",
      "10 3\n",
      "content='Answer: The percent change in the account balance at the end of the year for SL Green Realty Corp in 2011 cannot be determined from the provided data.\\n\\nReasoning: The retrieved data does not include specific numerical values or account balances for SL Green Realty Corp for the years 2010 and 2011, which are necessary to calculate the percent change. To compute the percent change, we would need the account balance at the end of 2010 and the account balance at the end of 2011. Without this information, we cannot provide a specific numerical value or percentage.' additional_kwargs={'refusal': None} response_metadata={'token_usage': {'completion_tokens': 117, 'prompt_tokens': 217, 'total_tokens': 334, 'completion_tokens_details': {'accepted_prediction_tokens': 0, 'audio_tokens': 0, 'reasoning_tokens': 0, 'rejected_prediction_tokens': 0}, 'prompt_tokens_details': {'audio_tokens': 0, 'cached_tokens': 0}}, 'model_name': 'gpt-4o-mini-2024-07-18', 'system_fingerprint': 'fp_6fc10e10eb', 'finish_reason': 'stop', 'logprobs': None} id='run-f8d7a740-8e84-4b8f-91f3-68a90f7e4bc7-0' usage_metadata={'input_tokens': 217, 'output_tokens': 117, 'total_tokens': 334, 'input_token_details': {'audio': 0, 'cache_read': 0}, 'output_token_details': {'audio': 0, 'reasoning': 0}}\n",
      "11 3\n",
      "content=\"Answer: The value of unvested restricted stock and performance awards at the weighted-average grant-date fair value as of December 31, 2018, for Global Payments was not available in the provided data.\\n\\nReasoning: The relevant data for Global Payments (GPN) in fiscal year 2019 was not found, indicating that either the information was not disclosed in the financial statements or the query needs to be refined to access the correct fiscal year or company details. To obtain this information, it may be necessary to review the company's annual report (10-K) or proxy statement for that period.\" additional_kwargs={'refusal': None} response_metadata={'token_usage': {'completion_tokens': 120, 'prompt_tokens': 136, 'total_tokens': 256, 'completion_tokens_details': {'accepted_prediction_tokens': 0, 'audio_tokens': 0, 'reasoning_tokens': 0, 'rejected_prediction_tokens': 0}, 'prompt_tokens_details': {'audio_tokens': 0, 'cached_tokens': 0}}, 'model_name': 'gpt-4o-mini-2024-07-18', 'system_fingerprint': 'fp_6fc10e10eb', 'finish_reason': 'stop', 'logprobs': None} id='run-764564f8-2635-442d-8028-6348680f0864-0' usage_metadata={'input_tokens': 136, 'output_tokens': 120, 'total_tokens': 256, 'input_token_details': {'audio': 0, 'cache_read': 0}, 'output_token_details': {'audio': 0, 'reasoning': 0}}\n",
      "12 3\n",
      "content='Answer: Unfortunately, I cannot provide a specific numerical value for the number of common stock shares outstanding for Snap-on in 2007 due to the lack of available data.\\n\\nReasoning: To determine the number of common stock shares outstanding based on cash dividends paid, one would typically divide the total cash dividends by the dividend per share. However, without access to the specific cash dividends paid and the dividend per share for Snap-on in 2007, it is not possible to calculate the number of shares outstanding. It is advisable to check financial statements or reports from that fiscal year for accurate figures.' additional_kwargs={'refusal': None} response_metadata={'token_usage': {'completion_tokens': 118, 'prompt_tokens': 124, 'total_tokens': 242, 'completion_tokens_details': {'accepted_prediction_tokens': 0, 'audio_tokens': 0, 'reasoning_tokens': 0, 'rejected_prediction_tokens': 0}, 'prompt_tokens_details': {'audio_tokens': 0, 'cached_tokens': 0}}, 'model_name': 'gpt-4o-mini-2024-07-18', 'system_fingerprint': 'fp_6fc10e10eb', 'finish_reason': 'stop', 'logprobs': None} id='run-589db1ff-ac16-4424-a7ad-1882b7104d7d-0' usage_metadata={'input_tokens': 124, 'output_tokens': 118, 'total_tokens': 242, 'input_token_details': {'audio': 0, 'cache_read': 0}, 'output_token_details': {'audio': 0, 'reasoning': 0}}\n",
      "13 3\n",
      "content='Answer: The total value of issuable long-term securities for Entergy Corp in 2008 is $750 million.\\n\\nReasoning: The relevant data indicates that Entergy Gulf States Louisiana was authorized to issue up to $750 million of other long-term securities, which includes common and preferred membership interests and long-term debt. This amount represents the total value of long-term securities that could be issued during the specified period.' additional_kwargs={'refusal': None} response_metadata={'token_usage': {'completion_tokens': 83, 'prompt_tokens': 233, 'total_tokens': 316, 'completion_tokens_details': {'accepted_prediction_tokens': 0, 'audio_tokens': 0, 'reasoning_tokens': 0, 'rejected_prediction_tokens': 0}, 'prompt_tokens_details': {'audio_tokens': 0, 'cached_tokens': 0}}, 'model_name': 'gpt-4o-mini-2024-07-18', 'system_fingerprint': 'fp_6fc10e10eb', 'finish_reason': 'stop', 'logprobs': None} id='run-702b0420-fbe8-42a5-a4f1-e4cab58137b6-0' usage_metadata={'input_tokens': 233, 'output_tokens': 83, 'total_tokens': 316, 'input_token_details': {'audio': 0, 'cache_read': 0}, 'output_token_details': {'audio': 0, 'reasoning': 0}}\n",
      "14 3\n",
      "content=\"Answer: Unfortunately, I could not find specific data regarding the capital framework of Goldman Sachs Group for the fiscal year 2016, including the percentage of the minimum supplementary leverage ratio that consisted of a buffer.\\n\\nReasoning: The minimum supplementary leverage ratio is a regulatory requirement that banks must meet, and it typically includes a capital buffer above the minimum requirement. However, without access to the specific financial reports or regulatory filings from that year, I cannot provide the exact percentage. It is advisable to refer to Goldman Sachs' annual reports or regulatory filings from 2016 for detailed information on their capital framework.\" additional_kwargs={'refusal': None} response_metadata={'token_usage': {'completion_tokens': 119, 'prompt_tokens': 125, 'total_tokens': 244, 'completion_tokens_details': {'accepted_prediction_tokens': 0, 'audio_tokens': 0, 'reasoning_tokens': 0, 'rejected_prediction_tokens': 0}, 'prompt_tokens_details': {'audio_tokens': 0, 'cached_tokens': 0}}, 'model_name': 'gpt-4o-mini-2024-07-18', 'system_fingerprint': 'fp_6fc10e10eb', 'finish_reason': 'stop', 'logprobs': None} id='run-4aa09882-f32b-43c7-946e-58c72488ed8c-0' usage_metadata={'input_tokens': 125, 'output_tokens': 119, 'total_tokens': 244, 'input_token_details': {'audio': 0, 'cache_read': 0}, 'output_token_details': {'audio': 0, 'reasoning': 0}}\n",
      "15 3\n",
      "content=\"Answer: The ratio of 3M's interest expense to interest income in 2007 is approximately 1.59.\\n\\nReasoning: To calculate the ratio of interest expense to interest income, we use the formula:\\n\\n\\\\[\\n\\\\text{Ratio} = \\\\frac{\\\\text{Interest Expense}}{\\\\text{Interest Income}}\\n\\\\]\\n\\nFrom the retrieved data for 2007:\\n- Interest Expense = $210 million\\n- Interest Income = -$132 million (which is a negative value)\\n\\nSubstituting the values into the formula gives:\\n\\n\\\\[\\n\\\\text{Ratio} = \\\\frac{210}{-132} \\\\approx -1.59\\n\\\\]\\n\\nSince the interest income is negative, this indicates that 3M's interest expenses exceed its interest income, resulting in a negative ratio. However, in terms of absolute values, the ratio can be interpreted as 1.59, indicating that for every dollar of interest income, there is approximately $1.59 in interest expense.\" additional_kwargs={'refusal': None} response_metadata={'token_usage': {'completion_tokens': 201, 'prompt_tokens': 153, 'total_tokens': 354, 'completion_tokens_details': {'accepted_prediction_tokens': 0, 'audio_tokens': 0, 'reasoning_tokens': 0, 'rejected_prediction_tokens': 0}, 'prompt_tokens_details': {'audio_tokens': 0, 'cached_tokens': 0}}, 'model_name': 'gpt-4o-mini-2024-07-18', 'system_fingerprint': 'fp_39a40c96a0', 'finish_reason': 'stop', 'logprobs': None} id='run-2f210215-49ba-4e95-b7d9-7766b7ef9c45-0' usage_metadata={'input_tokens': 153, 'output_tokens': 201, 'total_tokens': 354, 'input_token_details': {'audio': 0, 'cache_read': 0}, 'output_token_details': {'audio': 0, 'reasoning': 0}}\n",
      "16 4\n",
      "content='Answer: The decrease in the additions for tax positions of prior years as of 2018 is $2 million.\\n\\nReasoning: In 2017, the additions for tax positions of prior years were $12 million, and in 2018, they decreased to $10 million. The decrease is calculated as follows: $12 million (2017) - $10 million (2018) = $2 million.' additional_kwargs={'refusal': None} response_metadata={'token_usage': {'completion_tokens': 84, 'prompt_tokens': 229, 'total_tokens': 313, 'completion_tokens_details': {'accepted_prediction_tokens': 0, 'audio_tokens': 0, 'reasoning_tokens': 0, 'rejected_prediction_tokens': 0}, 'prompt_tokens_details': {'audio_tokens': 0, 'cached_tokens': 0}}, 'model_name': 'gpt-4o-mini-2024-07-18', 'system_fingerprint': 'fp_6fc10e10eb', 'finish_reason': 'stop', 'logprobs': None} id='run-df8d4a09-48d9-4cbb-89b3-7aeee33ef825-0' usage_metadata={'input_tokens': 229, 'output_tokens': 84, 'total_tokens': 313, 'input_token_details': {'audio': 0, 'cache_read': 0}, 'output_token_details': {'audio': 0, 'reasoning': 0}}\n",
      "17 5\n",
      "content='Answer: The total value of securities approved by security holders but not yet issued is $40.85 million.\\n\\nReasoning: The relevant data indicates that there are 766,801 securities to be issued upon exercise of outstanding options, warrants, and rights, with a weighted-average exercise price of $40.85. To find the total value of these securities, we multiply the number of securities by the weighted-average exercise price: \\n\\nTotal Value = Number of Securities × Weighted-Average Exercise Price  \\nTotal Value = 766,801 × $40.85 = $31,305,000.85, which rounds to approximately $31.31 million.\\n\\nHowever, the question specifically asks for the total value of securities approved by security holders but not yet issued, which is represented by the number of securities remaining available for future issuance under equity compensation plans (excluding those reflected in column (a)). This value is 8,945,694, which is the number of securities remaining available for future issuance. \\n\\nThus, the total value of securities approved by security holders but not yet issued is calculated as follows:\\n\\nTotal Value = Number of Securities Remaining Available × Weighted-Average Exercise Price  \\nTotal Value = 8,945,694 × $40.85 = $364,000,000.90, which rounds to approximately $364 million.\\n\\nTherefore, the final answer is $364 million.' additional_kwargs={'refusal': None} response_metadata={'token_usage': {'completion_tokens': 278, 'prompt_tokens': 218, 'total_tokens': 496, 'completion_tokens_details': {'accepted_prediction_tokens': 0, 'audio_tokens': 0, 'reasoning_tokens': 0, 'rejected_prediction_tokens': 0}, 'prompt_tokens_details': {'audio_tokens': 0, 'cached_tokens': 0}}, 'model_name': 'gpt-4o-mini-2024-07-18', 'system_fingerprint': 'fp_6fc10e10eb', 'finish_reason': 'stop', 'logprobs': None} id='run-776c7a08-eac5-46b7-9b1a-716b89962d63-0' usage_metadata={'input_tokens': 218, 'output_tokens': 278, 'total_tokens': 496, 'input_token_details': {'audio': 0, 'cache_read': 0}, 'output_token_details': {'audio': 0, 'reasoning': 0}}\n",
      "18 5\n",
      "content=\"**Answer:** In 2016, Union Pacific Corporation owned approximately 81.2% of its network route miles.\\n\\n**Reasoning:** The total network route miles for Union Pacific is 32,070 miles, of which 26,053 miles are owned. To calculate the percentage of owned route miles, the formula is:\\n\\n\\\\[\\n\\\\text{Percentage Owned} = \\\\left( \\\\frac{\\\\text{Owned Miles}}{\\\\text{Total Miles}} \\\\right) \\\\times 100\\n\\\\]\\n\\nSubstituting the values:\\n\\n\\\\[\\n\\\\text{Percentage Owned} = \\\\left( \\\\frac{26,053}{32,070} \\\\right) \\\\times 100 \\\\approx 81.2\\\\%\\n\\\\]\\n\\nThus, approximately 81.2% of Union Pacific's network route miles are owned rather than operated under trackage rights or leases.\" additional_kwargs={'refusal': None} response_metadata={'token_usage': {'completion_tokens': 175, 'prompt_tokens': 332, 'total_tokens': 507, 'completion_tokens_details': {'accepted_prediction_tokens': 0, 'audio_tokens': 0, 'reasoning_tokens': 0, 'rejected_prediction_tokens': 0}, 'prompt_tokens_details': {'audio_tokens': 0, 'cached_tokens': 0}}, 'model_name': 'gpt-4o-mini-2024-07-18', 'system_fingerprint': 'fp_6fc10e10eb', 'finish_reason': 'stop', 'logprobs': None} id='run-fb391459-f8c9-4fba-b5c0-9f234baa6bd0-0' usage_metadata={'input_tokens': 332, 'output_tokens': 175, 'total_tokens': 507, 'input_token_details': {'audio': 0, 'cache_read': 0}, 'output_token_details': {'audio': 0, 'reasoning': 0}}\n",
      "19 6\n",
      "content=\"Answer: Unfortunately, I cannot provide a specific numerical value for American Tower Corp's current ratio from 12 years ago (fiscal year 2011) as the relevant data is not available.\\n\\nReasoning: The current ratio is calculated by dividing a company's current assets by its current liabilities. To determine this ratio for American Tower Corp in 2011, we would need access to the company's financial statements from that fiscal year, which include the necessary figures for current assets and current liabilities. Since this data is not readily available, I recommend checking financial databases or the company's historical filings with the SEC for the required information.\" additional_kwargs={'refusal': None} response_metadata={'token_usage': {'completion_tokens': 123, 'prompt_tokens': 115, 'total_tokens': 238, 'completion_tokens_details': {'accepted_prediction_tokens': 0, 'audio_tokens': 0, 'reasoning_tokens': 0, 'rejected_prediction_tokens': 0}, 'prompt_tokens_details': {'audio_tokens': 0, 'cached_tokens': 0}}, 'model_name': 'gpt-4o-mini-2024-07-18', 'system_fingerprint': 'fp_6fc10e10eb', 'finish_reason': 'stop', 'logprobs': None} id='run-6b1b4c73-0b84-4e8f-8714-bbb9cc3cba65-0' usage_metadata={'input_tokens': 115, 'output_tokens': 123, 'total_tokens': 238, 'input_token_details': {'audio': 0, 'cache_read': 0}, 'output_token_details': {'audio': 0, 'reasoning': 0}}\n",
      "20 6\n",
      "content=\"Answer: The current ratio for DISH Network Corporation 13 years ago (as of December 31, 2010) is not directly provided in the retrieved data.\\n\\nReasoning: The current ratio is calculated by dividing current assets by current liabilities. The retrieved data only mentions future minimum lease payments and does not include specific figures for current assets or current liabilities. To determine the current ratio, one would need to access DISH Network's balance sheet from that period to obtain the necessary figures.\" additional_kwargs={'refusal': None} response_metadata={'token_usage': {'completion_tokens': 98, 'prompt_tokens': 149, 'total_tokens': 247, 'completion_tokens_details': {'accepted_prediction_tokens': 0, 'audio_tokens': 0, 'reasoning_tokens': 0, 'rejected_prediction_tokens': 0}, 'prompt_tokens_details': {'audio_tokens': 0, 'cached_tokens': 0}}, 'model_name': 'gpt-4o-mini-2024-07-18', 'system_fingerprint': 'fp_6fc10e10eb', 'finish_reason': 'stop', 'logprobs': None} id='run-98b6712d-0f95-40e9-80f5-41f788acc72f-0' usage_metadata={'input_tokens': 149, 'output_tokens': 98, 'total_tokens': 247, 'input_token_details': {'audio': 0, 'cache_read': 0}, 'output_token_details': {'audio': 0, 'reasoning': 0}}\n",
      "21 6\n",
      "content='Answer: The current ratio for American Tower Corp in 2012 is not provided in the retrieved data.\\n\\nReasoning: The current ratio is calculated by dividing current assets by current liabilities. However, the retrieved data does not include specific figures for current assets or current liabilities for American Tower Corp in 2012. To determine the current ratio, one would need to access the complete financial statements for that year, which typically include the balance sheet with the necessary figures.' additional_kwargs={'refusal': None} response_metadata={'token_usage': {'completion_tokens': 92, 'prompt_tokens': 141, 'total_tokens': 233, 'completion_tokens_details': {'accepted_prediction_tokens': 0, 'audio_tokens': 0, 'reasoning_tokens': 0, 'rejected_prediction_tokens': 0}, 'prompt_tokens_details': {'audio_tokens': 0, 'cached_tokens': 0}}, 'model_name': 'gpt-4o-mini-2024-07-18', 'system_fingerprint': 'fp_6fc10e10eb', 'finish_reason': 'stop', 'logprobs': None} id='run-7b643eee-3bc1-4b17-9e6f-7d9c3ecefe54-0' usage_metadata={'input_tokens': 141, 'output_tokens': 92, 'total_tokens': 233, 'input_token_details': {'audio': 0, 'cache_read': 0}, 'output_token_details': {'audio': 0, 'reasoning': 0}}\n",
      "22 6\n",
      "content=\"Answer: The current ratio for DISH Network Corporation in 2011 cannot be determined from the provided data.\\n\\nReasoning: The current ratio is calculated by dividing a company's current assets by its current liabilities. The relevant data provided does not include specific figures for DISH Network's current assets or current liabilities for the year 2011. Therefore, without these numerical values, it is impossible to calculate the current ratio.\" additional_kwargs={'refusal': None} response_metadata={'token_usage': {'completion_tokens': 83, 'prompt_tokens': 304, 'total_tokens': 387, 'completion_tokens_details': {'accepted_prediction_tokens': 0, 'audio_tokens': 0, 'reasoning_tokens': 0, 'rejected_prediction_tokens': 0}, 'prompt_tokens_details': {'audio_tokens': 0, 'cached_tokens': 0}}, 'model_name': 'gpt-4o-mini-2024-07-18', 'system_fingerprint': 'fp_6fc10e10eb', 'finish_reason': 'stop', 'logprobs': None} id='run-a49efe4f-d1de-4359-96d1-c0f119ddb44d-0' usage_metadata={'input_tokens': 304, 'output_tokens': 83, 'total_tokens': 387, 'input_token_details': {'audio': 0, 'cache_read': 0}, 'output_token_details': {'audio': 0, 'reasoning': 0}}\n",
      "23 6\n",
      "content='Answer: The specific numerical value for the Operating Profit Margin of International Paper Company in 2006 cannot be determined from the provided data.\\n\\nReasoning: The retrieved data mentions that the Asian box and containerboard business had net sales of $182 million in 2006 and generated a small operating profit, but it does not provide the exact amount of the operating profit or the total operating expenses. The Operating Profit Margin is calculated as (Operating Profit / Net Sales) x 100. Without the actual operating profit figure, we cannot calculate the margin.' additional_kwargs={'refusal': None} response_metadata={'token_usage': {'completion_tokens': 109, 'prompt_tokens': 189, 'total_tokens': 298, 'completion_tokens_details': {'accepted_prediction_tokens': 0, 'audio_tokens': 0, 'reasoning_tokens': 0, 'rejected_prediction_tokens': 0}, 'prompt_tokens_details': {'audio_tokens': 0, 'cached_tokens': 0}}, 'model_name': 'gpt-4o-mini-2024-07-18', 'system_fingerprint': 'fp_6fc10e10eb', 'finish_reason': 'stop', 'logprobs': None} id='run-866c24bc-4e16-4ea8-93c0-418129308bfc-0' usage_metadata={'input_tokens': 189, 'output_tokens': 109, 'total_tokens': 298, 'input_token_details': {'audio': 0, 'cache_read': 0}, 'output_token_details': {'audio': 0, 'reasoning': 0}}\n",
      "24 6\n",
      "content='Answer: Unfortunately, I cannot provide the specific Operating Profit Margin for International Paper Company in 2005 as the relevant financial data is not available.\\n\\nReasoning: The Operating Profit Margin is calculated by dividing the operating income by total revenue. Without access to the financial statements or specific figures for International Paper in 2005, I am unable to compute or provide this metric. It is advisable to check financial databases, company reports, or other reliable sources for historical financial data.' additional_kwargs={'refusal': None} response_metadata={'token_usage': {'completion_tokens': 94, 'prompt_tokens': 113, 'total_tokens': 207, 'completion_tokens_details': {'accepted_prediction_tokens': 0, 'audio_tokens': 0, 'reasoning_tokens': 0, 'rejected_prediction_tokens': 0}, 'prompt_tokens_details': {'audio_tokens': 0, 'cached_tokens': 0}}, 'model_name': 'gpt-4o-mini-2024-07-18', 'system_fingerprint': 'fp_6fc10e10eb', 'finish_reason': 'stop', 'logprobs': None} id='run-6c88220f-b277-423f-bc8b-b8165a9ac207-0' usage_metadata={'input_tokens': 113, 'output_tokens': 94, 'total_tokens': 207, 'input_token_details': {'audio': 0, 'cache_read': 0}, 'output_token_details': {'audio': 0, 'reasoning': 0}}\n",
      "25 6\n",
      "content='Answer: Unfortunately, I cannot provide the specific Operating Profit Margin for International Paper Company in 2004 as the relevant financial data is not available.\\n\\nReasoning: The Operating Profit Margin is calculated by dividing the operating income by total revenue. Without access to the financial statements or specific figures for International Paper in 2004, I am unable to compute or provide this metric. It is advisable to check financial databases, company reports, or other reliable sources for historical financial data.' additional_kwargs={'refusal': None} response_metadata={'token_usage': {'completion_tokens': 94, 'prompt_tokens': 113, 'total_tokens': 207, 'completion_tokens_details': {'accepted_prediction_tokens': 0, 'audio_tokens': 0, 'reasoning_tokens': 0, 'rejected_prediction_tokens': 0}, 'prompt_tokens_details': {'audio_tokens': 0, 'cached_tokens': 0}}, 'model_name': 'gpt-4o-mini-2024-07-18', 'system_fingerprint': 'fp_6fc10e10eb', 'finish_reason': 'stop', 'logprobs': None} id='run-7276fca7-9e96-4d66-8d5a-f35f597f264b-0' usage_metadata={'input_tokens': 113, 'output_tokens': 94, 'total_tokens': 207, 'input_token_details': {'audio': 0, 'cache_read': 0}, 'output_token_details': {'audio': 0, 'reasoning': 0}}\n",
      "26 6\n",
      "content='Answer: The Operating Profit Margin for Air Products and Chemicals in 2016 is 26.8%.\\n\\nReasoning: The relevant data indicates that the operating margin for 2016 is explicitly stated as 26.8%. This percentage represents the ratio of operating income to sales, indicating the efficiency of the company in managing its operating expenses relative to its revenue.' additional_kwargs={'refusal': None} response_metadata={'token_usage': {'completion_tokens': 72, 'prompt_tokens': 257, 'total_tokens': 329, 'completion_tokens_details': {'accepted_prediction_tokens': 0, 'audio_tokens': 0, 'reasoning_tokens': 0, 'rejected_prediction_tokens': 0}, 'prompt_tokens_details': {'audio_tokens': 0, 'cached_tokens': 0}}, 'model_name': 'gpt-4o-mini-2024-07-18', 'system_fingerprint': 'fp_39a40c96a0', 'finish_reason': 'stop', 'logprobs': None} id='run-24eaaa82-2494-4897-b0c9-5cd00fc9b630-0' usage_metadata={'input_tokens': 257, 'output_tokens': 72, 'total_tokens': 329, 'input_token_details': {'audio': 0, 'cache_read': 0}, 'output_token_details': {'audio': 0, 'reasoning': 0}}\n",
      "27 7\n",
      "content=\"Answer: Unfortunately, I could not locate the specific Operating Profit Margin for Air Products and Chemicals (APD) in fiscal year 2015.\\n\\nReasoning: The Operating Profit Margin is calculated as Operating Income divided by Revenue. Without access to the financial statements or relevant data for APD in 2015, I am unable to provide a numerical value. It is advisable to check the company's annual report for that year or financial databases for accurate figures.\" additional_kwargs={'refusal': None} response_metadata={'token_usage': {'completion_tokens': 90, 'prompt_tokens': 116, 'total_tokens': 206, 'completion_tokens_details': {'accepted_prediction_tokens': 0, 'audio_tokens': 0, 'reasoning_tokens': 0, 'rejected_prediction_tokens': 0}, 'prompt_tokens_details': {'audio_tokens': 0, 'cached_tokens': 0}}, 'model_name': 'gpt-4o-mini-2024-07-18', 'system_fingerprint': 'fp_39a40c96a0', 'finish_reason': 'stop', 'logprobs': None} id='run-da11890c-1a69-48df-9c69-e6ca1a9fa370-0' usage_metadata={'input_tokens': 116, 'output_tokens': 90, 'total_tokens': 206, 'input_token_details': {'audio': 0, 'cache_read': 0}, 'output_token_details': {'audio': 0, 'reasoning': 0}}\n",
      "28 7\n",
      "content=\"Answer: Unfortunately, I could not find the specific Operating Profit Margin for Air Products and Chemicals (APD) in fiscal year 2014.\\n\\nReasoning: The Operating Profit Margin is calculated as Operating Income divided by Revenue. However, without access to the financial statements or relevant data for APD in 2014, I am unable to provide a numerical value. It is advisable to check financial databases, the company's annual report for that year, or other reliable financial information sources for the required data.\" additional_kwargs={'refusal': None} response_metadata={'token_usage': {'completion_tokens': 100, 'prompt_tokens': 116, 'total_tokens': 216, 'completion_tokens_details': {'accepted_prediction_tokens': 0, 'audio_tokens': 0, 'reasoning_tokens': 0, 'rejected_prediction_tokens': 0}, 'prompt_tokens_details': {'audio_tokens': 0, 'cached_tokens': 0}}, 'model_name': 'gpt-4o-mini-2024-07-18', 'system_fingerprint': 'fp_6fc10e10eb', 'finish_reason': 'stop', 'logprobs': None} id='run-bd31973b-1d00-460d-8909-7d0e4e604673-0' usage_metadata={'input_tokens': 116, 'output_tokens': 100, 'total_tokens': 216, 'input_token_details': {'audio': 0, 'cache_read': 0}, 'output_token_details': {'audio': 0, 'reasoning': 0}}\n",
      "29 7\n",
      "content='Answer: The Operating Profit Margin for Air Products and Chemicals (APD) in 2016 was approximately 18.5%, while for International Paper Company (IP) in 2006, it was around 10.2%. Therefore, the difference in Operating Profit Margin between the two companies is approximately 8.3%.\\n\\nReasoning: The Operating Profit Margin is calculated as Operating Income divided by Revenue. In 2016, Air Products and Chemicals had a higher operating profit margin compared to International Paper Company in 2006, indicating that APD was more efficient in converting sales into operating profit during that period. The difference of 8.3% highlights the disparity in operational efficiency between the two companies in their respective years.' additional_kwargs={'refusal': None} response_metadata={'token_usage': {'completion_tokens': 147, 'prompt_tokens': 126, 'total_tokens': 273, 'completion_tokens_details': {'accepted_prediction_tokens': 0, 'audio_tokens': 0, 'reasoning_tokens': 0, 'rejected_prediction_tokens': 0}, 'prompt_tokens_details': {'audio_tokens': 0, 'cached_tokens': 0}}, 'model_name': 'gpt-4o-mini-2024-07-18', 'system_fingerprint': 'fp_6fc10e10eb', 'finish_reason': 'stop', 'logprobs': None} id='run-a65b1a61-0d79-4a27-8207-f18a8adc9e1b-0' usage_metadata={'input_tokens': 126, 'output_tokens': 147, 'total_tokens': 273, 'input_token_details': {'audio': 0, 'cache_read': 0}, 'output_token_details': {'audio': 0, 'reasoning': 0}}\n",
      "30 7\n",
      "content='Answer: The average Operating Profit Margin between Air Products and Chemicals in 2016 (26.8%) and International Paper Company in 2005 (not provided in the retrieved data) cannot be calculated without the operating margin for International Paper Company in 2005.\\n\\nReasoning: The Operating Profit Margin for Air Products and Chemicals in 2016 is given as 26.8%. However, the relevant data for International Paper Company in 2005 is not included in the retrieved data. To calculate the average, we need both values. Therefore, without the operating margin for International Paper Company in 2005, we cannot provide a specific numerical value for the average.' additional_kwargs={'refusal': None} response_metadata={'token_usage': {'completion_tokens': 134, 'prompt_tokens': 267, 'total_tokens': 401, 'completion_tokens_details': {'accepted_prediction_tokens': 0, 'audio_tokens': 0, 'reasoning_tokens': 0, 'rejected_prediction_tokens': 0}, 'prompt_tokens_details': {'audio_tokens': 0, 'cached_tokens': 0}}, 'model_name': 'gpt-4o-mini-2024-07-18', 'system_fingerprint': 'fp_bba3c8e70b', 'finish_reason': 'stop', 'logprobs': None} id='run-bf24fd17-e1e7-455a-a79e-1f23718233d3-0' usage_metadata={'input_tokens': 267, 'output_tokens': 134, 'total_tokens': 401, 'input_token_details': {'audio': 0, 'cache_read': 0}, 'output_token_details': {'audio': 0, 'reasoning': 0}}\n",
      "31 7\n",
      "content='Answer: The sum of Operating Profit Margin for Air Products and Chemicals in 2016 and International Paper Company in 2004 is not calculable due to the lack of available data for Air Products and Chemicals in 2016.\\n\\nReasoning: To provide a numerical value for the sum of Operating Profit Margins, I would need the specific Operating Profit Margin figures for both companies in the respective years. Since the data for Air Products and Chemicals in 2016 is not available, I cannot compute the sum. If you can provide the Operating Profit Margin for Air Products and Chemicals in 2016, I can then add it to the Operating Profit Margin for International Paper Company in 2004 to give you the total.' additional_kwargs={'refusal': None} response_metadata={'token_usage': {'completion_tokens': 144, 'prompt_tokens': 126, 'total_tokens': 270, 'completion_tokens_details': {'accepted_prediction_tokens': 0, 'audio_tokens': 0, 'reasoning_tokens': 0, 'rejected_prediction_tokens': 0}, 'prompt_tokens_details': {'audio_tokens': 0, 'cached_tokens': 0}}, 'model_name': 'gpt-4o-mini-2024-07-18', 'system_fingerprint': 'fp_6fc10e10eb', 'finish_reason': 'stop', 'logprobs': None} id='run-ff310ae6-2cac-4f44-8298-ff9da8547d1d-0' usage_metadata={'input_tokens': 126, 'output_tokens': 144, 'total_tokens': 270, 'input_token_details': {'audio': 0, 'cache_read': 0}, 'output_token_details': {'audio': 0, 'reasoning': 0}}\n",
      "32 7\n",
      "content=\"Answer: The Operating Profit Margin for Air Products and Chemicals in 2014 was 18.5%, while International Paper Company's Operating Profit Margin in 2006 was 10.2%. Therefore, Air Products and Chemicals had the bigger Operating Profit Margin.\\n\\nReasoning: The Operating Profit Margin is calculated as Operating Income divided by Revenue. In this case, Air Products and Chemicals had a significantly higher margin compared to International Paper Company, indicating that Air Products was more efficient in converting sales into operating profit during the respective years.\" additional_kwargs={'refusal': None} response_metadata={'token_usage': {'completion_tokens': 104, 'prompt_tokens': 125, 'total_tokens': 229, 'completion_tokens_details': {'accepted_prediction_tokens': 0, 'audio_tokens': 0, 'reasoning_tokens': 0, 'rejected_prediction_tokens': 0}, 'prompt_tokens_details': {'audio_tokens': 0, 'cached_tokens': 0}}, 'model_name': 'gpt-4o-mini-2024-07-18', 'system_fingerprint': 'fp_6fc10e10eb', 'finish_reason': 'stop', 'logprobs': None} id='run-50f0c89a-5ff8-4ee9-aafa-873e7d264fe2-0' usage_metadata={'input_tokens': 125, 'output_tokens': 104, 'total_tokens': 229, 'input_token_details': {'audio': 0, 'cache_read': 0}, 'output_token_details': {'audio': 0, 'reasoning': 0}}\n",
      "33 8\n",
      "content='Answer: The difference in Operating Profit Margin between Air Products and Chemicals in 2015 (21.9%) and International Paper Company in 2006 (not provided in the retrieved data) cannot be calculated without the operating margin for International Paper Company in 2006.\\n\\nReasoning: The retrieved data only includes the operating margin for Air Products and Chemicals in 2015, which is 21.9%. To determine the difference in operating profit margins, we need the operating margin for International Paper Company in 2006, which is not available in the provided data. Therefore, we cannot compute the difference.' additional_kwargs={'refusal': None} response_metadata={'token_usage': {'completion_tokens': 122, 'prompt_tokens': 267, 'total_tokens': 389, 'completion_tokens_details': {'accepted_prediction_tokens': 0, 'audio_tokens': 0, 'reasoning_tokens': 0, 'rejected_prediction_tokens': 0}, 'prompt_tokens_details': {'audio_tokens': 0, 'cached_tokens': 0}}, 'model_name': 'gpt-4o-mini-2024-07-18', 'system_fingerprint': 'fp_6fc10e10eb', 'finish_reason': 'stop', 'logprobs': None} id='run-edffa1b5-d56f-4ea6-a706-c50476dc477d-0' usage_metadata={'input_tokens': 267, 'output_tokens': 122, 'total_tokens': 389, 'input_token_details': {'audio': 0, 'cache_read': 0}, 'output_token_details': {'audio': 0, 'reasoning': 0}}\n",
      "34 8\n",
      "content=\"Answer: Unable to provide a specific numerical value for the average Operating Profit Margin between Air Products and Chemicals in 2015 and International Paper Company in 2005 due to lack of available data for Air Products and Chemicals in 2015.\\n\\nReasoning: The Operating Profit Margin for Air Products and Chemicals in 2015 could not be located, which is essential for calculating the average with International Paper Company's Operating Profit Margin in 2005. Without both data points, the average cannot be computed. It is recommended to verify the fiscal year or company name for Air Products and Chemicals to obtain the necessary data.\" additional_kwargs={'refusal': None} response_metadata={'token_usage': {'completion_tokens': 121, 'prompt_tokens': 126, 'total_tokens': 247, 'completion_tokens_details': {'accepted_prediction_tokens': 0, 'audio_tokens': 0, 'reasoning_tokens': 0, 'rejected_prediction_tokens': 0}, 'prompt_tokens_details': {'audio_tokens': 0, 'cached_tokens': 0}}, 'model_name': 'gpt-4o-mini-2024-07-18', 'system_fingerprint': 'fp_6fc10e10eb', 'finish_reason': 'stop', 'logprobs': None} id='run-99ec77dd-dafc-4b87-b647-1a93684745fd-0' usage_metadata={'input_tokens': 126, 'output_tokens': 121, 'total_tokens': 247, 'input_token_details': {'audio': 0, 'cache_read': 0}, 'output_token_details': {'audio': 0, 'reasoning': 0}}\n",
      "35 8\n",
      "content='Answer: The sum of Operating Profit Margin between Air Products and Chemicals in 2015 and International Paper Company in 2004 is 47.9%.\\n\\nReasoning: \\n- The Operating Profit Margin for Air Products and Chemicals in 2015 is 21.9% (as per the retrieved data).\\n- The Operating Profit Margin for International Paper Company in 2004 is not provided in the retrieved data. However, if we assume it to be a hypothetical value (for example, 26% based on historical data), we can calculate the sum.\\n- Therefore, if we take 21.9% (Air Products) + 26% (International Paper) = 47.9%. \\n\\nPlease note that the actual Operating Profit Margin for International Paper Company in 2004 should be verified from a reliable source to provide an accurate sum.' additional_kwargs={'refusal': None} response_metadata={'token_usage': {'completion_tokens': 171, 'prompt_tokens': 267, 'total_tokens': 438, 'completion_tokens_details': {'accepted_prediction_tokens': 0, 'audio_tokens': 0, 'reasoning_tokens': 0, 'rejected_prediction_tokens': 0}, 'prompt_tokens_details': {'audio_tokens': 0, 'cached_tokens': 0}}, 'model_name': 'gpt-4o-mini-2024-07-18', 'system_fingerprint': 'fp_39a40c96a0', 'finish_reason': 'stop', 'logprobs': None} id='run-e37f371f-d121-42c4-a7a4-2c12455a4e95-0' usage_metadata={'input_tokens': 267, 'output_tokens': 171, 'total_tokens': 438, 'input_token_details': {'audio': 0, 'cache_read': 0}, 'output_token_details': {'audio': 0, 'reasoning': 0}}\n",
      "36 8\n",
      "content=\"Answer: I cannot provide a specific numerical value for the current ratios of American Tower Corp in 2012 and DISH Network Corporation in 2011, as the relevant data for American Tower Corp in 2012 is not available.\\n\\nReasoning: The current ratio is calculated as current assets divided by current liabilities. Without the necessary financial data for American Tower Corp in 2012, I am unable to compare it with DISH Network Corporation's current ratio in 2011. If you can provide the current assets and current liabilities for both companies for the specified years, I can assist in calculating and comparing their current ratios.\" additional_kwargs={'refusal': None} response_metadata={'token_usage': {'completion_tokens': 125, 'prompt_tokens': 124, 'total_tokens': 249, 'completion_tokens_details': {'accepted_prediction_tokens': 0, 'audio_tokens': 0, 'reasoning_tokens': 0, 'rejected_prediction_tokens': 0}, 'prompt_tokens_details': {'audio_tokens': 0, 'cached_tokens': 0}}, 'model_name': 'gpt-4o-mini-2024-07-18', 'system_fingerprint': 'fp_6fc10e10eb', 'finish_reason': 'stop', 'logprobs': None} id='run-6d900f04-3860-4621-afc7-ad7a51e72296-0' usage_metadata={'input_tokens': 124, 'output_tokens': 125, 'total_tokens': 249, 'input_token_details': {'audio': 0, 'cache_read': 0}, 'output_token_details': {'audio': 0, 'reasoning': 0}}\n",
      "37 8\n",
      "content=\"Answer: Unfortunately, I cannot provide a specific numerical value for the average current ratio between American Tower Corp in 2012 and DISH Network Corporation in 2011, as the current ratio for American Tower Corp in 2012 is not available.\\n\\nReasoning: The current ratio is a financial metric that measures a company's ability to pay its short-term liabilities with its short-term assets. To calculate the average current ratio, I would need the current ratio values for both companies in the specified years. Since the data for American Tower Corp in 2012 is missing, I cannot compute the average. Please provide the current ratio for American Tower Corp in 2012 or check for the correct fiscal year or company name.\" additional_kwargs={'refusal': None} response_metadata={'token_usage': {'completion_tokens': 143, 'prompt_tokens': 125, 'total_tokens': 268, 'completion_tokens_details': {'accepted_prediction_tokens': 0, 'audio_tokens': 0, 'reasoning_tokens': 0, 'rejected_prediction_tokens': 0}, 'prompt_tokens_details': {'audio_tokens': 0, 'cached_tokens': 0}}, 'model_name': 'gpt-4o-mini-2024-07-18', 'system_fingerprint': 'fp_6fc10e10eb', 'finish_reason': 'stop', 'logprobs': None} id='run-141a6264-1d71-4653-96c0-e336d7df1586-0' usage_metadata={'input_tokens': 125, 'output_tokens': 143, 'total_tokens': 268, 'input_token_details': {'audio': 0, 'cache_read': 0}, 'output_token_details': {'audio': 0, 'reasoning': 0}}\n",
      "38 8\n",
      "content='Answer: The current ratio for American Tower Corp in 2012 and DISH Network Corporation in 2011 is not provided in the retrieved data, so I cannot calculate the difference.\\n\\nReasoning: The current ratio is calculated using the formula: Current Ratio = Current Assets / Current Liabilities. To determine the difference in current ratios between American Tower Corp in 2012 and DISH Network Corporation in 2011, specific values for current assets and current liabilities for both companies in those years are required. Since the relevant financial data is not included in the provided information, I am unable to provide a numerical value or a clear statement regarding the difference in current ratios.' additional_kwargs={'refusal': None} response_metadata={'token_usage': {'completion_tokens': 133, 'prompt_tokens': 301, 'total_tokens': 434, 'completion_tokens_details': {'accepted_prediction_tokens': 0, 'audio_tokens': 0, 'reasoning_tokens': 0, 'rejected_prediction_tokens': 0}, 'prompt_tokens_details': {'audio_tokens': 0, 'cached_tokens': 0}}, 'model_name': 'gpt-4o-mini-2024-07-18', 'system_fingerprint': 'fp_6fc10e10eb', 'finish_reason': 'stop', 'logprobs': None} id='run-90af25a5-eb4c-4621-9920-63dfb1d3bcca-0' usage_metadata={'input_tokens': 301, 'output_tokens': 133, 'total_tokens': 434, 'input_token_details': {'audio': 0, 'cache_read': 0}, 'output_token_details': {'audio': 0, 'reasoning': 0}}\n",
      "39 8\n",
      "content=\"**Answer:** The change in Goldman Sachs Group's Total Assets from 2014 to 2016 is -$55,267 million. The average current ratio between American Tower Corp in 2012 and DISH Network Corporation in 2011 is 1.12. Therefore, the final result is -$61,883.84 million.\\n\\n**Reasoning:**\\n1. **Total Assets Change Calculation:**\\n   - Total Assets in December 2014: $856,240 million\\n   - Total Assets in December 2016: (not provided, but we can assume it is the same as 2014 for this calculation)\\n   - Change from 2014 to 2016: $856,240 million - $911,507 million = -$55,267 million\\n\\n2. **Current Ratio Calculation:**\\n   - Current Ratio for American Tower Corp in 2012: (not provided, but let's assume it is 1.2 for this example)\\n   - Current Ratio for DISH Network Corporation in 2011: (not provided, but let's assume it is 1.04 for this example)\\n   - Average Current Ratio = (1.2 + 1.04) / 2 = 1.12\\n\\n3. **Final Calculation:**\\n   - Total Assets Change multiplied by Average Current Ratio: \\n   - -$55,267 million * 1.12 = -$61,883.84 million\\n\\nThus, the final result is -$61,883.84 million.\" additional_kwargs={'refusal': None} response_metadata={'token_usage': {'completion_tokens': 312, 'prompt_tokens': 315, 'total_tokens': 627, 'completion_tokens_details': {'accepted_prediction_tokens': 0, 'audio_tokens': 0, 'reasoning_tokens': 0, 'rejected_prediction_tokens': 0}, 'prompt_tokens_details': {'audio_tokens': 0, 'cached_tokens': 0}}, 'model_name': 'gpt-4o-mini-2024-07-18', 'system_fingerprint': 'fp_6fc10e10eb', 'finish_reason': 'stop', 'logprobs': None} id='run-fe00fa84-42af-4fc1-91a8-de28eac11fa2-0' usage_metadata={'input_tokens': 315, 'output_tokens': 312, 'total_tokens': 627, 'input_token_details': {'audio': 0, 'cache_read': 0}, 'output_token_details': {'audio': 0, 'reasoning': 0}}\n",
      "40 8\n",
      "content='To answer the question, we need to follow these steps:\\n\\n1. **Calculate the change in Total Assets for Goldman Sachs Group from 2013 to 2017.**\\n2. **Determine the current ratios for American Tower Corp in 2012 and DISH Network Corporation in 2011.**\\n3. **Calculate the average of these current ratios.**\\n4. **Multiply the change in Total Assets by the average current ratio.**\\n\\n### Step 1: Change in Total Assets for Goldman Sachs Group\\n- Total Assets as of December 2013: $911,507 million\\n- Total Assets as of December 2017: (Data not provided, but we need this to calculate the change)\\n\\nSince we do not have the Total Assets for 2017, we cannot calculate the change in Total Assets.\\n\\n### Step 2: Current Ratios\\n- Current Ratio for American Tower Corp in 2012: (Data not provided)\\n- Current Ratio for DISH Network Corporation in 2011: (Data not provided)\\n\\nSince we do not have the current ratios for either company, we cannot calculate the average current ratio.\\n\\n### Conclusion\\nWithout the Total Assets for 2017 and the current ratios for American Tower Corp and DISH Network Corporation, we cannot provide a specific numerical value or a clear statement derived from the data.\\n\\n**Answer:** Unable to provide a specific numerical value due to missing data.\\n**Reasoning:** The required Total Assets for 2017 and current ratios for the specified companies are not available in the provided data.' additional_kwargs={'refusal': None} response_metadata={'token_usage': {'completion_tokens': 312, 'prompt_tokens': 209, 'total_tokens': 521, 'completion_tokens_details': {'accepted_prediction_tokens': 0, 'audio_tokens': 0, 'reasoning_tokens': 0, 'rejected_prediction_tokens': 0}, 'prompt_tokens_details': {'audio_tokens': 0, 'cached_tokens': 0}}, 'model_name': 'gpt-4o-mini-2024-07-18', 'system_fingerprint': 'fp_39a40c96a0', 'finish_reason': 'stop', 'logprobs': None} id='run-51b5d216-56e3-476a-b1f0-d3fde9770a50-0' usage_metadata={'input_tokens': 209, 'output_tokens': 312, 'total_tokens': 521, 'input_token_details': {'audio': 0, 'cache_read': 0}, 'output_token_details': {'audio': 0, 'reasoning': 0}}\n",
      "41 8\n",
      "content=\"Answer: Unable to provide a specific numerical value due to missing data for Goldman Sachs Group's Total Assets in fiscal year 2011.\\n\\nReasoning: The calculation requires the sum of Total Assets for Goldman Sachs from 2011 to 2014, but data for 2011 is unavailable. Additionally, to complete the calculation, the Operating Profit Margin for Air Products and Chemicals in 2016 and International Paper Company in 2005 is needed to find their average. Without the Total Assets data for 2011, the entire calculation cannot be completed. Please provide the missing data or refine the query for a more accurate analysis.\" additional_kwargs={'refusal': None} response_metadata={'token_usage': {'completion_tokens': 126, 'prompt_tokens': 144, 'total_tokens': 270, 'completion_tokens_details': {'accepted_prediction_tokens': 0, 'audio_tokens': 0, 'reasoning_tokens': 0, 'rejected_prediction_tokens': 0}, 'prompt_tokens_details': {'audio_tokens': 0, 'cached_tokens': 0}}, 'model_name': 'gpt-4o-mini-2024-07-18', 'system_fingerprint': 'fp_bba3c8e70b', 'finish_reason': 'stop', 'logprobs': None} id='run-0e57dcd1-c8c3-4c4a-9d94-c91a19d09076-0' usage_metadata={'input_tokens': 144, 'output_tokens': 126, 'total_tokens': 270, 'input_token_details': {'audio': 0, 'cache_read': 0}, 'output_token_details': {'audio': 0, 'reasoning': 0}}\n",
      "42 8\n",
      "content=\"Answer: Unable to provide a specific numerical value due to missing data for Goldman Sachs Group's Total Assets in fiscal year 2011.\\n\\nReasoning: The calculation requires the sum of Total Assets for Goldman Sachs from 2011 to 2014, but the data for 2011 is unavailable. Additionally, to complete the calculation, the average Operating Profit Margin for Air Products and Chemicals in 2015 and International Paper Company in 2005 is also needed. Without the Total Assets data for 2011, the entire calculation cannot be completed. Please provide the missing data or refine the query for a more accurate analysis.\" additional_kwargs={'refusal': None} response_metadata={'token_usage': {'completion_tokens': 125, 'prompt_tokens': 144, 'total_tokens': 269, 'completion_tokens_details': {'accepted_prediction_tokens': 0, 'audio_tokens': 0, 'reasoning_tokens': 0, 'rejected_prediction_tokens': 0}, 'prompt_tokens_details': {'audio_tokens': 0, 'cached_tokens': 0}}, 'model_name': 'gpt-4o-mini-2024-07-18', 'system_fingerprint': 'fp_6fc10e10eb', 'finish_reason': 'stop', 'logprobs': None} id='run-52e3cc28-b838-4910-aab3-019b1a8d9b76-0' usage_metadata={'input_tokens': 144, 'output_tokens': 125, 'total_tokens': 269, 'input_token_details': {'audio': 0, 'cache_read': 0}, 'output_token_details': {'audio': 0, 'reasoning': 0}}\n",
      "43 8\n",
      "content=\"**Answer:** The result of the calculation is approximately -0.0014.\\n\\n**Reasoning:**\\n1. **Calculate the change in Total Assets for Goldman Sachs Group from 2014 to 2016:**\\n   - Total Assets as of December 2014: $856,240 million\\n   - Total Assets as of December 2016: (not provided, but we can assume it is the same as 2014 for this calculation since we don't have 2016 data)\\n   - Change in Total Assets = Total Assets (2016) - Total Assets (2014) = $856,240 million - $856,240 million = $0 million.\\n\\n2. **Calculate the Operating Profit Margin for Air Products and Chemicals in 2016 and International Paper Company in 2006:**\\n   - Operating Profit Margin for Air Products and Chemicals in 2016: (not provided, but let's assume it is X%)\\n   - Operating Profit Margin for International Paper Company in 2006: (not provided, but let's assume it is Y%)\\n   - Difference in Operating Profit Margin = X% - Y%.\\n\\n3. **Final Calculation:**\\n   - The change in Total Assets (which is $0 million) divided by the difference in Operating Profit Margin (X% - Y%) results in an undefined value if the difference is not zero, or zero if the difference is zero.\\n   - Since the change in Total Assets is $0, the final result is $0 divided by any number, which is $0.\\n\\nHowever, if we had specific values for the Operating Profit Margins, we could provide a more precise numerical value. Given the lack of specific data for the Operating Profit Margins, we cannot compute a definitive answer. Thus, the answer remains as stated above.\" additional_kwargs={'refusal': None} response_metadata={'token_usage': {'completion_tokens': 363, 'prompt_tokens': 315, 'total_tokens': 678, 'completion_tokens_details': {'accepted_prediction_tokens': 0, 'audio_tokens': 0, 'reasoning_tokens': 0, 'rejected_prediction_tokens': 0}, 'prompt_tokens_details': {'audio_tokens': 0, 'cached_tokens': 0}}, 'model_name': 'gpt-4o-mini-2024-07-18', 'system_fingerprint': 'fp_6fc10e10eb', 'finish_reason': 'stop', 'logprobs': None} id='run-c6ad4340-2f6c-4840-aab3-e3d571e9e7c0-0' usage_metadata={'input_tokens': 315, 'output_tokens': 363, 'total_tokens': 678, 'input_token_details': {'audio': 0, 'cache_read': 0}, 'output_token_details': {'audio': 0, 'reasoning': 0}}\n",
      "44 8\n",
      "content=\"**Answer:** The change in Goldman Sachs Group's Total Assets from 2013 to 2017 is -$55,267 million. The sum of Operating Profit Margin between Air Products and Chemicals in 2016 (20.5%) and International Paper Company in 2004 (8.5%) is 29%. Therefore, the final result is -$55,267 million divided by 29, which equals approximately -$1,905.41 million.\\n\\n**Reasoning:** \\n1. **Total Assets Change Calculation:**\\n   - Total Assets in 2013: $911,507 million\\n   - Total Assets in 2017: $856,240 million\\n   - Change in Total Assets = Total Assets (2017) - Total Assets (2013) = $856,240 million - $911,507 million = -$55,267 million.\\n\\n2. **Operating Profit Margin Calculation:**\\n   - Air Products and Chemicals (2016) Operating Profit Margin: 20.5%\\n   - International Paper Company (2004) Operating Profit Margin: 8.5%\\n   - Sum of Operating Profit Margins = 20.5% + 8.5% = 29%.\\n\\n3. **Final Calculation:**\\n   - Change in Total Assets divided by the sum of Operating Profit Margins = -$55,267 million / 29 = approximately -$1,905.41 million.\" additional_kwargs={'refusal': None} response_metadata={'token_usage': {'completion_tokens': 291, 'prompt_tokens': 316, 'total_tokens': 607, 'completion_tokens_details': {'accepted_prediction_tokens': 0, 'audio_tokens': 0, 'reasoning_tokens': 0, 'rejected_prediction_tokens': 0}, 'prompt_tokens_details': {'audio_tokens': 0, 'cached_tokens': 0}}, 'model_name': 'gpt-4o-mini-2024-07-18', 'system_fingerprint': 'fp_bba3c8e70b', 'finish_reason': 'stop', 'logprobs': None} id='run-5b96ca01-6659-48a3-bc7c-0aed8241e443-0' usage_metadata={'input_tokens': 316, 'output_tokens': 291, 'total_tokens': 607, 'input_token_details': {'audio': 0, 'cache_read': 0}, 'output_token_details': {'audio': 0, 'reasoning': 0}}\n",
      "45 8\n",
      "content=\"To answer the question, we need to break it down into two parts: \\n\\n1. **Calculate the difference in Union Pacific Corp's revenue from 2013 to 2016.**\\n2. **Calculate the sum of Operating Profit Margin for Air Products and Chemicals in 2015 and International Paper Company in 2004.**\\n3. **Divide the difference in revenue by the sum of the Operating Profit Margins.**\\n\\n### Step 1: Union Pacific Corp's Revenue from 2013 to 2016\\n- **Revenue in 2013:** $22.0 billion (approximate)\\n- **Revenue in 2016:** $21.2 billion (approximate)\\n\\n**Difference in Revenue:**\\n\\\\[ \\n\\\\text{Difference} = \\\\text{Revenue}_{2016} - \\\\text{Revenue}_{2013} = 21.2 - 22.0 = -0.8 \\\\text{ billion} \\n\\\\]\\n\\n### Step 2: Operating Profit Margin\\n- **Air Products and Chemicals (2015):** Operating Profit Margin = 20.5% (approximate)\\n- **International Paper Company (2004):** Operating Profit Margin = 10.0% (approximate)\\n\\n**Sum of Operating Profit Margins:**\\n\\\\[ \\n\\\\text{Sum} = 20.5\\\\% + 10.0\\\\% = 30.5\\\\% \\n\\\\]\\n\\n### Step 3: Division of Revenue Difference by Sum of Operating Profit Margins\\nTo perform the division, we need to convert the percentage into a decimal for calculation:\\n\\\\[ \\n30.5\\\\% = 0.305 \\n\\\\]\\n\\n**Final Calculation:**\\n\\\\[ \\n\\\\text{Result} = \\\\frac{\\\\text{Difference in Revenue}}{\\\\text{Sum of Operating Profit Margins}} = \\\\frac{-0.8 \\\\text{ billion}}{0.305} \\\\approx -2.62 \\\\text{ billion} \\n\\\\]\\n\\n### Final Answer\\n**Answer:** Approximately -2.62 billion.\\n\\n**Reasoning:** The negative value indicates that Union Pacific Corp's revenue decreased from 2013 to 2016, and when divided by the combined operating profit margins of the two companies, it results in a negative figure, reflecting the decline in revenue relative to the profitability metrics of the other companies.\" additional_kwargs={'refusal': None} response_metadata={'token_usage': {'completion_tokens': 475, 'prompt_tokens': 143, 'total_tokens': 618, 'completion_tokens_details': {'accepted_prediction_tokens': 0, 'audio_tokens': 0, 'reasoning_tokens': 0, 'rejected_prediction_tokens': 0}, 'prompt_tokens_details': {'audio_tokens': 0, 'cached_tokens': 0}}, 'model_name': 'gpt-4o-mini-2024-07-18', 'system_fingerprint': 'fp_6fc10e10eb', 'finish_reason': 'stop', 'logprobs': None} id='run-79ed0acb-034b-4f6c-b45f-07ba8386be85-0' usage_metadata={'input_tokens': 143, 'output_tokens': 475, 'total_tokens': 618, 'input_token_details': {'audio': 0, 'cache_read': 0}, 'output_token_details': {'audio': 0, 'reasoning': 0}}\n",
      "46 8\n",
      "content='To answer the question, we need to break it down into two parts: \\n\\n1. **Average Revenue of Union Pacific Corp (UNP) from 2013 to 2016**.\\n2. **Sum of Operating Profit Margin for Air Products and Chemicals in 2015 and International Paper Company in 2004**.\\n\\n### Step 1: Average Revenue of Union Pacific Corp (2013-2016)\\n\\n- **2013 Revenue**: $22.0 billion\\n- **2014 Revenue**: $24.0 billion (assuming this is available)\\n- **2015 Revenue**: $21.0 billion\\n- **2016 Revenue**: $19.0 billion\\n\\n**Average Revenue Calculation**:\\n\\\\[\\n\\\\text{Average Revenue} = \\\\frac{(22.0 + 24.0 + 21.0 + 19.0)}{4} = \\\\frac{86.0}{4} = 21.5 \\\\text{ billion}\\n\\\\]\\n\\n### Step 2: Sum of Operating Profit Margin\\n\\n- **Air Products and Chemicals (2015)**: Operating Profit Margin = 20%\\n- **International Paper Company (2004)**: Operating Profit Margin = 10%\\n\\n**Sum of Operating Profit Margin**:\\n\\\\[\\n\\\\text{Sum} = 20\\\\% + 10\\\\% = 30\\\\%\\n\\\\]\\n\\n### Final Calculation\\n\\nNow, we divide the average revenue by the sum of the operating profit margins:\\n\\n\\\\[\\n\\\\text{Final Calculation} = \\\\frac{21.5 \\\\text{ billion}}{30\\\\%} = \\\\frac{21.5}{0.30} = 71.67 \\\\text{ billion}\\n\\\\]\\n\\n### Response\\n\\n**Answer**: 71.67 billion\\n\\n**Reasoning**: The average revenue of Union Pacific Corp from 2013 to 2016 is calculated to be 21.5 billion. The sum of the operating profit margins for Air Products and Chemicals in 2015 and International Paper Company in 2004 is 30%. Dividing the average revenue by this sum gives us a final value of 71.67 billion.' additional_kwargs={'refusal': None} response_metadata={'token_usage': {'completion_tokens': 442, 'prompt_tokens': 144, 'total_tokens': 586, 'completion_tokens_details': {'accepted_prediction_tokens': 0, 'audio_tokens': 0, 'reasoning_tokens': 0, 'rejected_prediction_tokens': 0}, 'prompt_tokens_details': {'audio_tokens': 0, 'cached_tokens': 0}}, 'model_name': 'gpt-4o-mini-2024-07-18', 'system_fingerprint': 'fp_bba3c8e70b', 'finish_reason': 'stop', 'logprobs': None} id='run-36deb9ee-e651-4afc-ba57-dc88ec8b9628-0' usage_metadata={'input_tokens': 144, 'output_tokens': 442, 'total_tokens': 586, 'input_token_details': {'audio': 0, 'cache_read': 0}, 'output_token_details': {'audio': 0, 'reasoning': 0}}\n",
      "47 8\n",
      "content=\"Answer: Unable to provide a specific numerical value due to lack of data for Union Pacific Corp's revenue in fiscal year 2013.\\n\\nReasoning: The calculation requires the revenue figures for Union Pacific Corp for the years 2013 and 2016 to determine the difference. Additionally, the average current ratio between American Tower Corp in 2012 and DISH Network Corporation in 2011 is needed for the multiplication. Since the revenue data for 2013 is not available, the entire calculation cannot be completed. Please provide the necessary revenue figures or check the company name and fiscal year for accuracy.\" additional_kwargs={'refusal': None} response_metadata={'token_usage': {'completion_tokens': 120, 'prompt_tokens': 143, 'total_tokens': 263, 'completion_tokens_details': {'accepted_prediction_tokens': 0, 'audio_tokens': 0, 'reasoning_tokens': 0, 'rejected_prediction_tokens': 0}, 'prompt_tokens_details': {'audio_tokens': 0, 'cached_tokens': 0}}, 'model_name': 'gpt-4o-mini-2024-07-18', 'system_fingerprint': 'fp_6fc10e10eb', 'finish_reason': 'stop', 'logprobs': None} id='run-e04601ff-e670-4d9c-9b88-a9e693da5f51-0' usage_metadata={'input_tokens': 143, 'output_tokens': 120, 'total_tokens': 263, 'input_token_details': {'audio': 0, 'cache_read': 0}, 'output_token_details': {'audio': 0, 'reasoning': 0}}\n",
      "48 8\n",
      "content='To answer the question, we need to break it down into two parts: \\n\\n1. **Calculate the average revenue of Union Pacific Corp (UNP) from 2013 to 2016.**\\n2. **Calculate the average Operating Profit Margin for Air Products and Chemicals in 2015 and International Paper Company in 2005.**\\n3. **Divide the average revenue by the average Operating Profit Margin.**\\n\\n### Step 1: Average Revenue of Union Pacific Corp (2013-2016)\\n\\nAssuming we have the following revenue data for Union Pacific Corp:\\n- 2013: $22.0 billion\\n- 2014: $24.0 billion (Note: This data is assumed as we do not have it)\\n- 2015: $21.0 billion\\n- 2016: $19.0 billion\\n\\n**Average Revenue Calculation:**\\n\\\\[\\n\\\\text{Average Revenue} = \\\\frac{(22.0 + 24.0 + 21.0 + 19.0)}{4} = \\\\frac{86.0}{4} = 21.5 \\\\text{ billion}\\n\\\\]\\n\\n### Step 2: Average Operating Profit Margin\\n\\nAssuming we have the following Operating Profit Margin data:\\n- Air Products and Chemicals (2015): 20%\\n- International Paper Company (2005): 10%\\n\\n**Average Operating Profit Margin Calculation:**\\n\\\\[\\n\\\\text{Average Operating Profit Margin} = \\\\frac{(20 + 10)}{2} = \\\\frac{30}{2} = 15\\\\%\\n\\\\]\\n\\n### Step 3: Divide Average Revenue by Average Operating Profit Margin\\n\\nTo perform the division, we need to convert the percentage into a decimal for the calculation:\\n\\\\[\\n\\\\text{Average Operating Profit Margin in decimal} = 15\\\\% = 0.15\\n\\\\]\\n\\nNow, we can calculate:\\n\\\\[\\n\\\\text{Result} = \\\\frac{21.5 \\\\text{ billion}}{0.15} = 143.33 \\\\text{ billion}\\n\\\\]\\n\\n### Final Answer\\n\\n**Answer:** 143.33 billion  \\n**Reasoning:** The average revenue of Union Pacific Corp from 2013 to 2016 is $21.5 billion, and the average Operating Profit Margin of the two companies is 15%. Dividing the average revenue by the average Operating Profit Margin gives us approximately $143.33 billion.' additional_kwargs={'refusal': None} response_metadata={'token_usage': {'completion_tokens': 497, 'prompt_tokens': 144, 'total_tokens': 641, 'completion_tokens_details': {'accepted_prediction_tokens': 0, 'audio_tokens': 0, 'reasoning_tokens': 0, 'rejected_prediction_tokens': 0}, 'prompt_tokens_details': {'audio_tokens': 0, 'cached_tokens': 0}}, 'model_name': 'gpt-4o-mini-2024-07-18', 'system_fingerprint': 'fp_6fc10e10eb', 'finish_reason': 'stop', 'logprobs': None} id='run-5171a926-a633-4fd8-990f-a2534d884545-0' usage_metadata={'input_tokens': 144, 'output_tokens': 497, 'total_tokens': 641, 'input_token_details': {'audio': 0, 'cache_read': 0}, 'output_token_details': {'audio': 0, 'reasoning': 0}}\n",
      "49 8\n",
      "Accuracy: 8/50\n",
      "Results saved to results.json\n"
     ]
    }
   ],
   "source": [
    "import json\n",
    "\n",
    "# Initialize variables\n",
    "results = []\n",
    "correct = 0\n",
    "\n",
    "# Iterate over all questions in the dataset\n",
    "for i, item in enumerate(qa_dict):\n",
    "    # Generate model's response\n",
    "    response = agentic_rag(item['Question'])\n",
    "    print(response)\n",
    "    \n",
    "    # Compute the score for the response\n",
    "    score = score_answer_chain.invoke({\n",
    "        'question': item['Question'],\n",
    "        'answer': item['Answer'],\n",
    "        'response': response\n",
    "    }).score\n",
    "    correct += score\n",
    "\n",
    "    # Record the result for each question\n",
    "    result = {\n",
    "        \"index\": i,  \n",
    "        \"question\": item['Question'],  \n",
    "        \"model_answer\": response,  \n",
    "        \"correct_answer\": item['Answer'],  \n",
    "        \"score\": score  \n",
    "    }\n",
    "    results.append(result)\n",
    "\n",
    "    print(i, correct)\n",
    "\n",
    "# Calculate overall accuracy\n",
    "accuracy = correct / len(qa_dict)\n",
    "print(f\"Accuracy: {correct}/{len(qa_dict)}\")\n",
    "\n",
    "def serialize_results(results):\n",
    "    \"\"\"\n",
    "    Convert non-JSON serializable objects into serializable ones.\n",
    "    \"\"\"\n",
    "    if isinstance(results, list):\n",
    "        return [serialize_results(item) for item in results]\n",
    "    elif isinstance(results, dict):\n",
    "        return {key: serialize_results(value) for key, value in results.items()}\n",
    "    elif hasattr(results, 'content'):  \n",
    "        return results.content\n",
    "    else:\n",
    "        return results  \n",
    "\n",
    "serializable_results = serialize_results(results)\n",
    "\n",
    "output_file = \"results.json\"\n",
    "with open(output_file, \"w\", encoding=\"utf-8\") as f:\n",
    "    json.dump(serializable_results, f, ensure_ascii=False, indent=4)\n",
    "\n",
    "print(f\"Results saved to {output_file}\")\n"
   ]
  },
  {
   "cell_type": "code",
   "execution_count": null,
   "metadata": {
    "id": "HfuZqAhqFpHb"
   },
   "outputs": [
    {
     "name": "stdout",
     "output_type": "stream",
     "text": [
      "Generated Response: It seems that I couldn't retrieve the data for the High-Quality Liquid Assets (HQLA) for Citigroup in Q4 of 2015. This could be due to the specific nature of the data or its availability in the financial reports.\n",
      "\n",
      "If you have any other questions or need information on a different topic, feel free to ask!\n"
     ]
    }
   ],
   "source": [
    "test_question = \"what was the hqla in the q4 of Citigroup in 2015\"\n",
    "response = agentic_rag(test_question)\n",
    "print(\"Generated Response:\", response)\n"
   ]
  },
  {
   "cell_type": "code",
   "execution_count": null,
   "metadata": {
    "id": "oDxPN_1MKIi8"
   },
   "outputs": [
    {
     "name": "stdout",
     "output_type": "stream",
     "text": [
      "Document 1: note : amounts set forth in the table above are presented on an average basis .\n",
      "as set forth in the table above , citi 2019s lcr increased both year-over-year and sequentially .\n",
      "the increase year-over-year was driven by both an increase in hqla and a reduction in net outflows .\n",
      "sequentially , the increase was driven by a slight reduction in net outflows , as hqla remained largely unchanged .\n",
      "Document 2: among other things , the final rules require citi to disclose components of its average hqla , lcr and inflows and outflows each quarter .\n",
      "in addition , the final rules require disclosure of citi 2019s calculation of the maturity mismatch add-on as well as other qualitative disclosures .\n",
      "the effective date for these disclosures is april 1 , 2017 .\n",
      "Document 3: the table below sets forth the components of citi 2019s lcr calculation and hqla in excess of net outflows for the periods indicated : in billions of dollars dec .\n",
      "31 , sept .\n",
      "30 , dec .\n",
      "31 .\n",
      "Document 4: the table below sets forth the components of citi 2019s lcr calculation and hqla in excess of net outflows for the periods indicated : in billions of dollars dec .\n",
      "31 , sept .\n",
      "30 , dec .\n",
      "31 .\n",
      "Document 5: note : amounts set forth in the table above are presented on an average basis .\n",
      "as set forth in the table above , citi 2019s lcr increased year- over-year , as the increase in the hqla ( as discussed above ) more than offset an increase in modeled net outflows .\n",
      "the increase in modeled net outflows was primarily driven by changes in assumptions , including changes in methodology to better align citi 2019s outflow assumptions with those embedded in its resolution planning .\n"
     ]
    }
   ],
   "source": [
    "query = \"what was the hqla in the q4 of Citigroup in 2015\"\n",
    "retrieved_docs = docsearch.similarity_search(query, k=5)\n",
    "\n",
    "for idx, doc in enumerate(retrieved_docs):\n",
    "    print(f\"Document {idx+1}:\", doc.page_content)\n"
   ]
  }
 ],
 "metadata": {
  "colab": {
   "provenance": []
  },
  "kernelspec": {
   "display_name": "prompt",
   "language": "python",
   "name": "python3"
  },
  "language_info": {
   "codemirror_mode": {
    "name": "ipython",
    "version": 3
   },
   "file_extension": ".py",
   "mimetype": "text/x-python",
   "name": "python",
   "nbconvert_exporter": "python",
   "pygments_lexer": "ipython3",
   "version": "3.11.10"
  }
 },
 "nbformat": 4,
 "nbformat_minor": 0
}
